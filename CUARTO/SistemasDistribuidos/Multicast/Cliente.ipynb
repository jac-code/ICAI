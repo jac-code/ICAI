{
 "cells": [
  {
   "cell_type": "markdown",
   "id": "65fd79a6",
   "metadata": {},
   "source": [
    "# MULTICAST"
   ]
  },
  {
   "cell_type": "markdown",
   "id": "cb744c3c",
   "metadata": {},
   "source": [
    "Apartado 1"
   ]
  },
  {
   "cell_type": "code",
   "execution_count": 1,
   "id": "73d02011",
   "metadata": {},
   "outputs": [
    {
     "name": "stdout",
     "output_type": "stream",
     "text": [
      "Introduzca el mensaje a enviar: Hola\n",
      "RX:  Hello this is user 2\n",
      "Introduzca el mensaje a enviar: Adios\n",
      "RX:  Hola\n",
      "Introduzca el mensaje a enviar: \n",
      "RX:  Adios\n",
      "Cliente abandona el grupo\n"
     ]
    }
   ],
   "source": [
    "import socket\n",
    "import struct\n",
    "\n",
    "MCAST_GRP = '224.1.1.1'\n",
    "MCAST_PORT = 5007\n",
    "\n",
    "sock = socket.socket(socket.AF_INET, socket.SOCK_DGRAM, socket.IPPROTO_UDP)\n",
    "sock.setsockopt(socket.SOL_SOCKET, socket.SO_REUSEADDR, 1)\n",
    "\n",
    "#Usar '' para esuchar y escribir en el socket\n",
    "#Usar MCAST_GRP para escuchar solo en el socket\n",
    "sock.bind(('', MCAST_PORT))\n",
    "sock.sendto(str.encode(\"Hello this is user 1\"), (MCAST_GRP, MCAST_PORT))\n",
    "\n",
    "mreq = struct.pack(\"4sl\", socket.inet_aton(MCAST_GRP), socket.INADDR_ANY)\n",
    "sock.setsockopt(socket.IPPROTO_IP, socket.IP_ADD_MEMBERSHIP, mreq)\n",
    "\n",
    "#Establecer el ttl\n",
    "ttl = struct.pack('b',1)\n",
    "sock.setsockopt(socket.IPPROTO_IP, socket.IP_MULTICAST_TTL, ttl)\n",
    "\n",
    "msg = \"\"\n",
    "while str(msg) != \"Adios\":\n",
    "    mensaje_tx = str.encode(input('Introduzca el mensaje a enviar: '))\n",
    "    sock.sendto(mensaje_tx, (MCAST_GRP, MCAST_PORT))\n",
    "    msg = sock.recv(1024).decode()\n",
    "    print(\"RX: \", msg)\n",
    "    \n",
    "print(\"Cliente abandona el grupo\")                       \n",
    "sock.close()    "
   ]
  },
  {
   "cell_type": "markdown",
   "id": "8d546606",
   "metadata": {},
   "source": [
    "Apartado 2"
   ]
  },
  {
   "cell_type": "code",
   "execution_count": null,
   "id": "12a8fc86",
   "metadata": {},
   "outputs": [],
   "source": []
  }
 ],
 "metadata": {
  "kernelspec": {
   "display_name": "Python 3",
   "language": "python",
   "name": "python3"
  },
  "language_info": {
   "codemirror_mode": {
    "name": "ipython",
    "version": 3
   },
   "file_extension": ".py",
   "mimetype": "text/x-python",
   "name": "python",
   "nbconvert_exporter": "python",
   "pygments_lexer": "ipython3",
   "version": "3.8.8"
  }
 },
 "nbformat": 4,
 "nbformat_minor": 5
}
