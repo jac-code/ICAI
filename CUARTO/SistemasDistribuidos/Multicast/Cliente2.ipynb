{
 "cells": [
  {
   "cell_type": "markdown",
   "id": "163fedec",
   "metadata": {},
   "source": [
    "\n",
    "# MULTICAST"
   ]
  },
  {
   "cell_type": "markdown",
   "id": "c94606ef",
   "metadata": {},
   "source": [
    "Apartado 1"
   ]
  },
  {
   "cell_type": "markdown",
   "id": "4da411f6",
   "metadata": {},
   "source": [
    "Este cliente está escuchando constantemente en el grupo de multicast hasta que reciba un mensaje de Adios, en ese momento abandonará el grupo y cerrará la conexión"
   ]
  },
  {
   "cell_type": "code",
   "execution_count": 1,
   "id": "458e97fe",
   "metadata": {},
   "outputs": [
    {
     "name": "stdout",
     "output_type": "stream",
     "text": [
      "RX:  hola\n",
      "RX:  Adios\n",
      "Cliente abandona el grupo\n"
     ]
    }
   ],
   "source": [
    "import socket\n",
    "import struct\n",
    "\n",
    "MCAST_GRP = '224.1.1.1'\n",
    "MCAST_PORT = 5007\n",
    "\n",
    "sock = socket.socket(socket.AF_INET, socket.SOCK_DGRAM, socket.IPPROTO_UDP)\n",
    "sock.setsockopt(socket.SOL_SOCKET, socket.SO_REUSEADDR, 1)\n",
    "\n",
    "#Usar '' para esuchar y escribir en el socket\n",
    "#Usar MCAST_GRP para escuchar solo en el socket\n",
    "sock.bind(('', MCAST_PORT))\n",
    "sock.sendto(str.encode(\"Hello this is user 2\"), (MCAST_GRP, MCAST_PORT))\n",
    "\n",
    "mreq = struct.pack(\"4sl\", socket.inet_aton(MCAST_GRP), socket.INADDR_ANY)\n",
    "sock.setsockopt(socket.IPPROTO_IP, socket.IP_ADD_MEMBERSHIP, mreq)\n",
    "\n",
    "#Establecer el ttl\n",
    "ttl = struct.pack('b',1)\n",
    "sock.setsockopt(socket.IPPROTO_IP, socket.IP_MULTICAST_TTL, ttl)\n",
    "\n",
    "msg = \"\"\n",
    "while str(msg) != \"Adios\":\n",
    "    msg = sock.recv(1024).decode()\n",
    "    print(\"RX: \", msg)\n",
    "    \n",
    "print(\"Cliente abandona el grupo\")                       \n",
    "sock.close() "
   ]
  },
  {
   "cell_type": "markdown",
   "id": "544d99fe",
   "metadata": {},
   "source": [
    "Apartado 2"
   ]
  },
  {
   "cell_type": "markdown",
   "id": "50d1e640",
   "metadata": {},
   "source": [
    "Este cliente es una copia del cliente del otro notebook que participa en el grupo"
   ]
  },
  {
   "cell_type": "code",
   "execution_count": 6,
   "id": "ff28a7e1",
   "metadata": {},
   "outputs": [
    {
     "name": "stdout",
     "output_type": "stream",
     "text": [
      "Introduzca el mensaje a enviar: holaa\n",
      "Thread User 2: holaa\n",
      "Introduzca el mensaje a enviar: quit\n",
      "Thread User 2: quit\n"
     ]
    },
    {
     "name": "stderr",
     "output_type": "stream",
     "text": [
      "Exception in thread Thread-10:\n",
      "Traceback (most recent call last):\n",
      "  File \"C:\\Users\\javie\\anaconda3\\lib\\threading.py\", line 932, in _bootstrap_inner\n",
      "    self.run()\n",
      "  File \"C:\\Users\\javie\\anaconda3\\lib\\threading.py\", line 870, in run\n",
      "    self._target(*self._args, **self._kwargs)\n",
      "  File \"<ipython-input-6-295baae872ba>\", line 32, in time_function\n",
      "OSError: [WinError 10038] Se intentó realizar una operación en un elemento que no es un socket\n"
     ]
    }
   ],
   "source": [
    "import socket\n",
    "import struct\n",
    "import pickle\n",
    "import threading\n",
    "\n",
    "MCAST_GRP = '224.1.1.1'\n",
    "MCAST_PORT = 5007\n",
    "\n",
    "# identificador del cliente\n",
    "user_id = 2\n",
    "\n",
    "sock = socket.socket(socket.AF_INET, socket.SOCK_DGRAM, socket.IPPROTO_UDP)\n",
    "sock.setsockopt(socket.SOL_SOCKET, socket.SO_REUSEADDR, 1)\n",
    "\n",
    "#Usar '' para esuchar y escribir en el socket\n",
    "#Usar MCAST_GRP para escuchar solo en el socket\n",
    "sock.bind(('', MCAST_PORT))\n",
    "mensaje_bienvenida = 'Hello this is user 2'\n",
    "bytes_bienvenida = pickle.dumps([mensaje_bienvenida, user_id])\n",
    "sock.sendto(bytes_bienvenida, (MCAST_GRP, MCAST_PORT))\n",
    "\n",
    "mreq = struct.pack(\"4sl\", socket.inet_aton(MCAST_GRP), socket.INADDR_ANY)\n",
    "sock.setsockopt(socket.IPPROTO_IP, socket.IP_ADD_MEMBERSHIP, mreq)\n",
    "\n",
    "#Establecer el ttl\n",
    "ttl = struct.pack('b', 1)\n",
    "sock.setsockopt(socket.IPPROTO_IP, socket.IP_MULTICAST_TTL, ttl)\n",
    "\n",
    "def time_function(name):\n",
    "    global stop\n",
    "    while stop == False:\n",
    "        msg = sock.recv(1024)\n",
    "        mensaje = pickle.loads(msg)\n",
    "        print(\"Thread User \" + str(mensaje[1]) + \": \" + str(mensaje[0]))\n",
    "    \n",
    "    print(\"Cliente abandona el grupo\")\n",
    "    sock.close()\n",
    "    \n",
    "stop = False\n",
    "reader = threading.Thread(target=time_function, args=(user_id,))\n",
    "reader.start()\n",
    "\n",
    "while stop == False:\n",
    "    mensaje_tx = input('Introduzca el mensaje a enviar: ')\n",
    "    bytes_tx = pickle.dumps([mensaje_tx, user_id])\n",
    "    sock.sendto(bytes_tx, (MCAST_GRP, MCAST_PORT))\n",
    "    if mensaje_tx == \"quit\":\n",
    "        stop = True\n",
    "        break\n",
    "                          \n",
    "sock.close()"
   ]
  }
 ],
 "metadata": {
  "kernelspec": {
   "display_name": "Python 3",
   "language": "python",
   "name": "python3"
  },
  "language_info": {
   "codemirror_mode": {
    "name": "ipython",
    "version": 3
   },
   "file_extension": ".py",
   "mimetype": "text/x-python",
   "name": "python",
   "nbconvert_exporter": "python",
   "pygments_lexer": "ipython3",
   "version": "3.8.8"
  }
 },
 "nbformat": 4,
 "nbformat_minor": 5
}
