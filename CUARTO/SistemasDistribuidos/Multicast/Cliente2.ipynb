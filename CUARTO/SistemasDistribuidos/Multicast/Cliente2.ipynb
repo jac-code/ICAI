{
 "cells": [
  {
   "cell_type": "markdown",
   "id": "163fedec",
   "metadata": {},
   "source": [
    "\n",
    "# MULTICAST"
   ]
  },
  {
   "cell_type": "markdown",
   "id": "c94606ef",
   "metadata": {},
   "source": [
    "Apartado 1"
   ]
  },
  {
   "cell_type": "code",
   "execution_count": 1,
   "id": "458e97fe",
   "metadata": {},
   "outputs": [
    {
     "name": "stdout",
     "output_type": "stream",
     "text": [
      "RX:  Hola\n",
      "RX:  Adios\n",
      "Cliente abandona el grupo\n"
     ]
    }
   ],
   "source": [
    "import socket\n",
    "import struct\n",
    "\n",
    "MCAST_GRP = '224.1.1.1'\n",
    "MCAST_PORT = 5007\n",
    "\n",
    "sock = socket.socket(socket.AF_INET, socket.SOCK_DGRAM, socket.IPPROTO_UDP)\n",
    "sock.setsockopt(socket.SOL_SOCKET, socket.SO_REUSEADDR, 1)\n",
    "\n",
    "#Usar '' para esuchar y escribir en el socket\n",
    "#Usar MCAST_GRP para escuchar solo en el socket\n",
    "sock.bind(('', MCAST_PORT))\n",
    "sock.sendto(str.encode(\"Hello this is user 2\"), (MCAST_GRP, MCAST_PORT))\n",
    "\n",
    "mreq = struct.pack(\"4sl\", socket.inet_aton(MCAST_GRP), socket.INADDR_ANY)\n",
    "sock.setsockopt(socket.IPPROTO_IP, socket.IP_ADD_MEMBERSHIP, mreq)\n",
    "\n",
    "#Establecer el ttl\n",
    "ttl = struct.pack('b',1)\n",
    "sock.setsockopt(socket.IPPROTO_IP, socket.IP_MULTICAST_TTL, ttl)\n",
    "\n",
    "msg = \"\"\n",
    "while str(msg) != \"Adios\":\n",
    "    msg = sock.recv(1024).decode()\n",
    "    print(\"RX: \", msg)\n",
    "    \n",
    "print(\"Cliente abandona el grupo\")                       \n",
    "sock.close() "
   ]
  },
  {
   "cell_type": "markdown",
   "id": "544d99fe",
   "metadata": {},
   "source": [
    "Apartado 2"
   ]
  },
  {
   "cell_type": "code",
   "execution_count": null,
   "id": "ff28a7e1",
   "metadata": {},
   "outputs": [],
   "source": [
    "import socket\n",
    "import struct\n",
    "\n",
    "MCAST_GRP = '224.1.1.1'\n",
    "MCAST_PORT = 5007\n",
    "\n",
    "user_id = 2\n",
    "\n",
    "sock = socket.socket(socket.AF_INET, socket.SOCK_DGRAM, socket.IPPROTO_UDP)\n",
    "sock.setsockopt(socket.SOL_SOCKET, socket.SO_REUSEADDR, 1)\n",
    "\n",
    "#Usar '' para esuchar y escribir en el socket\n",
    "#Usar MCAST_GRP para escuchar solo en el socket\n",
    "sock.bind(('', MCAST_PORT))\n",
    "sock.sendto(str.encode(\"Hello this is user 2\"), (MCAST_GRP, MCAST_PORT))\n",
    "\n",
    "mreq = struct.pack(\"4sl\", socket.inet_aton(MCAST_GRP), socket.INADDR_ANY)\n",
    "sock.setsockopt(socket.IPPROTO_IP, socket.IP_ADD_MEMBERSHIP, mreq)\n",
    "\n",
    "#Establecer el ttl\n",
    "ttl = struct.pack('b',1)\n",
    "sock.setsockopt(socket.IPPROTO_IP, socket.IP_MULTICAST_TTL, ttl)\n",
    "\n",
    "msg = \"\"\n",
    "while str(msg) != \"Adios\":\n",
    "    msg = sock.recv(1024).decode()\n",
    "    print(\"RX: \", msg)\n",
    "    \n",
    "print(\"Cliente abandona el grupo\")                       \n",
    "sock.close() "
   ]
  }
 ],
 "metadata": {
  "kernelspec": {
   "display_name": "Python 3",
   "language": "python",
   "name": "python3"
  },
  "language_info": {
   "codemirror_mode": {
    "name": "ipython",
    "version": 3
   },
   "file_extension": ".py",
   "mimetype": "text/x-python",
   "name": "python",
   "nbconvert_exporter": "python",
   "pygments_lexer": "ipython3",
   "version": "3.8.8"
  }
 },
 "nbformat": 4,
 "nbformat_minor": 5
}
