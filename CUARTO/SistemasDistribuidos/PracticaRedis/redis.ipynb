{
 "cells": [
  {
   "cell_type": "markdown",
   "id": "173e8a83",
   "metadata": {},
   "source": [
    "orden de arranque --> ubun3, ubun1, ubun2"
   ]
  },
  {
   "cell_type": "markdown",
   "id": "c37c4084",
   "metadata": {},
   "source": [
    "hay que levantar los servidores --> archivos .conf y slv.conf"
   ]
  },
  {
   "cell_type": "code",
   "execution_count": 2,
   "id": "d4704ce3",
   "metadata": {},
   "outputs": [],
   "source": [
    "import redis\n",
    "\n",
    "r1 = redis.Redis(host='127.0.0.1', port=7000)\n",
    "r2 = redis.Redis(host='127.0.0.1', port=7002)\n",
    "r3 = redis.Redis(host='127.0.0.1', port=7004)"
   ]
  },
  {
   "cell_type": "code",
   "execution_count": 3,
   "id": "3f547156",
   "metadata": {
    "scrolled": false
   },
   "outputs": [
    {
     "data": {
      "text/plain": [
       "True"
      ]
     },
     "execution_count": 3,
     "metadata": {},
     "output_type": "execute_result"
    }
   ],
   "source": [
    "r1.set('admin', 'jaime')"
   ]
  },
  {
   "cell_type": "code",
   "execution_count": 4,
   "id": "d22cdff7",
   "metadata": {},
   "outputs": [
    {
     "data": {
      "text/plain": [
       "b'jaime'"
      ]
     },
     "execution_count": 4,
     "metadata": {},
     "output_type": "execute_result"
    }
   ],
   "source": [
    "r1.get('admin')"
   ]
  },
  {
   "cell_type": "code",
   "execution_count": 19,
   "id": "1ca49869",
   "metadata": {},
   "outputs": [
    {
     "name": "stdout",
     "output_type": "stream",
     "text": [
      "Nodo 3 exitoso\n"
     ]
    }
   ],
   "source": [
    "try:\n",
    "    r1.set('foo', 'bar')\n",
    "    print('Nodo 1 exitoso')\n",
    "except:\n",
    "    try:\n",
    "        r2.set('foo', 'bar')\n",
    "        print('Nodo 2 exitoso')\n",
    "    except:\n",
    "        try:\n",
    "            r3.set('foo','bar')\n",
    "            print('Nodo 3 exitoso')\n",
    "        except:\n",
    "            print('No se puede completar la acción')"
   ]
  },
  {
   "cell_type": "markdown",
   "id": "9c3d81bd",
   "metadata": {},
   "source": [
    "REDISCLUSTER NO HA FUNCIONADO --> NO LEE LA LIBRERIA --> UTILIZAMOS CRMOD"
   ]
  },
  {
   "cell_type": "code",
   "execution_count": null,
   "id": "39cbdce6",
   "metadata": {
    "scrolled": false
   },
   "outputs": [],
   "source": [
    "from rediscluster import RedisCluster\n",
    "\n",
    "startup_nodes = [{\"host\": \"127.0.0.1\", \"port\": \"7000\"}]\n",
    "rc = RedisCluster(startup_nodes=startup_nodes, decode_responses=True)\n",
    "\n",
    "rc.cluster_keyslot(\"foo\")"
   ]
  },
  {
   "cell_type": "code",
   "execution_count": 7,
   "id": "babc01a4",
   "metadata": {},
   "outputs": [],
   "source": [
    "import crcmod\n",
    "def getSlot(key):\n",
    "    crc16 = crcmod.mkCrcFun(0x11021, rev=False, initCrc=0x0000, xorOut=0x0000)\n",
    "    return crc16(key) % 16384"
   ]
  },
  {
   "cell_type": "code",
   "execution_count": 8,
   "id": "e78f9d06",
   "metadata": {},
   "outputs": [
    {
     "data": {
      "text/plain": [
       "12182"
      ]
     },
     "execution_count": 8,
     "metadata": {},
     "output_type": "execute_result"
    }
   ],
   "source": [
    "getSlot(b'foo')"
   ]
  },
  {
   "cell_type": "code",
   "execution_count": 5,
   "id": "4182f90f",
   "metadata": {},
   "outputs": [],
   "source": [
    "SlotToServer = dict([(i, r1) for i in range(5461)] + [(j, r2) for j in range(5461, 10923)] + [(k, r3) for k in range(10923, 16384)])"
   ]
  },
  {
   "cell_type": "code",
   "execution_count": 9,
   "id": "81ff3dc4",
   "metadata": {},
   "outputs": [
    {
     "data": {
      "text/plain": [
       "True"
      ]
     },
     "execution_count": 9,
     "metadata": {},
     "output_type": "execute_result"
    }
   ],
   "source": [
    "r = SlotToServer[getSlot(b'foo')]\n",
    "r.set('foo', 'bar')"
   ]
  },
  {
   "cell_type": "markdown",
   "id": "b2596bce",
   "metadata": {},
   "source": [
    "Apartado 1.5"
   ]
  },
  {
   "cell_type": "markdown",
   "id": "7039d185",
   "metadata": {},
   "source": [
    "SET / GET"
   ]
  },
  {
   "cell_type": "code",
   "execution_count": 10,
   "id": "a04932e7",
   "metadata": {},
   "outputs": [
    {
     "data": {
      "text/plain": [
       "True"
      ]
     },
     "execution_count": 10,
     "metadata": {},
     "output_type": "execute_result"
    }
   ],
   "source": [
    "r = SlotToServer[getSlot(b'foo')]\n",
    "r.set('foo', 'bar')"
   ]
  },
  {
   "cell_type": "code",
   "execution_count": 11,
   "id": "72d52fde",
   "metadata": {},
   "outputs": [
    {
     "data": {
      "text/plain": [
       "b'bar'"
      ]
     },
     "execution_count": 11,
     "metadata": {},
     "output_type": "execute_result"
    }
   ],
   "source": [
    "r.get('foo')"
   ]
  },
  {
   "cell_type": "markdown",
   "id": "41869a63",
   "metadata": {},
   "source": [
    "INCR"
   ]
  },
  {
   "cell_type": "code",
   "execution_count": 17,
   "id": "88e2860e",
   "metadata": {},
   "outputs": [],
   "source": [
    "r = SlotToServer[getSlot(b'logincount')]"
   ]
  },
  {
   "cell_type": "code",
   "execution_count": 18,
   "id": "e9e51662",
   "metadata": {},
   "outputs": [
    {
     "data": {
      "text/plain": [
       "True"
      ]
     },
     "execution_count": 18,
     "metadata": {},
     "output_type": "execute_result"
    }
   ],
   "source": [
    "r.set('logincount', 1)"
   ]
  },
  {
   "cell_type": "code",
   "execution_count": 19,
   "id": "9a716db6",
   "metadata": {},
   "outputs": [
    {
     "data": {
      "text/plain": [
       "2"
      ]
     },
     "execution_count": 19,
     "metadata": {},
     "output_type": "execute_result"
    }
   ],
   "source": [
    "r.incr('logincount')"
   ]
  },
  {
   "cell_type": "code",
   "execution_count": 20,
   "id": "0d7de718",
   "metadata": {},
   "outputs": [
    {
     "data": {
      "text/plain": [
       "b'2'"
      ]
     },
     "execution_count": 20,
     "metadata": {},
     "output_type": "execute_result"
    }
   ],
   "source": [
    "r.get('logincount')"
   ]
  },
  {
   "cell_type": "markdown",
   "id": "b242cf31",
   "metadata": {},
   "source": [
    "LISTAS"
   ]
  },
  {
   "cell_type": "code",
   "execution_count": 21,
   "id": "2b869189",
   "metadata": {},
   "outputs": [],
   "source": [
    "r = SlotToServer[getSlot(b'users')]"
   ]
  },
  {
   "cell_type": "code",
   "execution_count": 23,
   "id": "e7e67518",
   "metadata": {},
   "outputs": [
    {
     "data": {
      "text/plain": [
       "2"
      ]
     },
     "execution_count": 23,
     "metadata": {},
     "output_type": "execute_result"
    }
   ],
   "source": [
    "r.lpush('users', 'steve', 'bob')"
   ]
  },
  {
   "cell_type": "code",
   "execution_count": 24,
   "id": "94b88059",
   "metadata": {},
   "outputs": [
    {
     "data": {
      "text/plain": [
       "b'steve'"
      ]
     },
     "execution_count": 24,
     "metadata": {},
     "output_type": "execute_result"
    }
   ],
   "source": [
    "r.lindex('users', 1)"
   ]
  },
  {
   "cell_type": "code",
   "execution_count": 27,
   "id": "09e4a40a",
   "metadata": {},
   "outputs": [
    {
     "data": {
      "text/plain": [
       "[b'bob', b'steve']"
      ]
     },
     "execution_count": 27,
     "metadata": {},
     "output_type": "execute_result"
    }
   ],
   "source": [
    "r.lrange('users', 0 , -1)"
   ]
  },
  {
   "cell_type": "markdown",
   "id": "ee740194",
   "metadata": {},
   "source": [
    "SETS"
   ]
  },
  {
   "cell_type": "code",
   "execution_count": 28,
   "id": "2919cf07",
   "metadata": {},
   "outputs": [],
   "source": [
    "r = SlotToServer[getSlot(b'fruits')]"
   ]
  },
  {
   "cell_type": "code",
   "execution_count": 29,
   "id": "f0b7b3bf",
   "metadata": {},
   "outputs": [
    {
     "data": {
      "text/plain": [
       "2"
      ]
     },
     "execution_count": 29,
     "metadata": {},
     "output_type": "execute_result"
    }
   ],
   "source": [
    "r.sadd('fruits', 'apples', 'oranges')"
   ]
  },
  {
   "cell_type": "code",
   "execution_count": 30,
   "id": "ca1ca023",
   "metadata": {},
   "outputs": [
    {
     "data": {
      "text/plain": [
       "{b'apples', b'oranges'}"
      ]
     },
     "execution_count": 30,
     "metadata": {},
     "output_type": "execute_result"
    }
   ],
   "source": [
    "r.smembers('fruits')"
   ]
  },
  {
   "cell_type": "code",
   "execution_count": 31,
   "id": "13b39c86",
   "metadata": {},
   "outputs": [
    {
     "data": {
      "text/plain": [
       "True"
      ]
     },
     "execution_count": 31,
     "metadata": {},
     "output_type": "execute_result"
    }
   ],
   "source": [
    "r.sismember('fruits', 'oranges')"
   ]
  },
  {
   "cell_type": "code",
   "execution_count": 32,
   "id": "1da26e01",
   "metadata": {},
   "outputs": [
    {
     "data": {
      "text/plain": [
       "False"
      ]
     },
     "execution_count": 32,
     "metadata": {},
     "output_type": "execute_result"
    }
   ],
   "source": [
    "r.sismember('fruits', 'melon')"
   ]
  },
  {
   "cell_type": "markdown",
   "id": "70016b80",
   "metadata": {},
   "source": [
    "HASHES"
   ]
  },
  {
   "cell_type": "code",
   "execution_count": 35,
   "id": "11387819",
   "metadata": {},
   "outputs": [],
   "source": [
    "r = SlotToServer[getSlot(b'team')]"
   ]
  },
  {
   "cell_type": "code",
   "execution_count": 37,
   "id": "06850f09",
   "metadata": {},
   "outputs": [
    {
     "data": {
      "text/plain": [
       "1"
      ]
     },
     "execution_count": 37,
     "metadata": {},
     "output_type": "execute_result"
    }
   ],
   "source": [
    "r.hset('team', 'numPlayers', 20)"
   ]
  },
  {
   "cell_type": "code",
   "execution_count": 38,
   "id": "c3bf2b64",
   "metadata": {},
   "outputs": [
    {
     "data": {
      "text/plain": [
       "1"
      ]
     },
     "execution_count": 38,
     "metadata": {},
     "output_type": "execute_result"
    }
   ],
   "source": [
    "r.hset('team', 'trainers', 4)"
   ]
  },
  {
   "cell_type": "code",
   "execution_count": 40,
   "id": "d544f477",
   "metadata": {},
   "outputs": [
    {
     "data": {
      "text/plain": [
       "b'20'"
      ]
     },
     "execution_count": 40,
     "metadata": {},
     "output_type": "execute_result"
    }
   ],
   "source": [
    "r.hget('team', 'numPlayers')"
   ]
  },
  {
   "cell_type": "code",
   "execution_count": 39,
   "id": "4fdad7d3",
   "metadata": {},
   "outputs": [
    {
     "data": {
      "text/plain": [
       "b'4'"
      ]
     },
     "execution_count": 39,
     "metadata": {},
     "output_type": "execute_result"
    }
   ],
   "source": [
    "r.hget('team', 'trainers')"
   ]
  },
  {
   "cell_type": "markdown",
   "id": "f2b3ace4",
   "metadata": {},
   "source": [
    "SORTED SET"
   ]
  },
  {
   "cell_type": "code",
   "execution_count": 68,
   "id": "411848f3",
   "metadata": {},
   "outputs": [],
   "source": [
    "r = SlotToServer[getSlot(b'RMFans')]"
   ]
  },
  {
   "cell_type": "code",
   "execution_count": 70,
   "id": "4dc2bf8b",
   "metadata": {},
   "outputs": [
    {
     "data": {
      "text/plain": [
       "0"
      ]
     },
     "execution_count": 70,
     "metadata": {},
     "output_type": "execute_result"
    }
   ],
   "source": [
    "r.zadd('RMFans', {'javier':50124,'kylian':2})"
   ]
  },
  {
   "cell_type": "code",
   "execution_count": 72,
   "id": "1e462c29",
   "metadata": {},
   "outputs": [
    {
     "data": {
      "text/plain": [
       "[(b'kylian', 2.0), (b'javier', 50124.0)]"
      ]
     },
     "execution_count": 72,
     "metadata": {},
     "output_type": "execute_result"
    }
   ],
   "source": [
    "r.zrange('RMFans', 0, 1, withscores=True)"
   ]
  },
  {
   "cell_type": "markdown",
   "id": "7e39b93c",
   "metadata": {},
   "source": [
    "PUBLISH"
   ]
  },
  {
   "cell_type": "code",
   "execution_count": 81,
   "id": "c1aeceeb",
   "metadata": {},
   "outputs": [],
   "source": [
    "r = SlotToServer[getSlot(b'channel')]"
   ]
  },
  {
   "cell_type": "code",
   "execution_count": null,
   "id": "674cf0bd",
   "metadata": {},
   "outputs": [],
   "source": [
    "p = r.pubsub()\n",
    "p.subscribe('ondacero:103.7')"
   ]
  },
  {
   "cell_type": "code",
   "execution_count": null,
   "id": "d360bc7a",
   "metadata": {},
   "outputs": [],
   "source": [
    "p = r.pubsub()\n",
    "p.subscribe('cope:99.9')"
   ]
  },
  {
   "cell_type": "code",
   "execution_count": 98,
   "id": "297c3973",
   "metadata": {},
   "outputs": [
    {
     "data": {
      "text/plain": [
       "0"
      ]
     },
     "execution_count": 98,
     "metadata": {},
     "output_type": "execute_result"
    }
   ],
   "source": [
    "r.publish('channel', 'cope:99.9')"
   ]
  },
  {
   "cell_type": "code",
   "execution_count": 96,
   "id": "80d44342",
   "metadata": {},
   "outputs": [
    {
     "data": {
      "text/plain": [
       "0"
      ]
     },
     "execution_count": 96,
     "metadata": {},
     "output_type": "execute_result"
    }
   ],
   "source": [
    "r.publish('channel', 'ondacero:103.7')"
   ]
  },
  {
   "cell_type": "code",
   "execution_count": 97,
   "id": "e4ae0e5d",
   "metadata": {},
   "outputs": [],
   "source": [
    "p = r.pubsub()\n",
    "p.subscribe('ondacero:103.7')"
   ]
  },
  {
   "cell_type": "markdown",
   "id": "2faae5d9",
   "metadata": {},
   "source": [
    "GEO"
   ]
  },
  {
   "cell_type": "code",
   "execution_count": 85,
   "id": "7d8b860e",
   "metadata": {},
   "outputs": [],
   "source": [
    "r = SlotToServer[getSlot(b'ubicaciones')]"
   ]
  },
  {
   "cell_type": "code",
   "execution_count": 87,
   "id": "024c920b",
   "metadata": {},
   "outputs": [
    {
     "data": {
      "text/plain": [
       "1"
      ]
     },
     "execution_count": 87,
     "metadata": {},
     "output_type": "execute_result"
    }
   ],
   "source": [
    "r.geoadd('ubicaciones', 40.471028, -3.807628, 'casaJaime')"
   ]
  },
  {
   "cell_type": "code",
   "execution_count": 88,
   "id": "7f0530bb",
   "metadata": {},
   "outputs": [
    {
     "data": {
      "text/plain": [
       "1"
      ]
     },
     "execution_count": 88,
     "metadata": {},
     "output_type": "execute_result"
    }
   ],
   "source": [
    "r.geoadd('ubicaciones', 40.4950654269385, -3.714126648731461, 'casaJavi')"
   ]
  },
  {
   "cell_type": "code",
   "execution_count": 89,
   "id": "28836bdd",
   "metadata": {},
   "outputs": [
    {
     "data": {
      "text/plain": [
       "10736.772"
      ]
     },
     "execution_count": 89,
     "metadata": {},
     "output_type": "execute_result"
    }
   ],
   "source": [
    "r.geodist('ubicaciones', 'casaJaime', 'casaJavi')"
   ]
  }
 ],
 "metadata": {
  "kernelspec": {
   "display_name": "Python 3 (ipykernel)",
   "language": "python",
   "name": "python3"
  },
  "language_info": {
   "codemirror_mode": {
    "name": "ipython",
    "version": 3
   },
   "file_extension": ".py",
   "mimetype": "text/x-python",
   "name": "python",
   "nbconvert_exporter": "python",
   "pygments_lexer": "ipython3",
   "version": "3.9.7"
  }
 },
 "nbformat": 4,
 "nbformat_minor": 5
}
