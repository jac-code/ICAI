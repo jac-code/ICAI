{
 "cells": [
  {
   "cell_type": "markdown",
   "id": "3ae3692e",
   "metadata": {},
   "source": [
    "SIMULAR OTRO USUARIO PARA EL PUBLISH / SUBSCRIBE"
   ]
  },
  {
   "cell_type": "code",
   "execution_count": 13,
   "id": "acb18c32",
   "metadata": {},
   "outputs": [],
   "source": [
    "import redis\n",
    "\n",
    "r1 = redis.Redis(host='127.0.0.1', port=7000)\n",
    "r2 = redis.Redis(host='127.0.0.1', port=7002)\n",
    "r3 = redis.Redis(host='127.0.0.1', port=7004)"
   ]
  },
  {
   "cell_type": "markdown",
   "id": "5b4b1b46",
   "metadata": {},
   "source": [
    "probamos la conexión"
   ]
  },
  {
   "cell_type": "code",
   "execution_count": 8,
   "id": "c70f3e08",
   "metadata": {},
   "outputs": [
    {
     "data": {
      "text/plain": [
       "b'jaime'"
      ]
     },
     "execution_count": 8,
     "metadata": {},
     "output_type": "execute_result"
    }
   ],
   "source": [
    "r1.get('admin')"
   ]
  },
  {
   "cell_type": "markdown",
   "id": "e64b9c96",
   "metadata": {},
   "source": [
    "sender = publisher, receiver = subscriber, channel = medio"
   ]
  },
  {
   "cell_type": "code",
   "execution_count": 25,
   "id": "8b2055ab",
   "metadata": {},
   "outputs": [],
   "source": [
    "consumer = r1.pubsub()"
   ]
  },
  {
   "cell_type": "code",
   "execution_count": null,
   "id": "92d0bec6",
   "metadata": {},
   "outputs": [],
   "source": [
    "consumer.subscribe('channel-radio')"
   ]
  },
  {
   "cell_type": "markdown",
   "id": "1ecbae3f",
   "metadata": {},
   "source": [
    "vemos el mensaje justo despues de publicar desde el otro codigo la cadena de radio esradio --> cada vez que queramos ver si hay algo nuevo hay que llamar a consumer.get_message()"
   ]
  },
  {
   "cell_type": "code",
   "execution_count": 38,
   "id": "33bf9030",
   "metadata": {},
   "outputs": [
    {
     "data": {
      "text/plain": [
       "{'type': 'message',\n",
       " 'pattern': None,\n",
       " 'channel': b'channel-radio',\n",
       " 'data': b'esradio:94.5'}"
      ]
     },
     "execution_count": 38,
     "metadata": {},
     "output_type": "execute_result"
    }
   ],
   "source": [
    "consumer.get_message()"
   ]
  },
  {
   "cell_type": "markdown",
   "id": "dbe423f7",
   "metadata": {},
   "source": [
    "se ha creado otro channel llamado channel-tv"
   ]
  },
  {
   "cell_type": "code",
   "execution_count": 39,
   "id": "ecfbece4",
   "metadata": {},
   "outputs": [],
   "source": [
    "consumer.subscribe('channel-tv')"
   ]
  },
  {
   "cell_type": "code",
   "execution_count": 42,
   "id": "1ebcd6fd",
   "metadata": {},
   "outputs": [],
   "source": [
    "consumer.get_message()"
   ]
  },
  {
   "cell_type": "markdown",
   "id": "70df2347",
   "metadata": {},
   "source": [
    "como no hay nada publicado no aparece nada nuevo"
   ]
  },
  {
   "cell_type": "code",
   "execution_count": 41,
   "id": "644ea256",
   "metadata": {},
   "outputs": [
    {
     "data": {
      "text/plain": [
       "{b'channel-radio': None, b'channel-tv': None}"
      ]
     },
     "execution_count": 41,
     "metadata": {},
     "output_type": "execute_result"
    }
   ],
   "source": [
    "consumer.channels"
   ]
  },
  {
   "cell_type": "markdown",
   "id": "d8f67109",
   "metadata": {},
   "source": [
    "añadimos desde el otro codigo nueva info al channel --> veremos la nueva info"
   ]
  },
  {
   "cell_type": "code",
   "execution_count": 43,
   "id": "53ad739c",
   "metadata": {},
   "outputs": [
    {
     "data": {
      "text/plain": [
       "{'type': 'message', 'pattern': None, 'channel': b'channel-tv', 'data': b'La1'}"
      ]
     },
     "execution_count": 43,
     "metadata": {},
     "output_type": "execute_result"
    }
   ],
   "source": [
    "consumer.get_message()"
   ]
  }
 ],
 "metadata": {
  "kernelspec": {
   "display_name": "Python 3 (ipykernel)",
   "language": "python",
   "name": "python3"
  },
  "language_info": {
   "codemirror_mode": {
    "name": "ipython",
    "version": 3
   },
   "file_extension": ".py",
   "mimetype": "text/x-python",
   "name": "python",
   "nbconvert_exporter": "python",
   "pygments_lexer": "ipython3",
   "version": "3.9.7"
  }
 },
 "nbformat": 4,
 "nbformat_minor": 5
}
