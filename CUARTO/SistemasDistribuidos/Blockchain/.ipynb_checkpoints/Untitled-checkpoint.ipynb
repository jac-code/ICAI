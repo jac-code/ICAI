{
 "cells": [
  {
   "cell_type": "markdown",
   "id": "572aa419",
   "metadata": {},
   "source": [
    "CLASE BLOQUE - BLOCKCHAIN"
   ]
  },
  {
   "cell_type": "markdown",
   "id": "8359ed44",
   "metadata": {},
   "source": [
    "APARTADO 1.1"
   ]
  },
  {
   "cell_type": "code",
   "execution_count": 1,
   "id": "8b4cd26b",
   "metadata": {},
   "outputs": [],
   "source": [
    "import hashlib\n",
    "import json\n",
    "import time"
   ]
  },
  {
   "cell_type": "code",
   "execution_count": 33,
   "id": "d5039c3c",
   "metadata": {},
   "outputs": [],
   "source": [
    "class Block():\n",
    "    def __init__(self, index, transactions, timestamp, previous_hash):\n",
    "        \"\"\"\n",
    "        Constructor for the class Block\n",
    "        index --> unique ID number for the block\n",
    "        transaction --> LIST of transaction\n",
    "        timestamp --> creation time of the Block\n",
    "        previous_hash --> hash value of the previous Block\n",
    "\n",
    "        \"\"\"\n",
    "        self.index = index\n",
    "        self.transactions = transactions\n",
    "        self.timestamp = timestamp\n",
    "        self.previous_hash = previous_hash\n",
    "        \n",
    "    \n",
    "    def compute_hash(self):\n",
    "        \"\"\"\n",
    "        calculate hash --> hash sobre toda la información del bloque\n",
    "        \"\"\"\n",
    "        # creamos un json del bloque \n",
    "        block_string = json.dumps(self.__dict__, sort_keys = True)\n",
    "        \n",
    "        # creamos hash del json creado\n",
    "        hashed_block_string = hashlib.sha256(block_string.encode('utf-8')).hexdigest()\n",
    "        \n",
    "        return hashed_block_string \n"
   ]
  },
  {
   "cell_type": "code",
   "execution_count": 4,
   "id": "1b4ac6a5",
   "metadata": {},
   "outputs": [
    {
     "data": {
      "text/plain": [
       "'268b3626a44ab7a87f2f0c7ee6e95c30b4ab1755fa96a2508125259340a9e339'"
      ]
     },
     "execution_count": 4,
     "metadata": {},
     "output_type": "execute_result"
    }
   ],
   "source": [
    "bloque = Block(1,2,3,4)\n",
    "bloque.compute_hash()"
   ]
  },
  {
   "cell_type": "markdown",
   "id": "65b1e7e1",
   "metadata": {},
   "source": [
    "APARTADO 1.2 "
   ]
  },
  {
   "cell_type": "code",
   "execution_count": 248,
   "id": "0747f81f",
   "metadata": {},
   "outputs": [],
   "source": [
    "class Blockchain():\n",
    "    def __init__(self, difficulty=2):\n",
    "        \"\"\"\n",
    "        difficulty --> para que solo ponga dos ceros en el hash\n",
    "        \"\"\"\n",
    "        self.unconfirmed_transactions = []\n",
    "        self.chain = []\n",
    "        self.create_genesis_block()\n",
    "        self.difficulty = difficulty\n",
    "        \n",
    "    def create_genesis_block(self):\n",
    "        genesis_block = Block(0, [], time.time(), \"0\")\n",
    "        genesis_block.current_hash = genesis_block.compute_hash()\n",
    "        self.chain.append(genesis_block)\n",
    "    \n",
    "    def proof_of_work(self, bloque_nuevo):\n",
    "        bloque_nuevo.nonce = 0 # añadimos atributo nonce\n",
    "        while(True):\n",
    "            hash_del_bloque = bloque_nuevo.compute_hash()\n",
    "            first_caracters = hash_del_bloque[0 : (self.difficulty)]\n",
    "\n",
    "            if first_caracters != \"0\"*self.difficulty:\n",
    "                bloque_nuevo.nonce += 1\n",
    "            else:\n",
    "                break\n",
    "        return hash_del_bloque\n",
    "    \n",
    "    def is_valid_proof(self, nuevo_hash, bloque):\n",
    "        # hash del bloque = nuevo_hash\n",
    "        if bloque.compute_hash() == nuevo_hash:\n",
    "            hash_del_bloque = nuevo_hash\n",
    "            first_caracters = hash_del_bloque[0 : (self.difficulty)]\n",
    "            if first_caracters == \"0\"*self.difficulty: \n",
    "                print(\"correcto\")\n",
    "                return True\n",
    "            else:\n",
    "                print(\"EL NUEVO HASH: \", nuevo_hash)\n",
    "                return False\n",
    "        else:\n",
    "            return False\n",
    "    \n",
    "    def append_block(self, nuevo_hash, bloque):\n",
    "        if bloque.previous_hash == self.last_block.current_hash:\n",
    "            if self.is_valid_proof(nuevo_hash, bloque):\n",
    "                bloque.current_hash = nuevo_hash\n",
    "                self.chain.append(bloque)\n",
    "                return True\n",
    "            else:\n",
    "                return False\n",
    "        else:\n",
    "            return False\n",
    "    \n",
    "    def add_new_transaction(self, transaction):\n",
    "        self.unconfirmed_transactions.append(transaction)\n",
    "            \n",
    "    @property\n",
    "    def last_block(self):\n",
    "        return self.chain[-1]\n",
    "    \n",
    "    # validar bloque con transaccion sin confirmar\n",
    "    def mine(self):\n",
    "        if len(self.unconfirmed_transactions) == 0:\n",
    "            return False\n",
    "        else:\n",
    "            new_block = Block(index = self.last_block.index + 1, transactions = self.unconfirmed_transactions, timestamp = time.time(), previous_hash = self.last_block.current_hash)\n",
    "            new_hash = self.proof_of_work(new_block)\n",
    "            if self.append_block(new_hash, new_block):\n",
    "                self.unconfirmed_transactions = []\n",
    "                return new_block.index\n",
    "            else:\n",
    "                return False\n",
    "    \n",
    "    def check_chain(self, blockchain):\n",
    "        cont = 0\n",
    "        for block in blockchain:\n",
    "            print(cont)\n",
    "            if cont != 0:\n",
    "                current_hash_check = block.current_hash\n",
    "                print(\"CURRENT HASH CHECK\")\n",
    "                print(current_hash_check)\n",
    "                delattr(block, \"current_hash\")\n",
    "\n",
    "                if self.is_valid_proof(current_hash_check, block):\n",
    "                    print(block.previous_hash)\n",
    "                    print(self.last_block.current_hash)\n",
    "                    if block.previous_hash == self.last_block.current_hash:\n",
    "                        block.current_hash = current_hash_check\n",
    "                        return True\n",
    "                    else:\n",
    "                        print(\"Preivuous hash\")\n",
    "                        False\n",
    "                else:\n",
    "                    print(\"is valid\")\n",
    "                    False\n",
    "            cont = cont +1"
   ]
  },
  {
   "cell_type": "code",
   "execution_count": 116,
   "id": "722750b5",
   "metadata": {},
   "outputs": [
    {
     "data": {
      "text/plain": [
       "{'index': 0,\n",
       " 'transactions': [],\n",
       " 'timestamp': 1650877849.9347575,\n",
       " 'previous_hash': '0',\n",
       " 'current_hash': '02005acadd7470d72daf1c91ef5045a6f4083cef77d2224b95c552b706d5c4a6'}"
      ]
     },
     "execution_count": 116,
     "metadata": {},
     "output_type": "execute_result"
    }
   ],
   "source": [
    "blockchain = Blockchain()\n",
    "blockchain.last_block.__dict__"
   ]
  },
  {
   "cell_type": "markdown",
   "id": "e28a7937",
   "metadata": {},
   "source": [
    "APARTADO 1.3"
   ]
  },
  {
   "cell_type": "code",
   "execution_count": 117,
   "id": "645ec757",
   "metadata": {},
   "outputs": [
    {
     "data": {
      "text/plain": [
       "{'index': 1,\n",
       " 'transactions': [],\n",
       " 'timestamp': 1650877880.7394998,\n",
       " 'previous_hash': '2c9b8c43efde1279974c9377e5780d10b8672a0f10226312a8f667801838d475'}"
      ]
     },
     "execution_count": 117,
     "metadata": {},
     "output_type": "execute_result"
    }
   ],
   "source": [
    "blockchain = Blockchain(2)\n",
    "blockchain.last_block.__dict__\n",
    "\n",
    "new_index = blockchain.last_block.index+1\n",
    "new_transaction = []\n",
    "new_timestamp = time.time()\n",
    "new_previous_hash = blockchain.last_block.current_hash\n",
    "new_block = Block(new_index, new_transaction, new_timestamp, new_previous_hash)\n",
    "new_block.__dict__"
   ]
  },
  {
   "cell_type": "code",
   "execution_count": 121,
   "id": "2b404016",
   "metadata": {},
   "outputs": [
    {
     "data": {
      "text/plain": [
       "'00eaf3275e251027fd2ebf8a89317588be41ed0956d3ac7cbaddd657f740bc59'"
      ]
     },
     "execution_count": 121,
     "metadata": {},
     "output_type": "execute_result"
    }
   ],
   "source": [
    "blockchain.proof_of_work(new_block)"
   ]
  },
  {
   "cell_type": "code",
   "execution_count": 122,
   "id": "90e46a15",
   "metadata": {},
   "outputs": [
    {
     "data": {
      "text/plain": [
       "131"
      ]
     },
     "execution_count": 122,
     "metadata": {},
     "output_type": "execute_result"
    }
   ],
   "source": [
    "new_block.nonce"
   ]
  },
  {
   "cell_type": "markdown",
   "id": "8c1e931e",
   "metadata": {},
   "source": [
    "FUNCIÓN PARA MEDIR TIEMPOS"
   ]
  },
  {
   "cell_type": "code",
   "execution_count": 72,
   "id": "762cca58",
   "metadata": {},
   "outputs": [
    {
     "name": "stdout",
     "output_type": "stream",
     "text": [
      "0.0\n",
      "0.0\n",
      "0.004029273986816406\n",
      "0.057181358337402344\n",
      "0.35689616203308105\n",
      "6.8410820960998535\n"
     ]
    },
    {
     "data": {
      "text/plain": [
       "[<matplotlib.lines.Line2D at 0x27749d5ab50>]"
      ]
     },
     "execution_count": 72,
     "metadata": {},
     "output_type": "execute_result"
    },
    {
     "data": {
      "image/png": "[encoded data removed]",
      "text/plain": [
       "<Figure size 432x288 with 1 Axes>"
      ]
     },
     "metadata": {
      "needs_background": "light"
     },
     "output_type": "display_data"
    }
   ],
   "source": [
    "import matplotlib.pyplot as plt\n",
    "\n",
    "vector_tiempo = []\n",
    "vector_nonce = []\n",
    "\n",
    "for k in range(6):\n",
    "    blockchain = Blockchain(k)\n",
    "    blockchain.last_block.__dict__\n",
    "\n",
    "    new_index = blockchain.last_block.index+1\n",
    "    new_transaction = []\n",
    "    new_timestamp = time.time()\n",
    "    new_previous_hash = blockchain.last_block.current_hash\n",
    "    new_block = Block(new_index, new_transaction, new_timestamp, new_previous_hash)\n",
    "    new_block.__dict__\n",
    "    \n",
    "    inicio = time.time()\n",
    "    \n",
    "    blockchain.proof_of_work(new_block)\n",
    "    \n",
    "    final = time.time()\n",
    "    tiempo = final-inicio\n",
    "    print(tiempo)\n",
    "    \n",
    "    vector_tiempo.append(tiempo)\n",
    "    vector_nonce.append(new_block.nonce)\n",
    "\n",
    "plt.plot(range(6), vector_tiempo)\n"
   ]
  },
  {
   "cell_type": "code",
   "execution_count": 73,
   "id": "577d7610",
   "metadata": {},
   "outputs": [
    {
     "data": {
      "text/plain": [
       "[<matplotlib.lines.Line2D at 0x27749dbfa60>]"
      ]
     },
     "execution_count": 73,
     "metadata": {},
     "output_type": "execute_result"
    },
    {
     "data": {
      "image/png": "[encoded data removed]",
      "text/plain": [
       "<Figure size 432x288 with 1 Axes>"
      ]
     },
     "metadata": {
      "needs_background": "light"
     },
     "output_type": "display_data"
    }
   ],
   "source": [
    "plt.plot(range(6), vector_nonce)"
   ]
  },
  {
   "cell_type": "markdown",
   "id": "451cfa97",
   "metadata": {},
   "source": [
    "APARTADO 1.4"
   ]
  },
  {
   "cell_type": "code",
   "execution_count": 206,
   "id": "d61d960b",
   "metadata": {},
   "outputs": [
    {
     "data": {
      "text/plain": [
       "{'index': 0,\n",
       " 'transactions': [],\n",
       " 'timestamp': 1650879371.6492438,\n",
       " 'previous_hash': '0',\n",
       " 'current_hash': '6fe11fceb532f12495c8cde09e66780ec8bf1f64c1d12c22323e44f073c98251'}"
      ]
     },
     "execution_count": 206,
     "metadata": {},
     "output_type": "execute_result"
    }
   ],
   "source": [
    "blockchain = Blockchain()\n",
    "blockchain.last_block.__dict__"
   ]
  },
  {
   "cell_type": "code",
   "execution_count": 207,
   "id": "11bf12f7",
   "metadata": {},
   "outputs": [
    {
     "name": "stdout",
     "output_type": "stream",
     "text": [
      "Length of Blockchain:  1\n"
     ]
    }
   ],
   "source": [
    "print(\"Length of Blockchain: \", len(blockchain.chain))"
   ]
  },
  {
   "cell_type": "code",
   "execution_count": 208,
   "id": "43ce4ae9",
   "metadata": {},
   "outputs": [
    {
     "data": {
      "text/plain": [
       "{'index': 1,\n",
       " 'transactions': [],\n",
       " 'timestamp': 1650879372.9741673,\n",
       " 'previous_hash': '6fe11fceb532f12495c8cde09e66780ec8bf1f64c1d12c22323e44f073c98251'}"
      ]
     },
     "execution_count": 208,
     "metadata": {},
     "output_type": "execute_result"
    }
   ],
   "source": [
    "new_index = blockchain.last_block.index+1\n",
    "new_transaction = []\n",
    "new_timestamp = time.time()\n",
    "new_previous_hash = blockchain.last_block.current_hash\n",
    "newblock = Block(new_index, new_transaction, new_timestamp, new_previous_hash)\n",
    "newblock.__dict__"
   ]
  },
  {
   "cell_type": "code",
   "execution_count": 209,
   "id": "707e7948",
   "metadata": {},
   "outputs": [
    {
     "name": "stdout",
     "output_type": "stream",
     "text": [
      "{'index': 1, 'transactions': [], 'timestamp': 1650879372.9741673, 'previous_hash': '6fe11fceb532f12495c8cde09e66780ec8bf1f64c1d12c22323e44f073c98251', 'nonce': 22}\n",
      "Hash of newblock:  00e278bec25fa41466ef746f1ea7d7c636eeeb9f224cc5439b5a155ab2c8a22b\n"
     ]
    }
   ],
   "source": [
    "new_hash = blockchain.proof_of_work(newblock)\n",
    "print(newblock.__dict__)\n",
    "print(\"Hash of newblock: \", new_hash)"
   ]
  },
  {
   "cell_type": "code",
   "execution_count": 210,
   "id": "2ae6cfe4",
   "metadata": {},
   "outputs": [
    {
     "name": "stdout",
     "output_type": "stream",
     "text": [
      "6fe11fceb532f12495c8cde09e66780ec8bf1f64c1d12c22323e44f073c98251\n",
      "6fe11fceb532f12495c8cde09e66780ec8bf1f64c1d12c22323e44f073c98251\n",
      "Appended:  True\n"
     ]
    },
    {
     "data": {
      "text/plain": [
       "{'index': 1,\n",
       " 'transactions': [],\n",
       " 'timestamp': 1650879372.9741673,\n",
       " 'previous_hash': '6fe11fceb532f12495c8cde09e66780ec8bf1f64c1d12c22323e44f073c98251',\n",
       " 'nonce': 22,\n",
       " 'current_hash': '00e278bec25fa41466ef746f1ea7d7c636eeeb9f224cc5439b5a155ab2c8a22b'}"
      ]
     },
     "execution_count": 210,
     "metadata": {},
     "output_type": "execute_result"
    }
   ],
   "source": [
    "out = blockchain.append_block(new_hash, newblock)\n",
    "print(\"Appended: \", out)\n",
    "blockchain.last_block.__dict__"
   ]
  },
  {
   "cell_type": "code",
   "execution_count": 211,
   "id": "19e9428d",
   "metadata": {},
   "outputs": [],
   "source": [
    "blockchain.add_new_transaction(\"data1\")\n",
    "blockchain.add_new_transaction(\"data2\")\n",
    "blockchain.add_new_transaction(\"data3\")"
   ]
  },
  {
   "cell_type": "code",
   "execution_count": 212,
   "id": "6ff8075d",
   "metadata": {},
   "outputs": [
    {
     "data": {
      "text/plain": [
       "['data1', 'data2', 'data3']"
      ]
     },
     "execution_count": 212,
     "metadata": {},
     "output_type": "execute_result"
    }
   ],
   "source": [
    "blockchain.unconfirmed_transactions"
   ]
  },
  {
   "cell_type": "code",
   "execution_count": 213,
   "id": "a7b6462c",
   "metadata": {},
   "outputs": [
    {
     "name": "stdout",
     "output_type": "stream",
     "text": [
      "00e278bec25fa41466ef746f1ea7d7c636eeeb9f224cc5439b5a155ab2c8a22b\n",
      "00e278bec25fa41466ef746f1ea7d7c636eeeb9f224cc5439b5a155ab2c8a22b\n",
      "2\n"
     ]
    }
   ],
   "source": [
    "new_index = blockchain.mine()\n",
    "print(new_index)"
   ]
  },
  {
   "cell_type": "markdown",
   "id": "fdbb011d",
   "metadata": {},
   "source": [
    "APARTADO 1.5"
   ]
  },
  {
   "cell_type": "code",
   "execution_count": 243,
   "id": "feb8e71e",
   "metadata": {
    "scrolled": true
   },
   "outputs": [
    {
     "name": "stdout",
     "output_type": "stream",
     "text": [
      "correcto\n",
      "correcto\n",
      "0\n",
      "1\n",
      "correcto\n",
      "47ef2c2d68a470e9a0fa446392d649a46049dabfcad717bec39f3b17ffacae40\n",
      "003a80042a2c46d88cbab58fe4eeadfe973c73938e93e73ce98609c163429ac5\n",
      "Preivuous hash\n",
      "2\n",
      "correcto\n",
      "00ef797f96d903cb0b2f6051f925e2b7fafa1d62ef4b0b76eb9f89a48aaf3235\n"
     ]
    },
    {
     "ename": "AttributeError",
     "evalue": "'Block' object has no attribute 'current_hash'",
     "output_type": "error",
     "traceback": [
      "\u001b[1;31m---------------------------------------------------------------------------\u001b[0m",
      "\u001b[1;31mAttributeError\u001b[0m                            Traceback (most recent call last)",
      "\u001b[1;32m~\\AppData\\Local\\Temp/ipykernel_17144/974982843.py\u001b[0m in \u001b[0;36m<module>\u001b[1;34m\u001b[0m\n\u001b[0;32m     18\u001b[0m \u001b[1;33m\u001b[0m\u001b[0m\n\u001b[0;32m     19\u001b[0m \u001b[0mchain_to_check\u001b[0m \u001b[1;33m=\u001b[0m \u001b[0mblockchain\u001b[0m\u001b[1;33m.\u001b[0m\u001b[0mchain\u001b[0m\u001b[1;33m\u001b[0m\u001b[1;33m\u001b[0m\u001b[0m\n\u001b[1;32m---> 20\u001b[1;33m \u001b[0mblockchain\u001b[0m\u001b[1;33m.\u001b[0m\u001b[0mcheck_chain\u001b[0m\u001b[1;33m(\u001b[0m\u001b[0mchain_to_check\u001b[0m\u001b[1;33m)\u001b[0m\u001b[1;33m\u001b[0m\u001b[1;33m\u001b[0m\u001b[0m\n\u001b[0m",
      "\u001b[1;32m~\\AppData\\Local\\Temp/ipykernel_17144/2675919759.py\u001b[0m in \u001b[0;36mcheck_chain\u001b[1;34m(self, blockchain)\u001b[0m\n\u001b[0;32m     81\u001b[0m                 \u001b[1;32mif\u001b[0m \u001b[0mself\u001b[0m\u001b[1;33m.\u001b[0m\u001b[0mis_valid_proof\u001b[0m\u001b[1;33m(\u001b[0m\u001b[0mcurrent_hash_check\u001b[0m\u001b[1;33m,\u001b[0m \u001b[0mblock\u001b[0m\u001b[1;33m)\u001b[0m\u001b[1;33m:\u001b[0m\u001b[1;33m\u001b[0m\u001b[1;33m\u001b[0m\u001b[0m\n\u001b[0;32m     82\u001b[0m                     \u001b[0mprint\u001b[0m\u001b[1;33m(\u001b[0m\u001b[0mblock\u001b[0m\u001b[1;33m.\u001b[0m\u001b[0mprevious_hash\u001b[0m\u001b[1;33m)\u001b[0m\u001b[1;33m\u001b[0m\u001b[1;33m\u001b[0m\u001b[0m\n\u001b[1;32m---> 83\u001b[1;33m                     \u001b[0mprint\u001b[0m\u001b[1;33m(\u001b[0m\u001b[0mself\u001b[0m\u001b[1;33m.\u001b[0m\u001b[0mlast_block\u001b[0m\u001b[1;33m.\u001b[0m\u001b[0mcurrent_hash\u001b[0m\u001b[1;33m)\u001b[0m\u001b[1;33m\u001b[0m\u001b[1;33m\u001b[0m\u001b[0m\n\u001b[0m\u001b[0;32m     84\u001b[0m                     \u001b[1;32mif\u001b[0m \u001b[0mblock\u001b[0m\u001b[1;33m.\u001b[0m\u001b[0mprevious_hash\u001b[0m \u001b[1;33m==\u001b[0m \u001b[0mself\u001b[0m\u001b[1;33m.\u001b[0m\u001b[0mlast_block\u001b[0m\u001b[1;33m.\u001b[0m\u001b[0mcurrent_hash\u001b[0m\u001b[1;33m:\u001b[0m\u001b[1;33m\u001b[0m\u001b[1;33m\u001b[0m\u001b[0m\n\u001b[0;32m     85\u001b[0m                         \u001b[0mblock\u001b[0m\u001b[1;33m.\u001b[0m\u001b[0mcurrent_hash\u001b[0m \u001b[1;33m=\u001b[0m \u001b[0mcurrent_hash_check\u001b[0m\u001b[1;33m\u001b[0m\u001b[1;33m\u001b[0m\u001b[0m\n",
      "\u001b[1;31mAttributeError\u001b[0m: 'Block' object has no attribute 'current_hash'"
     ]
    }
   ],
   "source": [
    "blockchain = Blockchain()\n",
    "\n",
    "new_index = blockchain.last_block.index+1\n",
    "new_transaction = []\n",
    "new_timestamp = time.time()\n",
    "new_previous_hash = blockchain.last_block.current_hash\n",
    "newblock = Block(new_index, new_transaction, new_timestamp, new_previous_hash)\n",
    "\n",
    "new_hash = blockchain.proof_of_work(newblock)\n",
    "\n",
    "out = blockchain.append_block(new_hash, newblock)\n",
    "\n",
    "blockchain.add_new_transaction(\"data1\")\n",
    "blockchain.add_new_transaction(\"data2\")\n",
    "blockchain.add_new_transaction(\"data3\")\n",
    "\n",
    "new_index = blockchain.mine()\n",
    "\n",
    "chain_to_check = blockchain.chain\n",
    "blockchain.check_chain(chain_to_check)"
   ]
  },
  {
   "cell_type": "code",
   "execution_count": 249,
   "id": "0f5cbdcf",
   "metadata": {},
   "outputs": [
    {
     "name": "stdout",
     "output_type": "stream",
     "text": [
      "correcto\n",
      "correcto\n"
     ]
    }
   ],
   "source": [
    "blockchain = Blockchain()\n",
    "\n",
    "new_index = blockchain.last_block.index+1\n",
    "new_transaction = []\n",
    "new_timestamp = time.time()\n",
    "new_previous_hash = blockchain.last_block.current_hash\n",
    "newblock = Block(new_index, new_transaction, new_timestamp, new_previous_hash)\n",
    "\n",
    "new_hash = blockchain.proof_of_work(newblock)\n",
    "\n",
    "out = blockchain.append_block(new_hash, newblock)\n",
    "\n",
    "blockchain.add_new_transaction(\"data1\")\n",
    "blockchain.add_new_transaction(\"data2\")\n",
    "blockchain.add_new_transaction(\"data3\")\n",
    "\n",
    "new_index = blockchain.mine()"
   ]
  },
  {
   "cell_type": "code",
   "execution_count": 250,
   "id": "55fad1a9",
   "metadata": {},
   "outputs": [
    {
     "data": {
      "text/plain": [
       "{'index': 1,\n",
       " 'transactions': [],\n",
       " 'timestamp': 1650880938.502445,\n",
       " 'previous_hash': '8cced870dbafaca9442ceaee31bc036efd09d6b5edd5d58e0ead454adfa58531',\n",
       " 'nonce': 3,\n",
       " 'current_hash': '00b4a294cb98e5dcd40598653290e1c95ca1d9262754610af93e1bfaf26e2648'}"
      ]
     },
     "execution_count": 250,
     "metadata": {},
     "output_type": "execute_result"
    }
   ],
   "source": [
    "blockchain.chain[1].__dict__"
   ]
  },
  {
   "cell_type": "code",
   "execution_count": 251,
   "id": "8de8dbdf",
   "metadata": {},
   "outputs": [
    {
     "data": {
      "text/plain": [
       "{'index': 2,\n",
       " 'transactions': ['data1', 'data2', 'data3'],\n",
       " 'timestamp': 1650880938.502445,\n",
       " 'previous_hash': '00b4a294cb98e5dcd40598653290e1c95ca1d9262754610af93e1bfaf26e2648',\n",
       " 'nonce': 70,\n",
       " 'current_hash': '002d89fe3c760e4395982a6a70d76ec3e48514ae8b2f22566fdb014d26bfd1d6'}"
      ]
     },
     "execution_count": 251,
     "metadata": {},
     "output_type": "execute_result"
    }
   ],
   "source": [
    "blockchain.chain[2].__dict__"
   ]
  },
  {
   "cell_type": "code",
   "execution_count": 252,
   "id": "762e041c",
   "metadata": {},
   "outputs": [
    {
     "name": "stdout",
     "output_type": "stream",
     "text": [
      "0\n",
      "1\n",
      "CURRENT HASH CHECK\n",
      "00b4a294cb98e5dcd40598653290e1c95ca1d9262754610af93e1bfaf26e2648\n",
      "correcto\n",
      "8cced870dbafaca9442ceaee31bc036efd09d6b5edd5d58e0ead454adfa58531\n",
      "002d89fe3c760e4395982a6a70d76ec3e48514ae8b2f22566fdb014d26bfd1d6\n",
      "Preivuous hash\n",
      "2\n",
      "CURRENT HASH CHECK\n",
      "002d89fe3c760e4395982a6a70d76ec3e48514ae8b2f22566fdb014d26bfd1d6\n",
      "correcto\n",
      "00b4a294cb98e5dcd40598653290e1c95ca1d9262754610af93e1bfaf26e2648\n"
     ]
    },
    {
     "ename": "AttributeError",
     "evalue": "'Block' object has no attribute 'current_hash'",
     "output_type": "error",
     "traceback": [
      "\u001b[1;31m---------------------------------------------------------------------------\u001b[0m",
      "\u001b[1;31mAttributeError\u001b[0m                            Traceback (most recent call last)",
      "\u001b[1;32m~\\AppData\\Local\\Temp/ipykernel_17144/2722889198.py\u001b[0m in \u001b[0;36m<module>\u001b[1;34m\u001b[0m\n\u001b[0;32m      1\u001b[0m \u001b[0mchain_to_check\u001b[0m \u001b[1;33m=\u001b[0m \u001b[0mblockchain\u001b[0m\u001b[1;33m.\u001b[0m\u001b[0mchain\u001b[0m\u001b[1;33m\u001b[0m\u001b[1;33m\u001b[0m\u001b[0m\n\u001b[1;32m----> 2\u001b[1;33m \u001b[0mblockchain\u001b[0m\u001b[1;33m.\u001b[0m\u001b[0mcheck_chain\u001b[0m\u001b[1;33m(\u001b[0m\u001b[0mchain_to_check\u001b[0m\u001b[1;33m)\u001b[0m\u001b[1;33m\u001b[0m\u001b[1;33m\u001b[0m\u001b[0m\n\u001b[0m",
      "\u001b[1;32m~\\AppData\\Local\\Temp/ipykernel_17144/3878776723.py\u001b[0m in \u001b[0;36mcheck_chain\u001b[1;34m(self, blockchain)\u001b[0m\n\u001b[0;32m     83\u001b[0m                 \u001b[1;32mif\u001b[0m \u001b[0mself\u001b[0m\u001b[1;33m.\u001b[0m\u001b[0mis_valid_proof\u001b[0m\u001b[1;33m(\u001b[0m\u001b[0mcurrent_hash_check\u001b[0m\u001b[1;33m,\u001b[0m \u001b[0mblock\u001b[0m\u001b[1;33m)\u001b[0m\u001b[1;33m:\u001b[0m\u001b[1;33m\u001b[0m\u001b[1;33m\u001b[0m\u001b[0m\n\u001b[0;32m     84\u001b[0m                     \u001b[0mprint\u001b[0m\u001b[1;33m(\u001b[0m\u001b[0mblock\u001b[0m\u001b[1;33m.\u001b[0m\u001b[0mprevious_hash\u001b[0m\u001b[1;33m)\u001b[0m\u001b[1;33m\u001b[0m\u001b[1;33m\u001b[0m\u001b[0m\n\u001b[1;32m---> 85\u001b[1;33m                     \u001b[0mprint\u001b[0m\u001b[1;33m(\u001b[0m\u001b[0mself\u001b[0m\u001b[1;33m.\u001b[0m\u001b[0mlast_block\u001b[0m\u001b[1;33m.\u001b[0m\u001b[0mcurrent_hash\u001b[0m\u001b[1;33m)\u001b[0m\u001b[1;33m\u001b[0m\u001b[1;33m\u001b[0m\u001b[0m\n\u001b[0m\u001b[0;32m     86\u001b[0m                     \u001b[1;32mif\u001b[0m \u001b[0mblock\u001b[0m\u001b[1;33m.\u001b[0m\u001b[0mprevious_hash\u001b[0m \u001b[1;33m==\u001b[0m \u001b[0mself\u001b[0m\u001b[1;33m.\u001b[0m\u001b[0mlast_block\u001b[0m\u001b[1;33m.\u001b[0m\u001b[0mcurrent_hash\u001b[0m\u001b[1;33m:\u001b[0m\u001b[1;33m\u001b[0m\u001b[1;33m\u001b[0m\u001b[0m\n\u001b[0;32m     87\u001b[0m                         \u001b[0mblock\u001b[0m\u001b[1;33m.\u001b[0m\u001b[0mcurrent_hash\u001b[0m \u001b[1;33m=\u001b[0m \u001b[0mcurrent_hash_check\u001b[0m\u001b[1;33m\u001b[0m\u001b[1;33m\u001b[0m\u001b[0m\n",
      "\u001b[1;31mAttributeError\u001b[0m: 'Block' object has no attribute 'current_hash'"
     ]
    }
   ],
   "source": [
    "chain_to_check = blockchain.chain\n",
    "blockchain.check_chain(chain_to_check)"
   ]
  }
 ],
 "metadata": {
  "kernelspec": {
   "display_name": "Python 3 (ipykernel)",
   "language": "python",
   "name": "python3"
  },
  "language_info": {
   "codemirror_mode": {
    "name": "ipython",
    "version": 3
   },
   "file_extension": ".py",
   "mimetype": "text/x-python",
   "name": "python",
   "nbconvert_exporter": "python",
   "pygments_lexer": "ipython3",
   "version": "3.9.7"
  }
 },
 "nbformat": 4,
 "nbformat_minor": 5
}
