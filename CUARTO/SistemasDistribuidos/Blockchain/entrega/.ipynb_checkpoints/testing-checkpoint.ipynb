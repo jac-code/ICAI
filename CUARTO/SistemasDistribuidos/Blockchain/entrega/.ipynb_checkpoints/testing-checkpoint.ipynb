{
 "cells": [
  {
   "cell_type": "markdown",
   "id": "98c9cf76",
   "metadata": {},
   "source": [
    "Este archivo simual todas las transacciones que se harían desde postman o una interfaz gráfica"
   ]
  },
  {
   "cell_type": "markdown",
   "id": "3f85d948",
   "metadata": {},
   "source": [
    "IMPORTANTE IR EJECUTANDO EL CODIGO SECUENCIALMENTE POR EL NOMBRE DE LAS VARIABLES"
   ]
  },
  {
   "cell_type": "markdown",
   "id": "a47c5c7c",
   "metadata": {},
   "source": [
    "Una vez levantados los x3 nodos podemos empezar"
   ]
  },
  {
   "cell_type": "code",
   "execution_count": 1,
   "id": "c7887fd9",
   "metadata": {},
   "outputs": [],
   "source": [
    "from flask import Flask, request\n",
    "import json\n",
    "import requests"
   ]
  },
  {
   "cell_type": "markdown",
   "id": "2d226fac",
   "metadata": {},
   "source": [
    "1) Mostramos las cadenas de los x3 nodos --> inicialmente solo tenemos el bloque de géensis en cada una de las cadenas"
   ]
  },
  {
   "cell_type": "code",
   "execution_count": 2,
   "id": "99c7a347",
   "metadata": {},
   "outputs": [
    {
     "name": "stdout",
     "output_type": "stream",
     "text": [
      "[{'current_hash': '36e42f8d9be4e020ec7f902022a7c648b4c89f0d9f8111badee3c84509341ddc', 'index': 0, 'previous_hash': '0', 'timestamp': 1652890678.7656064, 'transactions': []}]\n"
     ]
    }
   ],
   "source": [
    "url = \"http://127.0.0.1:8085/chain\"\n",
    "data = {}\n",
    "header = {}\n",
    "response = requests.request(\"GET\", url, headers=header, data=data)\n",
    "\n",
    "if response.status_code == 200:\n",
    "    response_chain = response.json()[\"chain\"]\n",
    "    print(response_chain)"
   ]
  },
  {
   "cell_type": "code",
   "execution_count": 3,
   "id": "3fe70d18",
   "metadata": {},
   "outputs": [
    {
     "name": "stdout",
     "output_type": "stream",
     "text": [
      "[{'current_hash': '9d2902c3de1ac8fa50a024da12d6452fd77cc4b8588c549a4791a40f02cce06c', 'index': 0, 'previous_hash': '0', 'timestamp': 1652890688.08865, 'transactions': []}]\n"
     ]
    }
   ],
   "source": [
    "url = \"http://127.0.0.1:8086/chain\"\n",
    "data = {}\n",
    "header = {}\n",
    "response = requests.request(\"GET\", url, headers=header, data=data)\n",
    "\n",
    "if response.status_code == 200:\n",
    "    response_chain = response.json()[\"chain\"]\n",
    "    print(response_chain)"
   ]
  },
  {
   "cell_type": "code",
   "execution_count": 4,
   "id": "6d3d2f9c",
   "metadata": {},
   "outputs": [
    {
     "name": "stdout",
     "output_type": "stream",
     "text": [
      "[{'current_hash': '6a3a484b36cec532d7e53a1652ba7e77a375e6127ab3d21c3fd31e86ded8beb2', 'index': 0, 'previous_hash': '0', 'timestamp': 1652890691.490219, 'transactions': []}]\n"
     ]
    }
   ],
   "source": [
    "url = \"http://127.0.0.1:8087/chain\"\n",
    "data = {}\n",
    "header = {}\n",
    "response = requests.request(\"GET\", url, headers=header, data=data)\n",
    "\n",
    "if response.status_code == 200:\n",
    "    response_chain = response.json()[\"chain\"]\n",
    "    print(response_chain)"
   ]
  },
  {
   "cell_type": "markdown",
   "id": "e2455613",
   "metadata": {},
   "source": [
    "2) Creamos para el nodo 1 una nueva transacción"
   ]
  },
  {
   "cell_type": "code",
   "execution_count": 5,
   "id": "10dc0dbc",
   "metadata": {},
   "outputs": [],
   "source": [
    "transaccion = {\n",
    "    \"author\":  \"jaime\",\n",
    "    \"content\": \"Transaccion 1\"\n",
    "}\n",
    "\n",
    "data = transaccion\n",
    "headers = {'Content-Type': \"application/json\"}\n",
    "    \n",
    "url = \"http://127.0.0.1:8085/new_transaction\"\n",
    "response = requests.post(url, data=json.dumps(data), headers=headers)"
   ]
  },
  {
   "cell_type": "markdown",
   "id": "c7eb9d84",
   "metadata": {},
   "source": [
    "3) Minamos la transacción para que se pueda meter en la blockchain"
   ]
  },
  {
   "cell_type": "code",
   "execution_count": 6,
   "id": "29bf5d80",
   "metadata": {},
   "outputs": [],
   "source": [
    "url = \"http://127.0.0.1:8085/mine\"\n",
    "data = {}\n",
    "header = {}\n",
    "response = requests.request(\"GET\", url, headers=header, data=data)"
   ]
  },
  {
   "cell_type": "markdown",
   "id": "4f8d4d53",
   "metadata": {},
   "source": [
    "4) Si se vuelve a mirar la blockchain se puede ver que hay un bloque nuevo con la transacción"
   ]
  },
  {
   "cell_type": "code",
   "execution_count": 7,
   "id": "1e8d51b3",
   "metadata": {},
   "outputs": [
    {
     "name": "stdout",
     "output_type": "stream",
     "text": [
      "[{'current_hash': '36e42f8d9be4e020ec7f902022a7c648b4c89f0d9f8111badee3c84509341ddc', 'index': 0, 'previous_hash': '0', 'timestamp': 1652890678.7656064, 'transactions': []}, {'current_hash': '00600abea4b2c9f70759029495224d95c812bdfe47fdb1fd7dc9dee4c286f2b5', 'index': 1, 'nonce': 57, 'previous_hash': '36e42f8d9be4e020ec7f902022a7c648b4c89f0d9f8111badee3c84509341ddc', 'timestamp': 1652890757.4750972, 'transactions': [{'author': 'jaime', 'content': 'Transaccion 1', 'time': 1652890754.5233378}]}]\n"
     ]
    }
   ],
   "source": [
    "url = \"http://127.0.0.1:8085/chain\"\n",
    "data = {}\n",
    "header = {}\n",
    "response = requests.request(\"GET\", url, headers=header, data=data)\n",
    "\n",
    "if response.status_code == 200:\n",
    "    response_chain = response.json()[\"chain\"]\n",
    "    print(response_chain)"
   ]
  },
  {
   "cell_type": "markdown",
   "id": "d9d352c2",
   "metadata": {},
   "source": [
    "5) Procedemos a registrar un nuevo nodo en la red, por ejemplo el nodo 3"
   ]
  },
  {
   "cell_type": "code",
   "execution_count": 8,
   "id": "e58b55ea",
   "metadata": {},
   "outputs": [],
   "source": [
    "url = \"http://127.0.0.1:8087/register_with_existing_node\"\n",
    "\n",
    "data = {\n",
    "    \"node_address\" : \"127.0.0.1:8085\"\n",
    "}\n",
    "headers = {'Content-Type': \"application/json\"}\n",
    "\n",
    "response = requests.post(url, data=json.dumps(data), headers=headers)"
   ]
  },
  {
   "cell_type": "markdown",
   "id": "6a0538eb",
   "metadata": {},
   "source": [
    "6) si miramos la cadena del nodo 1 podemos ver como la variable peers se ha actualizado y aparece la dirección del nodo 3"
   ]
  },
  {
   "cell_type": "code",
   "execution_count": 9,
   "id": "5ca93eec",
   "metadata": {},
   "outputs": [
    {
     "name": "stdout",
     "output_type": "stream",
     "text": [
      "[{'current_hash': '36e42f8d9be4e020ec7f902022a7c648b4c89f0d9f8111badee3c84509341ddc', 'index': 0, 'previous_hash': '0', 'timestamp': 1652890678.7656064, 'transactions': []}, {'current_hash': '00600abea4b2c9f70759029495224d95c812bdfe47fdb1fd7dc9dee4c286f2b5', 'index': 1, 'nonce': 57, 'previous_hash': '36e42f8d9be4e020ec7f902022a7c648b4c89f0d9f8111badee3c84509341ddc', 'timestamp': 1652890757.4750972, 'transactions': [{'author': 'jaime', 'content': 'Transaccion 1', 'time': 1652890754.5233378}]}]\n",
      "['127.0.0.1:8087']\n"
     ]
    }
   ],
   "source": [
    "url = \"http://127.0.0.1:8085/chain\"\n",
    "data = {}\n",
    "header = {}\n",
    "response = requests.request(\"GET\", url, headers=header, data=data)\n",
    "\n",
    "if response.status_code == 200:\n",
    "    response_chain = response.json()[\"chain\"]\n",
    "    peers = response.json()[\"peers\"]\n",
    "    print(response_chain)\n",
    "    print(peers)"
   ]
  },
  {
   "cell_type": "markdown",
   "id": "309d0362",
   "metadata": {},
   "source": [
    "7) ahora vemos la cadena del nodo 3 y se puede ver que es igual que la del nodo 1\n",
    "   , la variable peers del nodo 3 tiene la dirección del nodo 1"
   ]
  },
  {
   "cell_type": "code",
   "execution_count": 10,
   "id": "c39d0c14",
   "metadata": {},
   "outputs": [
    {
     "name": "stdout",
     "output_type": "stream",
     "text": [
      "[{'current_hash': '36e42f8d9be4e020ec7f902022a7c648b4c89f0d9f8111badee3c84509341ddc', 'index': 0, 'previous_hash': '0', 'timestamp': 1652890678.7656064, 'transactions': []}, {'current_hash': '00600abea4b2c9f70759029495224d95c812bdfe47fdb1fd7dc9dee4c286f2b5', 'index': 1, 'nonce': 57, 'previous_hash': '36e42f8d9be4e020ec7f902022a7c648b4c89f0d9f8111badee3c84509341ddc', 'timestamp': 1652890757.4750972, 'transactions': [{'author': 'jaime', 'content': 'Transaccion 1', 'time': 1652890754.5233378}]}]\n",
      "['127.0.0.1:8085']\n"
     ]
    }
   ],
   "source": [
    "url = \"http://127.0.0.1:8087/chain\"\n",
    "data = {}\n",
    "header = {}\n",
    "response = requests.request(\"GET\", url, headers=header, data=data)\n",
    "\n",
    "if response.status_code == 200:\n",
    "    response_chain = response.json()[\"chain\"]\n",
    "    peers = response.json()[\"peers\"]\n",
    "    print(response_chain)\n",
    "    print(peers)"
   ]
  },
  {
   "cell_type": "markdown",
   "id": "f1200f1a",
   "metadata": {},
   "source": [
    "8) Procedemos a crear una nueva transacción en el nodo 3 y luego a minarlo"
   ]
  },
  {
   "cell_type": "code",
   "execution_count": 11,
   "id": "ae3dfb73",
   "metadata": {},
   "outputs": [],
   "source": [
    "transaccion = {\n",
    "    \"author\":  \"jaime\",\n",
    "    \"content\": \"Transaccion desde el nodo 3\"\n",
    "}\n",
    "\n",
    "data = transaccion\n",
    "headers = {'Content-Type': \"application/json\"}\n",
    "    \n",
    "url = \"http://127.0.0.1:8087/new_transaction\"\n",
    "response = requests.post(url, data=json.dumps(data), headers=headers)"
   ]
  },
  {
   "cell_type": "code",
   "execution_count": 12,
   "id": "7797898d",
   "metadata": {},
   "outputs": [],
   "source": [
    "url = \"http://127.0.0.1:8087/mine\"\n",
    "data = {}\n",
    "header = {}\n",
    "response = requests.request(\"GET\", url, headers=header, data=data)"
   ]
  },
  {
   "cell_type": "code",
   "execution_count": 13,
   "id": "131962b9",
   "metadata": {},
   "outputs": [
    {
     "name": "stdout",
     "output_type": "stream",
     "text": [
      "[{'current_hash': '36e42f8d9be4e020ec7f902022a7c648b4c89f0d9f8111badee3c84509341ddc', 'index': 0, 'previous_hash': '0', 'timestamp': 1652890678.7656064, 'transactions': []}, {'current_hash': '00600abea4b2c9f70759029495224d95c812bdfe47fdb1fd7dc9dee4c286f2b5', 'index': 1, 'nonce': 57, 'previous_hash': '36e42f8d9be4e020ec7f902022a7c648b4c89f0d9f8111badee3c84509341ddc', 'timestamp': 1652890757.4750972, 'transactions': [{'author': 'jaime', 'content': 'Transaccion 1', 'time': 1652890754.5233378}]}, {'current_hash': '0066cac403a1f7963eecff34bd708ab84b9540c7f3b9f3704d884f7e2c420ff7', 'index': 2, 'nonce': 124, 'previous_hash': '00600abea4b2c9f70759029495224d95c812bdfe47fdb1fd7dc9dee4c286f2b5', 'timestamp': 1652890795.745785, 'transactions': [{'author': 'jaime', 'content': 'Transaccion desde el nodo 3', 'time': 1652890793.6909316}]}]\n",
      "['127.0.0.1:8085']\n"
     ]
    }
   ],
   "source": [
    "url = \"http://127.0.0.1:8087/chain\"\n",
    "data = {}\n",
    "header = {}\n",
    "response = requests.request(\"GET\", url, headers=header, data=data)\n",
    "\n",
    "if response.status_code == 200:\n",
    "    response_chain = response.json()[\"chain\"]\n",
    "    peers = response.json()[\"peers\"]\n",
    "    print(response_chain)\n",
    "    print(peers)"
   ]
  },
  {
   "cell_type": "markdown",
   "id": "a9908595",
   "metadata": {},
   "source": [
    "9) si ahora volvemos a mostrar la cadena del nodo 1, se puede ver que se ha actualizado con la nueva transacción introducida por el nodo 3"
   ]
  },
  {
   "cell_type": "code",
   "execution_count": 14,
   "id": "74a9c8bf",
   "metadata": {},
   "outputs": [
    {
     "name": "stdout",
     "output_type": "stream",
     "text": [
      "[{'current_hash': '36e42f8d9be4e020ec7f902022a7c648b4c89f0d9f8111badee3c84509341ddc', 'index': 0, 'previous_hash': '0', 'timestamp': 1652890678.7656064, 'transactions': []}, {'current_hash': '00600abea4b2c9f70759029495224d95c812bdfe47fdb1fd7dc9dee4c286f2b5', 'index': 1, 'nonce': 57, 'previous_hash': '36e42f8d9be4e020ec7f902022a7c648b4c89f0d9f8111badee3c84509341ddc', 'timestamp': 1652890757.4750972, 'transactions': [{'author': 'jaime', 'content': 'Transaccion 1', 'time': 1652890754.5233378}]}, {'current_hash': '0066cac403a1f7963eecff34bd708ab84b9540c7f3b9f3704d884f7e2c420ff7', 'index': 2, 'nonce': 124, 'previous_hash': '00600abea4b2c9f70759029495224d95c812bdfe47fdb1fd7dc9dee4c286f2b5', 'timestamp': 1652890795.745785, 'transactions': [{'author': 'jaime', 'content': 'Transaccion desde el nodo 3', 'time': 1652890793.6909316}]}]\n",
      "['127.0.0.1:8087']\n"
     ]
    }
   ],
   "source": [
    "url = \"http://127.0.0.1:8085/chain\"\n",
    "data = {}\n",
    "header = {}\n",
    "response = requests.request(\"GET\", url, headers=header, data=data)\n",
    "\n",
    "if response.status_code == 200:\n",
    "    response_chain = response.json()[\"chain\"]\n",
    "    peers = response.json()[\"peers\"]\n",
    "    print(response_chain)\n",
    "    print(peers)"
   ]
  },
  {
   "cell_type": "markdown",
   "id": "0406af98",
   "metadata": {},
   "source": [
    "10) simulamos que el nodo 1 crea una transacción y la mina"
   ]
  },
  {
   "cell_type": "code",
   "execution_count": 16,
   "id": "ecf1cc9b",
   "metadata": {},
   "outputs": [],
   "source": [
    "transaccion = {\n",
    "    \"author\":  \"jaime\",\n",
    "    \"content\": \"Transaccion desde el nodo 1\"\n",
    "}\n",
    "\n",
    "data = transaccion\n",
    "headers = {'Content-Type': \"application/json\"}\n",
    "    \n",
    "url = \"http://127.0.0.1:8085/new_transaction\"\n",
    "response = requests.post(url, data=json.dumps(data), headers=headers)"
   ]
  },
  {
   "cell_type": "code",
   "execution_count": 17,
   "id": "541f9944",
   "metadata": {},
   "outputs": [],
   "source": [
    "url = \"http://127.0.0.1:8085/mine\"\n",
    "data = {}\n",
    "header = {}\n",
    "response = requests.request(\"GET\", url, headers=header, data=data)"
   ]
  },
  {
   "cell_type": "code",
   "execution_count": 18,
   "id": "5b225fce",
   "metadata": {},
   "outputs": [
    {
     "name": "stdout",
     "output_type": "stream",
     "text": [
      "[{'current_hash': '36e42f8d9be4e020ec7f902022a7c648b4c89f0d9f8111badee3c84509341ddc', 'index': 0, 'previous_hash': '0', 'timestamp': 1652890678.7656064, 'transactions': []}, {'current_hash': '00600abea4b2c9f70759029495224d95c812bdfe47fdb1fd7dc9dee4c286f2b5', 'index': 1, 'nonce': 57, 'previous_hash': '36e42f8d9be4e020ec7f902022a7c648b4c89f0d9f8111badee3c84509341ddc', 'timestamp': 1652890757.4750972, 'transactions': [{'author': 'jaime', 'content': 'Transaccion 1', 'time': 1652890754.5233378}]}, {'current_hash': '0066cac403a1f7963eecff34bd708ab84b9540c7f3b9f3704d884f7e2c420ff7', 'index': 2, 'nonce': 124, 'previous_hash': '00600abea4b2c9f70759029495224d95c812bdfe47fdb1fd7dc9dee4c286f2b5', 'timestamp': 1652890795.745785, 'transactions': [{'author': 'jaime', 'content': 'Transaccion desde el nodo 3', 'time': 1652890793.6909316}]}, {'current_hash': '00d67bc4242439547d3d978374883a444bc8154574fd14356f6cf3b7fa346c01', 'index': 3, 'nonce': 198, 'previous_hash': '0066cac403a1f7963eecff34bd708ab84b9540c7f3b9f3704d884f7e2c420ff7', 'timestamp': 1652890878.7616477, 'transactions': [{'author': 'jaime', 'content': 'Transaccion desde el nodo 1', 'time': 1652890866.0217798}]}]\n",
      "['127.0.0.1:8087']\n"
     ]
    }
   ],
   "source": [
    "url = \"http://127.0.0.1:8085/chain\"\n",
    "data = {}\n",
    "header = {}\n",
    "response = requests.request(\"GET\", url, headers=header, data=data)\n",
    "\n",
    "if response.status_code == 200:\n",
    "    response_chain = response.json()[\"chain\"]\n",
    "    peers = response.json()[\"peers\"]\n",
    "    print(response_chain)\n",
    "    print(peers)"
   ]
  },
  {
   "cell_type": "markdown",
   "id": "539a3721",
   "metadata": {},
   "source": [
    "11) mostramos la cadena del nodo 3 y se puede ver que la cadena se ha actualizado correctamente"
   ]
  },
  {
   "cell_type": "code",
   "execution_count": 19,
   "id": "22e66723",
   "metadata": {},
   "outputs": [
    {
     "name": "stdout",
     "output_type": "stream",
     "text": [
      "[{'current_hash': '36e42f8d9be4e020ec7f902022a7c648b4c89f0d9f8111badee3c84509341ddc', 'index': 0, 'previous_hash': '0', 'timestamp': 1652890678.7656064, 'transactions': []}, {'current_hash': '00600abea4b2c9f70759029495224d95c812bdfe47fdb1fd7dc9dee4c286f2b5', 'index': 1, 'nonce': 57, 'previous_hash': '36e42f8d9be4e020ec7f902022a7c648b4c89f0d9f8111badee3c84509341ddc', 'timestamp': 1652890757.4750972, 'transactions': [{'author': 'jaime', 'content': 'Transaccion 1', 'time': 1652890754.5233378}]}, {'current_hash': '0066cac403a1f7963eecff34bd708ab84b9540c7f3b9f3704d884f7e2c420ff7', 'index': 2, 'nonce': 124, 'previous_hash': '00600abea4b2c9f70759029495224d95c812bdfe47fdb1fd7dc9dee4c286f2b5', 'timestamp': 1652890795.745785, 'transactions': [{'author': 'jaime', 'content': 'Transaccion desde el nodo 3', 'time': 1652890793.6909316}]}, {'current_hash': '00d67bc4242439547d3d978374883a444bc8154574fd14356f6cf3b7fa346c01', 'index': 3, 'nonce': 198, 'previous_hash': '0066cac403a1f7963eecff34bd708ab84b9540c7f3b9f3704d884f7e2c420ff7', 'timestamp': 1652890878.7616477, 'transactions': [{'author': 'jaime', 'content': 'Transaccion desde el nodo 1', 'time': 1652890866.0217798}]}]\n",
      "['127.0.0.1:8085']\n"
     ]
    }
   ],
   "source": [
    "url = \"http://127.0.0.1:8087/chain\"\n",
    "data = {}\n",
    "header = {}\n",
    "response = requests.request(\"GET\", url, headers=header, data=data)\n",
    "\n",
    "if response.status_code == 200:\n",
    "    response_chain = response.json()[\"chain\"]\n",
    "    peers = response.json()[\"peers\"]\n",
    "    print(response_chain)\n",
    "    print(peers)"
   ]
  },
  {
   "cell_type": "markdown",
   "id": "25631e4e",
   "metadata": {},
   "source": [
    "12) ahora vamos a proceder a añadir un nuevo nodo a la red, por ejemplo el nodo 2 le \"pregunta\" al nodo 3 para poder entrar"
   ]
  },
  {
   "cell_type": "code",
   "execution_count": 20,
   "id": "30307bef",
   "metadata": {},
   "outputs": [],
   "source": [
    "url = \"http://127.0.0.1:8086/register_with_existing_node\"\n",
    "\n",
    "data = {\n",
    "    \"node_address\" : \"127.0.0.1:8087\"\n",
    "}\n",
    "headers = {'Content-Type': \"application/json\"}\n",
    "\n",
    "response = requests.post(url, data=json.dumps(data), headers=headers)"
   ]
  },
  {
   "cell_type": "markdown",
   "id": "3b6b0c48",
   "metadata": {},
   "source": [
    "13) mostramos las cadenas de los tres nodos para ver que se han actualizado correctamente +  la variable peers tambien se ha actualzizado correctamente"
   ]
  },
  {
   "cell_type": "markdown",
   "id": "1e94302e",
   "metadata": {},
   "source": [
    "NODO 1"
   ]
  },
  {
   "cell_type": "code",
   "execution_count": 21,
   "id": "f3be9091",
   "metadata": {},
   "outputs": [
    {
     "name": "stdout",
     "output_type": "stream",
     "text": [
      "[{'current_hash': '36e42f8d9be4e020ec7f902022a7c648b4c89f0d9f8111badee3c84509341ddc', 'index': 0, 'previous_hash': '0', 'timestamp': 1652890678.7656064, 'transactions': []}, {'current_hash': '00600abea4b2c9f70759029495224d95c812bdfe47fdb1fd7dc9dee4c286f2b5', 'index': 1, 'nonce': 57, 'previous_hash': '36e42f8d9be4e020ec7f902022a7c648b4c89f0d9f8111badee3c84509341ddc', 'timestamp': 1652890757.4750972, 'transactions': [{'author': 'jaime', 'content': 'Transaccion 1', 'time': 1652890754.5233378}]}, {'current_hash': '0066cac403a1f7963eecff34bd708ab84b9540c7f3b9f3704d884f7e2c420ff7', 'index': 2, 'nonce': 124, 'previous_hash': '00600abea4b2c9f70759029495224d95c812bdfe47fdb1fd7dc9dee4c286f2b5', 'timestamp': 1652890795.745785, 'transactions': [{'author': 'jaime', 'content': 'Transaccion desde el nodo 3', 'time': 1652890793.6909316}]}, {'current_hash': '00d67bc4242439547d3d978374883a444bc8154574fd14356f6cf3b7fa346c01', 'index': 3, 'nonce': 198, 'previous_hash': '0066cac403a1f7963eecff34bd708ab84b9540c7f3b9f3704d884f7e2c420ff7', 'timestamp': 1652890878.7616477, 'transactions': [{'author': 'jaime', 'content': 'Transaccion desde el nodo 1', 'time': 1652890866.0217798}]}]\n",
      "['127.0.0.1:8086', '127.0.0.1:8087']\n"
     ]
    }
   ],
   "source": [
    "url = \"http://127.0.0.1:8085/chain\"\n",
    "data = {}\n",
    "header = {}\n",
    "response = requests.request(\"GET\", url, headers=header, data=data)\n",
    "\n",
    "if response.status_code == 200:\n",
    "    response_chain = response.json()[\"chain\"]\n",
    "    peers = response.json()[\"peers\"]\n",
    "    print(response_chain)\n",
    "    print(peers)"
   ]
  },
  {
   "cell_type": "markdown",
   "id": "42231a83",
   "metadata": {},
   "source": [
    "NODO 2"
   ]
  },
  {
   "cell_type": "code",
   "execution_count": 22,
   "id": "0c66ef31",
   "metadata": {},
   "outputs": [
    {
     "name": "stdout",
     "output_type": "stream",
     "text": [
      "[{'current_hash': '36e42f8d9be4e020ec7f902022a7c648b4c89f0d9f8111badee3c84509341ddc', 'index': 0, 'previous_hash': '0', 'timestamp': 1652890678.7656064, 'transactions': []}, {'current_hash': '00600abea4b2c9f70759029495224d95c812bdfe47fdb1fd7dc9dee4c286f2b5', 'index': 1, 'nonce': 57, 'previous_hash': '36e42f8d9be4e020ec7f902022a7c648b4c89f0d9f8111badee3c84509341ddc', 'timestamp': 1652890757.4750972, 'transactions': [{'author': 'jaime', 'content': 'Transaccion 1', 'time': 1652890754.5233378}]}, {'current_hash': '0066cac403a1f7963eecff34bd708ab84b9540c7f3b9f3704d884f7e2c420ff7', 'index': 2, 'nonce': 124, 'previous_hash': '00600abea4b2c9f70759029495224d95c812bdfe47fdb1fd7dc9dee4c286f2b5', 'timestamp': 1652890795.745785, 'transactions': [{'author': 'jaime', 'content': 'Transaccion desde el nodo 3', 'time': 1652890793.6909316}]}, {'current_hash': '00d67bc4242439547d3d978374883a444bc8154574fd14356f6cf3b7fa346c01', 'index': 3, 'nonce': 198, 'previous_hash': '0066cac403a1f7963eecff34bd708ab84b9540c7f3b9f3704d884f7e2c420ff7', 'timestamp': 1652890878.7616477, 'transactions': [{'author': 'jaime', 'content': 'Transaccion desde el nodo 1', 'time': 1652890866.0217798}]}]\n",
      "['127.0.0.1:8087', '127.0.0.1:8085']\n"
     ]
    }
   ],
   "source": [
    "url = \"http://127.0.0.1:8086/chain\"\n",
    "data = {}\n",
    "header = {}\n",
    "response = requests.request(\"GET\", url, headers=header, data=data)\n",
    "\n",
    "if response.status_code == 200:\n",
    "    response_chain = response.json()[\"chain\"]\n",
    "    peers = response.json()[\"peers\"]\n",
    "    print(response_chain)\n",
    "    print(peers)"
   ]
  },
  {
   "cell_type": "markdown",
   "id": "1d7a31c7",
   "metadata": {},
   "source": [
    "NODO 3"
   ]
  },
  {
   "cell_type": "code",
   "execution_count": 23,
   "id": "97116977",
   "metadata": {},
   "outputs": [
    {
     "name": "stdout",
     "output_type": "stream",
     "text": [
      "[{'current_hash': '36e42f8d9be4e020ec7f902022a7c648b4c89f0d9f8111badee3c84509341ddc', 'index': 0, 'previous_hash': '0', 'timestamp': 1652890678.7656064, 'transactions': []}, {'current_hash': '00600abea4b2c9f70759029495224d95c812bdfe47fdb1fd7dc9dee4c286f2b5', 'index': 1, 'nonce': 57, 'previous_hash': '36e42f8d9be4e020ec7f902022a7c648b4c89f0d9f8111badee3c84509341ddc', 'timestamp': 1652890757.4750972, 'transactions': [{'author': 'jaime', 'content': 'Transaccion 1', 'time': 1652890754.5233378}]}, {'current_hash': '0066cac403a1f7963eecff34bd708ab84b9540c7f3b9f3704d884f7e2c420ff7', 'index': 2, 'nonce': 124, 'previous_hash': '00600abea4b2c9f70759029495224d95c812bdfe47fdb1fd7dc9dee4c286f2b5', 'timestamp': 1652890795.745785, 'transactions': [{'author': 'jaime', 'content': 'Transaccion desde el nodo 3', 'time': 1652890793.6909316}]}, {'current_hash': '00d67bc4242439547d3d978374883a444bc8154574fd14356f6cf3b7fa346c01', 'index': 3, 'nonce': 198, 'previous_hash': '0066cac403a1f7963eecff34bd708ab84b9540c7f3b9f3704d884f7e2c420ff7', 'timestamp': 1652890878.7616477, 'transactions': [{'author': 'jaime', 'content': 'Transaccion desde el nodo 1', 'time': 1652890866.0217798}]}]\n",
      "['127.0.0.1:8086', '127.0.0.1:8085']\n"
     ]
    }
   ],
   "source": [
    "url = \"http://127.0.0.1:8087/chain\"\n",
    "data = {}\n",
    "header = {}\n",
    "response = requests.request(\"GET\", url, headers=header, data=data)\n",
    "\n",
    "if response.status_code == 200:\n",
    "    response_chain = response.json()[\"chain\"]\n",
    "    peers = response.json()[\"peers\"]\n",
    "    print(response_chain)\n",
    "    print(peers)"
   ]
  },
  {
   "cell_type": "markdown",
   "id": "153f0ae2",
   "metadata": {},
   "source": [
    "14) por último el nodo 2 creará una nuea transacción y se puede ver como los demás nodos actualizan correctamente sus cadenas"
   ]
  },
  {
   "cell_type": "code",
   "execution_count": 25,
   "id": "d4839a9b",
   "metadata": {},
   "outputs": [],
   "source": [
    "transaccion = {\n",
    "    \"author\":  \"jaime\",\n",
    "    \"content\": \"Transaccion desde el nodo 2\"\n",
    "}\n",
    "\n",
    "data = transaccion\n",
    "headers = {'Content-Type': \"application/json\"}\n",
    "    \n",
    "url = \"http://127.0.0.1:8086/new_transaction\"\n",
    "response = requests.post(url, data=json.dumps(data), headers=headers)"
   ]
  },
  {
   "cell_type": "code",
   "execution_count": 26,
   "id": "ef3afd88",
   "metadata": {},
   "outputs": [],
   "source": [
    "url = \"http://127.0.0.1:8086/mine\"\n",
    "data = {}\n",
    "header = {}\n",
    "response = requests.request(\"GET\", url, headers=header, data=data)"
   ]
  },
  {
   "cell_type": "code",
   "execution_count": 27,
   "id": "52c72481",
   "metadata": {},
   "outputs": [
    {
     "name": "stdout",
     "output_type": "stream",
     "text": [
      "[{'current_hash': '36e42f8d9be4e020ec7f902022a7c648b4c89f0d9f8111badee3c84509341ddc', 'index': 0, 'previous_hash': '0', 'timestamp': 1652890678.7656064, 'transactions': []}, {'current_hash': '00600abea4b2c9f70759029495224d95c812bdfe47fdb1fd7dc9dee4c286f2b5', 'index': 1, 'nonce': 57, 'previous_hash': '36e42f8d9be4e020ec7f902022a7c648b4c89f0d9f8111badee3c84509341ddc', 'timestamp': 1652890757.4750972, 'transactions': [{'author': 'jaime', 'content': 'Transaccion 1', 'time': 1652890754.5233378}]}, {'current_hash': '0066cac403a1f7963eecff34bd708ab84b9540c7f3b9f3704d884f7e2c420ff7', 'index': 2, 'nonce': 124, 'previous_hash': '00600abea4b2c9f70759029495224d95c812bdfe47fdb1fd7dc9dee4c286f2b5', 'timestamp': 1652890795.745785, 'transactions': [{'author': 'jaime', 'content': 'Transaccion desde el nodo 3', 'time': 1652890793.6909316}]}, {'current_hash': '00d67bc4242439547d3d978374883a444bc8154574fd14356f6cf3b7fa346c01', 'index': 3, 'nonce': 198, 'previous_hash': '0066cac403a1f7963eecff34bd708ab84b9540c7f3b9f3704d884f7e2c420ff7', 'timestamp': 1652890878.7616477, 'transactions': [{'author': 'jaime', 'content': 'Transaccion desde el nodo 1', 'time': 1652890866.0217798}]}, {'current_hash': '007af88f1884f2e954f80dcdd8ef55ca5f95bfccbaaa94f2e2ed879ab2563b60', 'index': 4, 'nonce': 220, 'previous_hash': '00d67bc4242439547d3d978374883a444bc8154574fd14356f6cf3b7fa346c01', 'timestamp': 1652891352.5964227, 'transactions': [{'author': 'jaime', 'content': 'Transaccion desde el nodo 2', 'time': 1652891351.1126184}]}]\n",
      "['127.0.0.1:8087', '127.0.0.1:8085']\n"
     ]
    }
   ],
   "source": [
    "url = \"http://127.0.0.1:8086/chain\"\n",
    "data = {}\n",
    "header = {}\n",
    "response = requests.request(\"GET\", url, headers=header, data=data)\n",
    "\n",
    "if response.status_code == 200:\n",
    "    response_chain = response.json()[\"chain\"]\n",
    "    peers = response.json()[\"peers\"]\n",
    "    print(response_chain)\n",
    "    print(peers)"
   ]
  },
  {
   "cell_type": "markdown",
   "id": "884532b9",
   "metadata": {},
   "source": [
    "15) mostramos las cadenas del nodo 1 y nodo 3"
   ]
  },
  {
   "cell_type": "code",
   "execution_count": 28,
   "id": "d2771ce4",
   "metadata": {},
   "outputs": [
    {
     "name": "stdout",
     "output_type": "stream",
     "text": [
      "[{'current_hash': '36e42f8d9be4e020ec7f902022a7c648b4c89f0d9f8111badee3c84509341ddc', 'index': 0, 'previous_hash': '0', 'timestamp': 1652890678.7656064, 'transactions': []}, {'current_hash': '00600abea4b2c9f70759029495224d95c812bdfe47fdb1fd7dc9dee4c286f2b5', 'index': 1, 'nonce': 57, 'previous_hash': '36e42f8d9be4e020ec7f902022a7c648b4c89f0d9f8111badee3c84509341ddc', 'timestamp': 1652890757.4750972, 'transactions': [{'author': 'jaime', 'content': 'Transaccion 1', 'time': 1652890754.5233378}]}, {'current_hash': '0066cac403a1f7963eecff34bd708ab84b9540c7f3b9f3704d884f7e2c420ff7', 'index': 2, 'nonce': 124, 'previous_hash': '00600abea4b2c9f70759029495224d95c812bdfe47fdb1fd7dc9dee4c286f2b5', 'timestamp': 1652890795.745785, 'transactions': [{'author': 'jaime', 'content': 'Transaccion desde el nodo 3', 'time': 1652890793.6909316}]}, {'current_hash': '00d67bc4242439547d3d978374883a444bc8154574fd14356f6cf3b7fa346c01', 'index': 3, 'nonce': 198, 'previous_hash': '0066cac403a1f7963eecff34bd708ab84b9540c7f3b9f3704d884f7e2c420ff7', 'timestamp': 1652890878.7616477, 'transactions': [{'author': 'jaime', 'content': 'Transaccion desde el nodo 1', 'time': 1652890866.0217798}]}, {'current_hash': '007af88f1884f2e954f80dcdd8ef55ca5f95bfccbaaa94f2e2ed879ab2563b60', 'index': 4, 'nonce': 220, 'previous_hash': '00d67bc4242439547d3d978374883a444bc8154574fd14356f6cf3b7fa346c01', 'timestamp': 1652891352.5964227, 'transactions': [{'author': 'jaime', 'content': 'Transaccion desde el nodo 2', 'time': 1652891351.1126184}]}]\n",
      "['127.0.0.1:8086', '127.0.0.1:8087']\n"
     ]
    }
   ],
   "source": [
    "url = \"http://127.0.0.1:8085/chain\"\n",
    "data = {}\n",
    "header = {}\n",
    "response = requests.request(\"GET\", url, headers=header, data=data)\n",
    "\n",
    "if response.status_code == 200:\n",
    "    response_chain = response.json()[\"chain\"]\n",
    "    peers = response.json()[\"peers\"]\n",
    "    print(response_chain)\n",
    "    print(peers)"
   ]
  },
  {
   "cell_type": "code",
   "execution_count": 29,
   "id": "c62c93c7",
   "metadata": {},
   "outputs": [
    {
     "name": "stdout",
     "output_type": "stream",
     "text": [
      "[{'current_hash': '36e42f8d9be4e020ec7f902022a7c648b4c89f0d9f8111badee3c84509341ddc', 'index': 0, 'previous_hash': '0', 'timestamp': 1652890678.7656064, 'transactions': []}, {'current_hash': '00600abea4b2c9f70759029495224d95c812bdfe47fdb1fd7dc9dee4c286f2b5', 'index': 1, 'nonce': 57, 'previous_hash': '36e42f8d9be4e020ec7f902022a7c648b4c89f0d9f8111badee3c84509341ddc', 'timestamp': 1652890757.4750972, 'transactions': [{'author': 'jaime', 'content': 'Transaccion 1', 'time': 1652890754.5233378}]}, {'current_hash': '0066cac403a1f7963eecff34bd708ab84b9540c7f3b9f3704d884f7e2c420ff7', 'index': 2, 'nonce': 124, 'previous_hash': '00600abea4b2c9f70759029495224d95c812bdfe47fdb1fd7dc9dee4c286f2b5', 'timestamp': 1652890795.745785, 'transactions': [{'author': 'jaime', 'content': 'Transaccion desde el nodo 3', 'time': 1652890793.6909316}]}, {'current_hash': '00d67bc4242439547d3d978374883a444bc8154574fd14356f6cf3b7fa346c01', 'index': 3, 'nonce': 198, 'previous_hash': '0066cac403a1f7963eecff34bd708ab84b9540c7f3b9f3704d884f7e2c420ff7', 'timestamp': 1652890878.7616477, 'transactions': [{'author': 'jaime', 'content': 'Transaccion desde el nodo 1', 'time': 1652890866.0217798}]}, {'current_hash': '007af88f1884f2e954f80dcdd8ef55ca5f95bfccbaaa94f2e2ed879ab2563b60', 'index': 4, 'nonce': 220, 'previous_hash': '00d67bc4242439547d3d978374883a444bc8154574fd14356f6cf3b7fa346c01', 'timestamp': 1652891352.5964227, 'transactions': [{'author': 'jaime', 'content': 'Transaccion desde el nodo 2', 'time': 1652891351.1126184}]}]\n",
      "['127.0.0.1:8086', '127.0.0.1:8085']\n"
     ]
    }
   ],
   "source": [
    "url = \"http://127.0.0.1:8087/chain\"\n",
    "data = {}\n",
    "header = {}\n",
    "response = requests.request(\"GET\", url, headers=header, data=data)\n",
    "\n",
    "if response.status_code == 200:\n",
    "    response_chain = response.json()[\"chain\"]\n",
    "    peers = response.json()[\"peers\"]\n",
    "    print(response_chain)\n",
    "    print(peers)"
   ]
  }
 ],
 "metadata": {
  "kernelspec": {
   "display_name": "Python 3 (ipykernel)",
   "language": "python",
   "name": "python3"
  },
  "language_info": {
   "codemirror_mode": {
    "name": "ipython",
    "version": 3
   },
   "file_extension": ".py",
   "mimetype": "text/x-python",
   "name": "python",
   "nbconvert_exporter": "python",
   "pygments_lexer": "ipython3",
   "version": "3.9.7"
  }
 },
 "nbformat": 4,
 "nbformat_minor": 5
}
