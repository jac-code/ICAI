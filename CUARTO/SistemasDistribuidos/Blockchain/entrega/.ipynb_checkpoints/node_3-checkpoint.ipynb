{
 "cells": [
  {
   "cell_type": "markdown",
   "id": "98c9cf76",
   "metadata": {},
   "source": [
    "NODO #3 DE LA RED"
   ]
  },
  {
   "cell_type": "markdown",
   "id": "a47c5c7c",
   "metadata": {},
   "source": [
    "Solo ejecutar para levantar el nodo"
   ]
  },
  {
   "cell_type": "code",
   "execution_count": 1,
   "id": "4c1afae9",
   "metadata": {},
   "outputs": [],
   "source": [
    "import node"
   ]
  },
  {
   "cell_type": "code",
   "execution_count": 2,
   "id": "6e173dc3",
   "metadata": {},
   "outputs": [
    {
     "name": "stdout",
     "output_type": "stream",
     "text": [
      " * Serving Flask app \"node\" (lazy loading)\n",
      " * Environment: production\n",
      "\u001b[31m   WARNING: This is a development server. Do not use it in a production deployment.\u001b[0m\n",
      "\u001b[2m   Use a production WSGI server instead.\u001b[0m\n",
      " * Debug mode: off\n"
     ]
    },
    {
     "name": "stderr",
     "output_type": "stream",
     "text": [
      " * Running on http://127.0.0.1:8085/ (Press CTRL+C to quit)\n",
      "127.0.0.1 - - [18/May/2022 17:07:04] \"GET / HTTP/1.1\" 200 -\n",
      "127.0.0.1 - - [18/May/2022 17:07:05] \"GET /favicon.ico HTTP/1.1\" 404 -\n",
      "127.0.0.1 - - [18/May/2022 17:07:11] \"POST /new_transaction HTTP/1.1\" 201 -\n",
      "127.0.0.1 - - [18/May/2022 17:07:15] \"GET /chain HTTP/1.1\" 200 -\n"
     ]
    }
   ],
   "source": [
    "# inicializamos los nodos de la red\n",
    "node_1 = node.app.run(port=8087)"
   ]
  },
  {
   "cell_type": "code",
   "execution_count": null,
   "id": "4de19fc6",
   "metadata": {},
   "outputs": [],
   "source": []
  },
  {
   "cell_type": "code",
   "execution_count": null,
   "id": "99c7a347",
   "metadata": {},
   "outputs": [],
   "source": []
  }
 ],
 "metadata": {
  "kernelspec": {
   "display_name": "Python 3 (ipykernel)",
   "language": "python",
   "name": "python3"
  },
  "language_info": {
   "codemirror_mode": {
    "name": "ipython",
    "version": 3
   },
   "file_extension": ".py",
   "mimetype": "text/x-python",
   "name": "python",
   "nbconvert_exporter": "python",
   "pygments_lexer": "ipython3",
   "version": "3.9.7"
  }
 },
 "nbformat": 4,
 "nbformat_minor": 5
}
