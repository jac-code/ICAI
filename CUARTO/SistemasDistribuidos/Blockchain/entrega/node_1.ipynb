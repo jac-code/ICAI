{
 "cells": [
  {
   "cell_type": "markdown",
   "id": "98c9cf76",
   "metadata": {},
   "source": [
    "NODO #1 DE LA RED"
   ]
  },
  {
   "cell_type": "markdown",
   "id": "a47c5c7c",
   "metadata": {},
   "source": [
    "Solo ejecutar para levantar el nodo"
   ]
  },
  {
   "cell_type": "code",
   "execution_count": 1,
   "id": "4c1afae9",
   "metadata": {},
   "outputs": [],
   "source": [
    "import node"
   ]
  },
  {
   "cell_type": "code",
   "execution_count": 2,
   "id": "6e173dc3",
   "metadata": {},
   "outputs": [
    {
     "name": "stdout",
     "output_type": "stream",
     "text": [
      " * Serving Flask app \"node\" (lazy loading)\n",
      " * Environment: production\n",
      "\u001b[31m   WARNING: This is a development server. Do not use it in a production deployment.\u001b[0m\n",
      "\u001b[2m   Use a production WSGI server instead.\u001b[0m\n",
      " * Debug mode: off\n"
     ]
    },
    {
     "name": "stderr",
     "output_type": "stream",
     "text": [
      " * Running on http://127.0.0.1:8085/ (Press CTRL+C to quit)\n",
      "127.0.0.1 - - [18/May/2022 18:19:05] \"GET /chain HTTP/1.1\" 200 -\n",
      "127.0.0.1 - - [18/May/2022 18:19:14] \"POST /new_transaction HTTP/1.1\" 201 -\n",
      "127.0.0.1 - - [18/May/2022 18:19:17] \"GET /mine HTTP/1.1\" 200 -\n"
     ]
    },
    {
     "name": "stdout",
     "output_type": "stream",
     "text": [
      "nos quedeamos con la cadena actual\n",
      "Block mined: 1\n",
      "Consensus despues de minado, si era la más larga\n"
     ]
    },
    {
     "name": "stderr",
     "output_type": "stream",
     "text": [
      "127.0.0.1 - - [18/May/2022 18:19:21] \"GET /chain HTTP/1.1\" 200 -\n",
      "127.0.0.1 - - [18/May/2022 18:19:27] \"POST /register_new_node HTTP/1.1\" 200 -\n",
      "127.0.0.1 - - [18/May/2022 18:19:35] \"GET /chain HTTP/1.1\" 200 -\n",
      "127.0.0.1 - - [18/May/2022 18:19:55] \"GET /chain HTTP/1.1\" 200 -\n",
      "127.0.0.1 - - [18/May/2022 18:19:55] \"GET /chain HTTP/1.1\" 200 -\n",
      "127.0.0.1 - - [18/May/2022 18:19:55] \"POST /add_block HTTP/1.1\" 201 -\n",
      "127.0.0.1 - - [18/May/2022 18:20:01] \"GET /chain HTTP/1.1\" 200 -\n",
      "127.0.0.1 - - [18/May/2022 18:21:06] \"POST /new_transaction HTTP/1.1\" 201 -\n",
      "127.0.0.1 - - [18/May/2022 18:21:18] \"GET /mine HTTP/1.1\" 200 -\n"
     ]
    },
    {
     "name": "stdout",
     "output_type": "stream",
     "text": [
      "http://127.0.0.1:8087/chain\n",
      "nos quedeamos con la cadena actual\n",
      "Block mined: 3\n",
      "http://127.0.0.1:8087/chain\n",
      "Consensus despues de minado, si era la más larga\n"
     ]
    },
    {
     "name": "stderr",
     "output_type": "stream",
     "text": [
      "127.0.0.1 - - [18/May/2022 18:21:30] \"GET /chain HTTP/1.1\" 200 -\n",
      "[2022-05-18 18:23:22,040] ERROR in app: Exception on /add_peer [POST]\n",
      "Traceback (most recent call last):\n",
      "  File \"C:\\ProgramData\\Anaconda3\\lib\\site-packages\\flask\\app.py\", line 2447, in wsgi_app\n",
      "    response = self.full_dispatch_request()\n",
      "  File \"C:\\ProgramData\\Anaconda3\\lib\\site-packages\\flask\\app.py\", line 1953, in full_dispatch_request\n",
      "    return self.finalize_request(rv)\n",
      "  File \"C:\\ProgramData\\Anaconda3\\lib\\site-packages\\flask\\app.py\", line 1968, in finalize_request\n",
      "    response = self.make_response(rv)\n",
      "  File \"C:\\ProgramData\\Anaconda3\\lib\\site-packages\\flask\\app.py\", line 2097, in make_response\n",
      "    raise TypeError(\n",
      "TypeError: The view function did not return a valid response. The function either returned None or ended without a return statement.\n",
      "127.0.0.1 - - [18/May/2022 18:23:22] \"POST /add_peer HTTP/1.1\" 500 -\n",
      "127.0.0.1 - - [18/May/2022 18:24:16] \"GET /chain HTTP/1.1\" 200 -\n",
      "127.0.0.1 - - [18/May/2022 18:29:12] \"GET /chain HTTP/1.1\" 200 -\n",
      "127.0.0.1 - - [18/May/2022 18:29:12] \"GET /chain HTTP/1.1\" 200 -\n",
      "127.0.0.1 - - [18/May/2022 18:29:12] \"POST /add_block HTTP/1.1\" 201 -\n",
      "127.0.0.1 - - [18/May/2022 18:29:45] \"GET /chain HTTP/1.1\" 200 -\n"
     ]
    }
   ],
   "source": [
    "# inicializamos los nodos de la red\n",
    "node_1 = node.app.run(port=8085)"
   ]
  },
  {
   "cell_type": "code",
   "execution_count": null,
   "id": "4de19fc6",
   "metadata": {},
   "outputs": [],
   "source": []
  },
  {
   "cell_type": "code",
   "execution_count": null,
   "id": "99c7a347",
   "metadata": {},
   "outputs": [],
   "source": []
  }
 ],
 "metadata": {
  "kernelspec": {
   "display_name": "Python 3 (ipykernel)",
   "language": "python",
   "name": "python3"
  },
  "language_info": {
   "codemirror_mode": {
    "name": "ipython",
    "version": 3
   },
   "file_extension": ".py",
   "mimetype": "text/x-python",
   "name": "python",
   "nbconvert_exporter": "python",
   "pygments_lexer": "ipython3",
   "version": "3.9.7"
  }
 },
 "nbformat": 4,
 "nbformat_minor": 5
}
