{
 "cells": [
  {
   "cell_type": "markdown",
   "id": "0e99773c",
   "metadata": {},
   "source": [
    "# Web App"
   ]
  },
  {
   "cell_type": "code",
   "execution_count": null,
   "id": "2e5d555e",
   "metadata": {},
   "outputs": [],
   "source": [
    "from ipynb.fs.full.WebApp import app\n",
    "\n",
    "app.run(debug=False)"
   ]
  },
  {
   "cell_type": "code",
   "execution_count": null,
   "id": "0af1738b",
   "metadata": {},
   "outputs": [],
   "source": []
  }
 ],
 "metadata": {
  "kernelspec": {
   "display_name": "Python 3",
   "language": "python",
   "name": "python3"
  },
  "language_info": {
   "codemirror_mode": {
    "name": "ipython",
    "version": 3
   },
   "file_extension": ".py",
   "mimetype": "text/x-python",
   "name": "python",
   "nbconvert_exporter": "python",
   "pygments_lexer": "ipython3",
   "version": "3.8.8"
  }
 },
 "nbformat": 4,
 "nbformat_minor": 5
}
