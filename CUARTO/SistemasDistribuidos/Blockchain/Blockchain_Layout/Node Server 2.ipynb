{
 "cells": [
  {
   "cell_type": "markdown",
   "id": "56ae3137",
   "metadata": {},
   "source": [
    "# Node Server 2"
   ]
  },
  {
   "cell_type": "code",
   "execution_count": 1,
   "id": "4a67892b",
   "metadata": {},
   "outputs": [],
   "source": [
    "# !pip install ipynb\n",
    "from ipynb.fs.full.library import Block\n",
    "from ipynb.fs.full.library import Blockchain\n",
    "from ipynb.fs.full.Interface import *\n",
    "import json"
   ]
  },
  {
   "cell_type": "code",
   "execution_count": null,
   "id": "32ac9696",
   "metadata": {},
   "outputs": [
    {
     "name": "stdout",
     "output_type": "stream",
     "text": [
      " * Serving Flask app \"ipynb.fs.full.Interface\" (lazy loading)\n",
      " * Environment: production\n",
      "   WARNING: This is a development server. Do not use it in a production deployment.\n",
      "   Use a production WSGI server instead.\n",
      " * Debug mode: off\n"
     ]
    },
    {
     "name": "stderr",
     "output_type": "stream",
     "text": [
      " * Running on http://127.0.0.1:8002/ (Press CTRL+C to quit)\n"
     ]
    }
   ],
   "source": [
    "app.run(debug=False, port=8002)"
   ]
  },
  {
   "cell_type": "code",
   "execution_count": null,
   "id": "b5d400df",
   "metadata": {},
   "outputs": [],
   "source": []
  }
 ],
 "metadata": {
  "kernelspec": {
   "display_name": "Python 3",
   "language": "python",
   "name": "python3"
  },
  "language_info": {
   "codemirror_mode": {
    "name": "ipython",
    "version": 3
   },
   "file_extension": ".py",
   "mimetype": "text/x-python",
   "name": "python",
   "nbconvert_exporter": "python",
   "pygments_lexer": "ipython3",
   "version": "3.8.8"
  }
 },
 "nbformat": 4,
 "nbformat_minor": 5
}
