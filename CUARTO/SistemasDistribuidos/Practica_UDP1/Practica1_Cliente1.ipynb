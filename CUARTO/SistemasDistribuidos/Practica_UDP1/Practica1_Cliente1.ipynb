{
 "cells": [
  {
   "cell_type": "markdown",
   "id": "3632d942",
   "metadata": {},
   "source": [
    "# PRÁCTICA 1 - UDP"
   ]
  },
  {
   "cell_type": "markdown",
   "id": "0d891c9f",
   "metadata": {},
   "source": [
    "# CLIENTE PRUEBA"
   ]
  },
  {
   "cell_type": "code",
   "execution_count": 15,
   "id": "b1f9fedf",
   "metadata": {},
   "outputs": [
    {
     "ename": "ConnectionResetError",
     "evalue": "[WinError 10054] Se ha forzado la interrupción de una conexión existente por el host remoto",
     "output_type": "error",
     "traceback": [
      "\u001b[1;31m---------------------------------------------------------------------------\u001b[0m",
      "\u001b[1;31mConnectionResetError\u001b[0m                      Traceback (most recent call last)",
      "\u001b[1;32m~\\AppData\\Local\\Temp/ipykernel_13040/4178385741.py\u001b[0m in \u001b[0;36m<module>\u001b[1;34m\u001b[0m\n\u001b[0;32m      9\u001b[0m \u001b[0msocket\u001b[0m\u001b[1;33m.\u001b[0m\u001b[0msend\u001b[0m\u001b[1;33m(\u001b[0m\u001b[0mbytes_tx\u001b[0m\u001b[1;33m)\u001b[0m\u001b[1;33m\u001b[0m\u001b[1;33m\u001b[0m\u001b[0m\n\u001b[0;32m     10\u001b[0m \u001b[1;33m\u001b[0m\u001b[0m\n\u001b[1;32m---> 11\u001b[1;33m \u001b[0mbytes_rx\u001b[0m \u001b[1;33m=\u001b[0m \u001b[0msocket\u001b[0m\u001b[1;33m.\u001b[0m\u001b[0mrecvfrom\u001b[0m\u001b[1;33m(\u001b[0m\u001b[1;36m1024\u001b[0m\u001b[1;33m)\u001b[0m\u001b[1;33m\u001b[0m\u001b[1;33m\u001b[0m\u001b[0m\n\u001b[0m\u001b[0;32m     12\u001b[0m \u001b[0mprint\u001b[0m\u001b[1;33m(\u001b[0m\u001b[1;34m\"RX: \"\u001b[0m\u001b[1;33m,\u001b[0m \u001b[0mbytes_rx\u001b[0m\u001b[1;33m)\u001b[0m\u001b[1;33m\u001b[0m\u001b[1;33m\u001b[0m\u001b[0m\n\u001b[0;32m     13\u001b[0m \u001b[0msocket\u001b[0m\u001b[1;33m.\u001b[0m\u001b[0mclose\u001b[0m\u001b[1;33m(\u001b[0m\u001b[1;33m)\u001b[0m\u001b[1;33m\u001b[0m\u001b[1;33m\u001b[0m\u001b[0m\n",
      "\u001b[1;31mConnectionResetError\u001b[0m: [WinError 10054] Se ha forzado la interrupción de una conexión existente por el host remoto"
     ]
    }
   ],
   "source": [
    "import socket\n",
    "\n",
    "msg = 'Hello Server, I am Client 1'\n",
    "bytes_tx = str.encode(msg)\n",
    "\n",
    "server_address = (\"127.0.0.1\", 6780)\n",
    "socket = socket.socket(family=socket.AF_INET, type=socket.SOCK_DGRAM)\n",
    "socket.send(bytes_tx, server_address)\n",
    "\n",
    "bytes_rx = socket.recvfrom(1024)\n",
    "print(\"RX: \", bytes_rx)\n",
    "socket.close()"
   ]
  },
  {
   "cell_type": "markdown",
   "id": "2621edc3",
   "metadata": {},
   "source": [
    "CLIENTE 1 - 1.1"
   ]
  },
  {
   "cell_type": "code",
   "execution_count": 5,
   "id": "d8fa6520",
   "metadata": {},
   "outputs": [
    {
     "ename": "ConnectionRefusedError",
     "evalue": "[WinError 10061] No se puede establecer una conexión ya que el equipo de destino denegó expresamente dicha conexión",
     "output_type": "error",
     "traceback": [
      "\u001b[1;31m---------------------------------------------------------------------------\u001b[0m",
      "\u001b[1;31mConnectionRefusedError\u001b[0m                    Traceback (most recent call last)",
      "\u001b[1;32m~\\AppData\\Local\\Temp/ipykernel_10724/4132567286.py\u001b[0m in \u001b[0;36m<module>\u001b[1;34m\u001b[0m\n\u001b[0;32m      6\u001b[0m \u001b[1;31m#server_address = (\"127.0.0.1\", 6780)\u001b[0m\u001b[1;33m\u001b[0m\u001b[1;33m\u001b[0m\u001b[0m\n\u001b[0;32m      7\u001b[0m \u001b[0ms\u001b[0m \u001b[1;33m=\u001b[0m \u001b[0msocket\u001b[0m\u001b[1;33m(\u001b[0m\u001b[0mAF_INET\u001b[0m\u001b[1;33m,\u001b[0m \u001b[0mSOCK_STREAM\u001b[0m\u001b[1;33m)\u001b[0m\u001b[1;33m\u001b[0m\u001b[1;33m\u001b[0m\u001b[0m\n\u001b[1;32m----> 8\u001b[1;33m \u001b[0ms\u001b[0m\u001b[1;33m.\u001b[0m\u001b[0mconnect\u001b[0m\u001b[1;33m(\u001b[0m\u001b[1;33m(\u001b[0m\u001b[1;34m\"127.0.0.1\"\u001b[0m\u001b[1;33m,\u001b[0m \u001b[1;36m6780\u001b[0m\u001b[1;33m)\u001b[0m\u001b[1;33m)\u001b[0m\u001b[1;33m\u001b[0m\u001b[1;33m\u001b[0m\u001b[0m\n\u001b[0m\u001b[0;32m      9\u001b[0m \u001b[0ms\u001b[0m\u001b[1;33m.\u001b[0m\u001b[0msend\u001b[0m\u001b[1;33m(\u001b[0m\u001b[0mbytes_tx\u001b[0m\u001b[1;33m)\u001b[0m\u001b[1;33m\u001b[0m\u001b[1;33m\u001b[0m\u001b[0m\n\u001b[0;32m     10\u001b[0m \u001b[1;33m\u001b[0m\u001b[0m\n",
      "\u001b[1;31mConnectionRefusedError\u001b[0m: [WinError 10061] No se puede establecer una conexión ya que el equipo de destino denegó expresamente dicha conexión"
     ]
    }
   ],
   "source": [
    "from socket import *\n",
    "\n",
    "msg = 'Hello Server, I am Client 1'\n",
    "bytes_tx = str.encode(msg)\n",
    "\n",
    "#server_address = (\"127.0.0.1\", 6780)\n",
    "s = socket(AF_INET, SOCK_STREAM)\n",
    "s.connect((\"127.0.0.1\", 6780))\n",
    "s.send(bytes_tx)\n",
    "\n",
    "bytes_rx = s.recvfrom(1024)\n",
    "print(\"RX: \")\n",
    "print(bytes_rx[0].decode())\n",
    "s.close()"
   ]
  },
  {
   "cell_type": "markdown",
   "id": "250b9f7b",
   "metadata": {},
   "source": [
    "CLIENTE 2 - 1.1"
   ]
  },
  {
   "cell_type": "code",
   "execution_count": 3,
   "id": "82540d81",
   "metadata": {},
   "outputs": [
    {
     "name": "stdout",
     "output_type": "stream",
     "text": [
      "RX: \n",
      "Hello Client\n"
     ]
    }
   ],
   "source": [
    "from socket import *\n",
    "\n",
    "msg = 'Hello Server, I am Client 2'\n",
    "bytes_tx = str.encode(msg)\n",
    "\n",
    "#server_address = (\"127.0.0.1\", 6780)\n",
    "s = socket(AF_INET, SOCK_STREAM)\n",
    "s.connect((\"127.0.0.1\", 6780))\n",
    "s.send(bytes_tx)\n",
    "\n",
    "bytes_rx = s.recvfrom(1024)\n",
    "print(\"RX: \")\n",
    "print(bytes_rx[0].decode())\n",
    "s.close()"
   ]
  },
  {
   "cell_type": "markdown",
   "id": "af0a865a",
   "metadata": {},
   "source": [
    "De un ordenador a otro no podemos por problemas superiores a nosotros."
   ]
  },
  {
   "cell_type": "markdown",
   "id": "a59c946e",
   "metadata": {},
   "source": [
    "CLIENTE 1 - 1.3"
   ]
  },
  {
   "cell_type": "code",
   "execution_count": 3,
   "id": "ac832976",
   "metadata": {},
   "outputs": [
    {
     "name": "stdout",
     "output_type": "stream",
     "text": [
      "Introduzca el mensaje a enviar: \n",
      "hola 1\n",
      "Message sent successfuly\n",
      "Hello Client\n",
      "6\n",
      "Message received from server: ('127.0.0.1', 6780)\n"
     ]
    }
   ],
   "source": [
    "import pickle\n",
    "from socket import *\n",
    "\n",
    "id_cliente = 1\n",
    "print('Introduzca el mensaje a enviar: ')\n",
    "msg = input()\n",
    "\n",
    "server_address = (\"127.0.0.1\", 6780)\n",
    "bytes_tx = pickle.dumps([msg, id_cliente])\n",
    "\n",
    "s = socket(AF_INET, SOCK_STREAM)\n",
    "s.connect(server_address)\n",
    "s.send(bytes_tx)\n",
    "print('Message sent successfuly')\n",
    "\n",
    "bytes_rx = s.recvfrom(1024)\n",
    "msg_recibido = pickle.loads(bytes_rx[0])\n",
    "print(msg_recibido[0])\n",
    "print(msg_recibido[1])\n",
    "print('Message received from server: ' + str(server_address))\n",
    "\n",
    "s.close()"
   ]
  },
  {
   "cell_type": "code",
   "execution_count": 4,
   "id": "c32c7399",
   "metadata": {},
   "outputs": [
    {
     "name": "stdout",
     "output_type": "stream",
     "text": [
      "Introduzca el mensaje a enviar: \n",
      "hola 2\n",
      "Message sent successfuly\n",
      "Hello Client\n",
      "6\n",
      "Message received from server: ('127.0.0.1', 6780)\n"
     ]
    }
   ],
   "source": [
    "import pickle\n",
    "from socket import *\n",
    "\n",
    "id_cliente = 2\n",
    "print('Introduzca el mensaje a enviar: ')\n",
    "msg = input()\n",
    "\n",
    "server_address = (\"127.0.0.1\", 6780)\n",
    "bytes_tx = pickle.dumps([msg, id_cliente, server_address])\n",
    "\n",
    "s = socket(AF_INET, SOCK_STREAM)\n",
    "s.connect(server_address)\n",
    "s.send(bytes_tx)\n",
    "print('Message sent successfuly')\n",
    "\n",
    "bytes_rx = s.recvfrom(1024)\n",
    "msg_recibido = pickle.loads(bytes_rx[0])\n",
    "print(msg_recibido[0])\n",
    "print(msg_recibido[1])\n",
    "print('Message received from server: ' + str(server_address))\n",
    "\n",
    "s.close()"
   ]
  },
  {
   "cell_type": "code",
   "execution_count": null,
   "id": "bcce2f9e",
   "metadata": {},
   "outputs": [],
   "source": []
  },
  {
   "cell_type": "markdown",
   "id": "2c762847",
   "metadata": {},
   "source": [
    "CLIENTE 1.4"
   ]
  },
  {
   "cell_type": "code",
   "execution_count": null,
   "id": "bf830f44",
   "metadata": {},
   "outputs": [
    {
     "name": "stdout",
     "output_type": "stream",
     "text": [
      "Introduzca el número del puerto (6780 en servidor): \n",
      "6780\n",
      "6780\n",
      "Introduzca el mensaje a enviar: \n",
      "hola1\n",
      "Message sent successfuly\n",
      "Hello Client\n",
      "5\n",
      "Message received from server: ('127.0.0.1', 6780)\n",
      "Introduzca el mensaje a enviar: \n",
      "hola3\n",
      "Message sent successfuly\n",
      "Hello Client\n",
      "5\n",
      "Message received from server: ('127.0.0.1', 6780)\n",
      "Introduzca el mensaje a enviar: \n"
     ]
    }
   ],
   "source": [
    "import pickle\n",
    "import time\n",
    "from socket import *\n",
    "\n",
    "id_cliente = 1\n",
    "\n",
    "puerto = 0\n",
    "\n",
    "while(puerto == 0):\n",
    "    try:\n",
    "        print(\"Introduzca el número del puerto (6780 en servidor): \")\n",
    "        puerto = int(input())\n",
    "        print(puerto)\n",
    "    except:\n",
    "        print('El puerto debe ser un numero')\n",
    "\n",
    "\n",
    "msg = ''\n",
    "\n",
    "while(msg != 'EXIT'):\n",
    "    cont = 0\n",
    "    print('Introduzca el mensaje a enviar: ')\n",
    "    msg = input()\n",
    "\n",
    "    server_address = (\"127.0.0.1\", puerto)\n",
    "    bytes_tx = pickle.dumps([msg, id_cliente, server_address])\n",
    "\n",
    "    s = socket(AF_INET, SOCK_STREAM)\n",
    "    while cont < 5:\n",
    "        try:\n",
    "            s.connect(server_address)\n",
    "            s.send(bytes_tx)\n",
    "            print('Message sent successfuly')\n",
    "\n",
    "            bytes_rx = s.recvfrom(1024)\n",
    "            msg_recibido = pickle.loads(bytes_rx[0])\n",
    "            print(msg_recibido[0])\n",
    "            print(msg_recibido[1])\n",
    "            print('Message received from server: ' + str(server_address))\n",
    "            break\n",
    "        except:\n",
    "            cont = cont + 1\n",
    "            print('Esperando...')\n",
    "            time.sleep(1)\n",
    "            if cont == 5:\n",
    "                print('Conexión cerrada')\n",
    "                s.close()\n",
    "s.close()"
   ]
  },
  {
   "cell_type": "code",
   "execution_count": null,
   "id": "9790fd55",
   "metadata": {},
   "outputs": [],
   "source": []
  }
 ],
 "metadata": {
  "kernelspec": {
   "display_name": "Python 3 (ipykernel)",
   "language": "python",
   "name": "python3"
  },
  "language_info": {
   "codemirror_mode": {
    "name": "ipython",
    "version": 3
   },
   "file_extension": ".py",
   "mimetype": "text/x-python",
   "name": "python",
   "nbconvert_exporter": "python",
   "pygments_lexer": "ipython3",
   "version": "3.9.7"
  }
 },
 "nbformat": 4,
 "nbformat_minor": 5
}
