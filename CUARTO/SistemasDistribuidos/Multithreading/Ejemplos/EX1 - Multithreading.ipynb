{
 "cells": [
  {
   "cell_type": "markdown",
   "metadata": {},
   "source": [
    "# Example 1 with threads"
   ]
  },
  {
   "cell_type": "code",
   "execution_count": 1,
   "metadata": {},
   "outputs": [
    {
     "name": "stdout",
     "output_type": "stream",
     "text": [
      "Main process is ended\n",
      "Ended thread:  1  after waiting  1  seconds\n",
      "Ended thread:  2  after waiting  2  seconds\n",
      "Ended thread:  3  after waiting  3  seconds\n",
      "Ended thread:  4  after waiting  4  seconds\n",
      "Ended thread:  5  after waiting  5  seconds\n",
      "Ended thread:  6  after waiting  6  seconds\n",
      "Ended thread:  7  after waiting  7  seconds\n",
      "Ended thread:  8  after waiting  8  seconds\n",
      "Ended thread:  9  after waiting  9  seconds\n",
      "Ended thread:  10  after waiting  10  seconds\n"
     ]
    }
   ],
   "source": [
    "import time\n",
    "import threading\n",
    "        \n",
    "def emulate_worker(ide,seconds):\n",
    "    time.sleep(seconds)\n",
    "    print(\"Ended thread: \",ide, \" after waiting \",seconds,\" seconds\")\n",
    "    \n",
    "for ide in range(1,11):\n",
    "    reader = threading.Thread(target=emulate_worker, args=(ide,ide))\n",
    "    reader.start()\n",
    "    \n",
    "print(\"Main process is ended\")"
   ]
  },
  {
   "cell_type": "markdown",
   "metadata": {},
   "source": [
    "# Example 2 with threads"
   ]
  },
  {
   "cell_type": "markdown",
   "metadata": {},
   "source": [
    "Note that the thread switching can happen in the middle of a printing operation"
   ]
  },
  {
   "cell_type": "code",
   "execution_count": 2,
   "metadata": {},
   "outputs": [
    {
     "name": "stdout",
     "output_type": "stream",
     "text": [
      "Main process is ended\n",
      "Ended thread:  6  after waiting  1  seconds\n",
      "Ended thread:  3  after waiting  2  seconds\n",
      "Ended thread:  2  after waiting  3  seconds\n",
      "Ended thread:  4  after waiting  5  seconds\n",
      "Ended thread:  9  after waiting  5  seconds\n",
      "Ended thread:  7  after waiting  6  seconds\n",
      "Ended thread:  10  after waiting  7  seconds\n",
      "Ended thread:  8Ended thread:  1  after waiting  8  seconds\n",
      "Ended thread:  5  after waiting  8  seconds\n",
      "  after waiting  8  seconds\n"
     ]
    }
   ],
   "source": [
    "import time\n",
    "import threading\n",
    "import random\n",
    "        \n",
    "def emulate_worker(ide,seconds):\n",
    "    randomtime=random.randint(1,seconds)\n",
    "    time.sleep(randomtime)\n",
    "    print(\"Ended thread: \",ide, \" after waiting \",randomtime,\" seconds\")\n",
    "    \n",
    "for ide in range(1,11):\n",
    "    reader = threading.Thread(target=emulate_worker, args=(ide,10))\n",
    "    reader.start()\n",
    "    \n",
    "print(\"Main process is ended\")"
   ]
  },
  {
   "cell_type": "code",
   "execution_count": null,
   "metadata": {},
   "outputs": [],
   "source": []
  }
 ],
 "metadata": {
  "kernelspec": {
   "display_name": "Python 3 (ipykernel)",
   "language": "python",
   "name": "python3"
  },
  "language_info": {
   "codemirror_mode": {
    "name": "ipython",
    "version": 3
   },
   "file_extension": ".py",
   "mimetype": "text/x-python",
   "name": "python",
   "nbconvert_exporter": "python",
   "pygments_lexer": "ipython3",
   "version": "3.9.7"
  }
 },
 "nbformat": 4,
 "nbformat_minor": 2
}
