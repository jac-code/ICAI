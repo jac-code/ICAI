{
 "cells": [
  {
   "cell_type": "markdown",
   "metadata": {},
   "source": [
    "# Example 2 with threads "
   ]
  },
  {
   "cell_type": "markdown",
   "metadata": {},
   "source": [
    "### Multithreading Server receiving commands"
   ]
  },
  {
   "cell_type": "code",
   "execution_count": null,
   "metadata": {},
   "outputs": [
    {
     "name": "stdout",
     "output_type": "stream",
     "text": [
      "Socket created\n",
      "Socket now listening\n",
      "Connection from client 127.0.0.1:60341\n",
      "Socket now listening\n",
      "Connection from client 127.0.0.1:60342\n",
      "Socket now listening\n",
      "Client client1 sent data: hola\n",
      "Client client1 sent data: amigo\n",
      "Client client2 sent data: hola\n",
      "Client client2 sent data: amigo\n",
      "Client client1 is requesting to quit\n",
      "Connection 127.0.0.1:60341 closed\n",
      "Client client2 is requesting to quit\n",
      "Connection 127.0.0.1:60342 closed\n"
     ]
    }
   ],
   "source": [
    "import socket\n",
    "import sys\n",
    "import traceback\n",
    "from threading import Thread\n",
    "\n",
    "def main():\n",
    "     start_server()\n",
    "        \n",
    "def start_server():\n",
    "    host = \"localhost\"\n",
    "    port = 6780\n",
    "    sock = socket.socket(socket.AF_INET, socket.SOCK_STREAM)\n",
    "    sock.setsockopt(socket.SOL_SOCKET, socket.SO_REUSEADDR, 1)\n",
    "    print(\"Socket created\")\n",
    "    try:\n",
    "        sock.bind((host, port))\n",
    "    except:\n",
    "        print(\"Bind failed. Error : \" + str(sys.exc_info()))\n",
    "        sys.exit()\n",
    "    sock.listen() \n",
    "    # infinite loop- do not reset for every requests\n",
    "    while True:\n",
    "        print(\"Socket now listening\")\n",
    "        connection, address = sock.accept()\n",
    "        ip, port = str(address[0]), str(address[1])\n",
    "        print(\"Connection from client \" + ip + \":\" + port)\n",
    "        try:\n",
    "            Thread(target=clientThread, args=(connection, ip, port)).start()\n",
    "        except:\n",
    "            print(\"Thread did not start.\")\n",
    "            traceback.print_exc()\n",
    "    sock.close()\n",
    "    \n",
    "def clientThread(connection, ip, port, max_buffer_size = 1024):\n",
    "    is_active = True\n",
    "    while is_active:\n",
    "        client_input = connection.recv(max_buffer_size).decode(\"utf8\")\n",
    "        clientid,msg=client_input.split(\":\")\n",
    "        if \"quit\" in msg:\n",
    "            print(\"Client {} is requesting to quit\".format(clientid))\n",
    "            connection.close()\n",
    "            print(\"Connection \" + ip + \":\" + port + \" closed\")\n",
    "            is_active = False\n",
    "        else:\n",
    "            print(\"Client {} sent data: {}\".format(clientid,msg))\n",
    "            connection.send(\"ok\".encode(\"utf8\"))\n",
    "\n",
    "if __name__ == \"__main__\":\n",
    "    main()"
   ]
  },
  {
   "cell_type": "code",
   "execution_count": null,
   "metadata": {},
   "outputs": [],
   "source": []
  }
 ],
 "metadata": {
  "kernelspec": {
   "display_name": "Python 3 (ipykernel)",
   "language": "python",
   "name": "python3"
  },
  "language_info": {
   "codemirror_mode": {
    "name": "ipython",
    "version": 3
   },
   "file_extension": ".py",
   "mimetype": "text/x-python",
   "name": "python",
   "nbconvert_exporter": "python",
   "pygments_lexer": "ipython3",
   "version": "3.9.7"
  }
 },
 "nbformat": 4,
 "nbformat_minor": 2
}
