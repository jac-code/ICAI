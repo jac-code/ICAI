{
 "cells": [
  {
   "cell_type": "markdown",
   "metadata": {},
   "source": [
    "# Example 2 with threads \n",
    "### Client2 sending commands"
   ]
  },
  {
   "cell_type": "code",
   "execution_count": 1,
   "metadata": {},
   "outputs": [
    {
     "name": "stdout",
     "output_type": "stream",
     "text": [
      "Please enter 'quit' to exit\n",
      "client2> hola\n",
      "Message registered\n",
      "client2> amigo\n",
      "Message registered\n",
      "client2> quit\n",
      "Bye\n"
     ]
    }
   ],
   "source": [
    "import socket\n",
    "import sys\n",
    "\n",
    "def main():\n",
    "    sock = socket.socket(socket.AF_INET, socket.SOCK_STREAM)\n",
    "    host = \"localhost\"\n",
    "    port = 6780\n",
    "    client = \"client2\"\n",
    "    try:\n",
    "        sock.connect((host, port))\n",
    "    except:\n",
    "        print(\"Connection Error\")\n",
    "        sys.exit()\n",
    "    print(\"Please enter 'quit' to exit\")\n",
    "    message = input(client+\"> \")\n",
    "    while message != 'quit':\n",
    "        sock.sendall((client+\":\"+message).encode(\"utf8\"))\n",
    "        receive = sock.recv(1024).decode(\"utf8\")\n",
    "        if receive == \"ok\":\n",
    "            print(\"Message registered\")\n",
    "        else:\n",
    "            print(\"Message not registered\")\n",
    "        message = input(client+\"> \")\n",
    "    print(\"Bye\")\n",
    "    sock.send((client+':'+'quit').encode(\"utf8\"))\n",
    "if __name__ == \"__main__\":\n",
    "     main()"
   ]
  },
  {
   "cell_type": "code",
   "execution_count": null,
   "metadata": {
    "collapsed": true
   },
   "outputs": [],
   "source": []
  }
 ],
 "metadata": {
  "kernelspec": {
   "display_name": "Python 3 (ipykernel)",
   "language": "python",
   "name": "python3"
  },
  "language_info": {
   "codemirror_mode": {
    "name": "ipython",
    "version": 3
   },
   "file_extension": ".py",
   "mimetype": "text/x-python",
   "name": "python",
   "nbconvert_exporter": "python",
   "pygments_lexer": "ipython3",
   "version": "3.9.7"
  }
 },
 "nbformat": 4,
 "nbformat_minor": 2
}
