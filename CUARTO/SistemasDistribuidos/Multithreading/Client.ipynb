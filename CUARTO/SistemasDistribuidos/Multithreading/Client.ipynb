{
 "cells": [
  {
   "cell_type": "markdown",
   "id": "ed9ce606",
   "metadata": {},
   "source": [
    "# SERVIDOR MULTITHREADING"
   ]
  },
  {
   "cell_type": "markdown",
   "id": "19ba644f",
   "metadata": {},
   "source": [
    "APARTADO 1"
   ]
  },
  {
   "cell_type": "markdown",
   "id": "5fdea5c9",
   "metadata": {},
   "source": [
    "Este cliente preguntará en primer lugar la dirección y puerto del servidor al que conectarse y validará que el puerto sea un número, si no es así, mostrará un error y volverá a pedir el puerto. Luego se irán pidiendo mensajes constantemente hasta que se introduzca el mensaje exit. Estos mensajes se irán almacenando en una lista. Posteriormente, iremos enviando cada mensaje de la lista por separado, en hebras diferentes, simulando que son enviados por diferentes clientes."
   ]
  },
  {
   "cell_type": "code",
   "execution_count": 2,
   "id": "9e945aeb",
   "metadata": {},
   "outputs": [
    {
     "name": "stdout",
     "output_type": "stream",
     "text": [
      "Introduzca el número del puerto (6780 para el servidor): \n",
      "6780\n",
      "6780\n",
      "Introduzca la dirección del servidor ('localhost' para el servidor): \n",
      "localhost\n",
      "localhost\n",
      "Introduzca el mensaje a enviar (exit para terminar): hola 1\n",
      "Introduzca el mensaje a enviar (exit para terminar): hola 2\n",
      "Introduzca el mensaje a enviar (exit para terminar): hola 3\n",
      "Introduzca el mensaje a enviar (exit para terminar): hola 4\n",
      "Introduzca el mensaje a enviar (exit para terminar): hola 5\n",
      "Introduzca el mensaje a enviar (exit para terminar): exit\n",
      "['hola 1', 'hola 2', 'hola 3', 'hola 4', 'hola 5', 'exit']\n",
      "hola 1\n",
      "hola 2\n",
      "hola 3\n",
      "Enviando mensaje...\n",
      "hola 4\n",
      "Enviando mensaje...hola 5\n",
      "\n",
      "okEnviando mensaje...\n",
      "exit\n",
      "Enviando mensaje...\n",
      "\n",
      "Enviando mensaje...\n",
      "ok\n",
      "Enviando mensaje...\n",
      "ok\n",
      "ok\n",
      "ok\n",
      "\n"
     ]
    }
   ],
   "source": [
    "import socket\n",
    "import sys\n",
    "import traceback\n",
    "from threading import Thread\n",
    "\n",
    "def clientThread(direccion, puerto, max_buffer_size, mensaje):       \n",
    "    try:\n",
    "        s = socket.socket(family=socket.AF_INET, type=socket.SOCK_STREAM)\n",
    "        s.connect((direccion, puerto))\n",
    "    except:\n",
    "        print('Error de conexión.')\n",
    "    \n",
    "    print('Enviando mensaje...')\n",
    "    s.sendall(mensaje.encode())\n",
    "    \n",
    "    data = s.recv(1024).decode()\n",
    "    print(data)\n",
    "    s.close()\n",
    "\n",
    "        \n",
    "puerto = 0\n",
    "direccion = ''\n",
    "client_id = 1\n",
    "\n",
    "while(puerto == 0):\n",
    "    try:\n",
    "        print(\"Introduzca el número del puerto (6780 para el servidor): \")\n",
    "        puerto = int(input())\n",
    "        print(puerto)\n",
    "    except:\n",
    "        print('El puerto debe ser un numero')\n",
    "        \n",
    "while(direccion == ''):\n",
    "    try:\n",
    "        print(\"Introduzca la dirección del servidor ('localhost' para el servidor): \")\n",
    "        direccion = (input())\n",
    "        print(direccion)\n",
    "    except:\n",
    "        print('El puerto debe ser un numero')\n",
    "\n",
    "\n",
    "lista_clientes = []\n",
    "msg = ''\n",
    "contador = 0\n",
    "\n",
    "while msg != 'exit':\n",
    "    msg = input('Introduzca el mensaje a enviar (exit para terminar): ')\n",
    "    lista_clientes.append(msg)\n",
    "\n",
    "print(lista_clientes)\n",
    "for x in lista_clientes:\n",
    "    print(x)\n",
    "    try:\n",
    "        Thread(target=clientThread, args=(direccion, puerto, 1024, x)).start()\n",
    "    except:\n",
    "        print('Error creando la hebra')\n",
    "        traceback.print_exc()\n",
    "\n"
   ]
  },
  {
   "cell_type": "markdown",
   "id": "ede5899c",
   "metadata": {},
   "source": [
    "Como podemos ver, al igual que en el servidor, vemos mensajes imprimidos por pantalla que se solapan entrel ellos. Esto es por lo ya explicado de que pese a trabajar con hilos diferentes el recurso de la pantalla es compartido y puede llevar a errores."
   ]
  },
  {
   "cell_type": "markdown",
   "id": "ab586892",
   "metadata": {},
   "source": [
    "APARTADO 2"
   ]
  },
  {
   "cell_type": "markdown",
   "id": "e3872aa9",
   "metadata": {},
   "source": [
    "Este cliente es igual que el anterior, con la salvedad de que vamos a utilizar el comando threading.Lock() cada vez que vayamos a usar el recurso de imprimir por pantalla y así evitar que se solapen mensajes."
   ]
  },
  {
   "cell_type": "code",
   "execution_count": 3,
   "id": "4c91b0be",
   "metadata": {},
   "outputs": [
    {
     "name": "stdout",
     "output_type": "stream",
     "text": [
      "Introduzca el mensaje a enviar (exit para terminar): hola 1\n",
      "Introduzca el mensaje a enviar (exit para terminar): hola 2\n",
      "Introduzca el mensaje a enviar (exit para terminar): hola 3\n",
      "Introduzca el mensaje a enviar (exit para terminar): hola 4\n",
      "Introduzca el mensaje a enviar (exit para terminar): hola 5\n",
      "Introduzca el mensaje a enviar (exit para terminar): exit\n",
      "['hola 1', 'hola 2', 'hola 3', 'hola 4', 'hola 5', 'exit']\n",
      "Enviando mensaje\n",
      "Enviando mensaje\n",
      "Enviando mensaje\n",
      "ok\n",
      "Enviando mensaje\n",
      "Enviando mensaje\n",
      "Enviando mensaje\n",
      "ok\n",
      "ok\n",
      "ok\n",
      "ok\n",
      "Conexión terminada.\n"
     ]
    }
   ],
   "source": [
    "import socket\n",
    "import sys\n",
    "import traceback\n",
    "import threading\n",
    "\n",
    "global threadLock \n",
    "threadLock = threading.Lock()\n",
    "\n",
    "def clientThread(direccion, puerto, max_buffer_size, mensaje):   \n",
    "    \n",
    "    try:\n",
    "        s = socket.socket(family=socket.AF_INET, type=socket.SOCK_STREAM)\n",
    "        s.connect((direccion, puerto))\n",
    "    except:\n",
    "        print('Error de conexión.')\n",
    "    \n",
    "    threadLock.acquire(1)\n",
    "    print('Enviando mensaje')\n",
    "    threadLock.release()\n",
    "    s.sendall(mensaje.encode())\n",
    "    \n",
    "    data = s.recv(1024).decode()\n",
    "    threadLock.acquire(1)\n",
    "    print(data)\n",
    "    threadLock.release()\n",
    "    s.close()\n",
    "\n",
    "        \n",
    "puerto = 6780\n",
    "direccion = 'localhost'\n",
    "client_id = 1\n",
    "\n",
    "lista_clientes = []\n",
    "msg = ''\n",
    "contador = 0\n",
    "\n",
    "while msg != 'exit':\n",
    "    msg = input('Introduzca el mensaje a enviar (exit para terminar): ')\n",
    "    lista_clientes.append(msg)\n",
    "\n",
    "print(lista_clientes)\n",
    "for x in lista_clientes:\n",
    "    try:\n",
    "        threading.Thread(target=clientThread, args=(direccion, puerto, 1024, x)).start()\n",
    "    except:\n",
    "        print('Error creando la hebra')\n",
    "        traceback.print_exc()\n",
    "\n"
   ]
  }
 ],
 "metadata": {
  "kernelspec": {
   "display_name": "Python 3 (ipykernel)",
   "language": "python",
   "name": "python3"
  },
  "language_info": {
   "codemirror_mode": {
    "name": "ipython",
    "version": 3
   },
   "file_extension": ".py",
   "mimetype": "text/x-python",
   "name": "python",
   "nbconvert_exporter": "python",
   "pygments_lexer": "ipython3",
   "version": "3.9.7"
  }
 },
 "nbformat": 4,
 "nbformat_minor": 5
}
