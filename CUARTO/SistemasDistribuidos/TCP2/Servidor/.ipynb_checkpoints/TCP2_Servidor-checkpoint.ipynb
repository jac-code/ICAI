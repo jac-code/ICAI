{
 "cells": [
  {
   "cell_type": "markdown",
   "id": "c4588c50",
   "metadata": {},
   "source": [
    "# SERVIDOR TCP2"
   ]
  },
  {
   "cell_type": "markdown",
   "id": "899b8d74",
   "metadata": {},
   "source": [
    "Apartado 2.1"
   ]
  },
  {
   "cell_type": "code",
   "execution_count": null,
   "id": "079f7f79",
   "metadata": {},
   "outputs": [
    {
     "name": "stdout",
     "output_type": "stream",
     "text": [
      "RX:  get,prueba.txt\n",
      "el fichero que se desea abrir es: prueba.txt\n",
      "b'Esto es un fichero d'\n",
      "El fichero no existe\n"
     ]
    }
   ],
   "source": [
    "import socket \n",
    "import sys\n",
    "import time\n",
    "\n",
    "s = socket.socket(socket.AF_INET, socket.SOCK_STREAM)\n",
    "server_address = (\"localhost\", 6780)\n",
    "s.bind(server_address)\n",
    "s.listen(1)\n",
    "\n",
    "msg = ''\n",
    "while str(msg)!='get,Bye':\n",
    "    try:\n",
    "        conn, address = s.accept()\n",
    "        data = conn.recv(1024).decode()\n",
    "        print('RX: ', data)\n",
    "        msg = data\n",
    "        data = data.split(',')\n",
    "        if msg != 'get,Bye':\n",
    "            conn.sendall('HOLA CLIENTE'.encode())\n",
    "            print('el fichero que se desea abrir es: '+data[1])\n",
    "            fichero = open(str(data[1]),'rb')\n",
    "            iterador = ' '\n",
    "            while iterador != '':\n",
    "                iterador = fichero.read(20)\n",
    "                print(iterador)\n",
    "                conn.sendall(iterador.encode())\n",
    "                iterador = iterador.decode()\n",
    "                print(iterador)\n",
    "            conn.sendall('FIN'.encode())\n",
    "    except:\n",
    "        print('El fichero no existe')\n",
    "        conn.sendall('El fichero no existe'.encode())\n",
    "    \n",
    "conn.sendall('Bye'.encode())\n",
    "print('Conexión cerrrada')\n",
    "conn.close()"
   ]
  }
 ],
 "metadata": {
  "kernelspec": {
   "display_name": "Python 3",
   "language": "python",
   "name": "python3"
  },
  "language_info": {
   "codemirror_mode": {
    "name": "ipython",
    "version": 3
   },
   "file_extension": ".py",
   "mimetype": "text/x-python",
   "name": "python",
   "nbconvert_exporter": "python",
   "pygments_lexer": "ipython3",
   "version": "3.8.8"
  }
 },
 "nbformat": 4,
 "nbformat_minor": 5
}
