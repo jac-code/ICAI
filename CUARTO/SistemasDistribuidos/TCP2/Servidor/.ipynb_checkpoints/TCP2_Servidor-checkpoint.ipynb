{
 "cells": [
  {
   "cell_type": "markdown",
   "id": "5e447ed5",
   "metadata": {},
   "source": [
    "# SERVIDOR TCP2"
   ]
  },
  {
   "cell_type": "markdown",
   "id": "51c1820d",
   "metadata": {},
   "source": [
    "APARTADO 2.1"
   ]
  },
  {
   "cell_type": "markdown",
   "id": "7f5bbb16",
   "metadata": {},
   "source": [
    "- En este apartado el cliente va a solicitar un fichero al archivo para ver su contenido, mediante el comando \"get NOMBRE_FICHERO\"\n",
    "- Para terminar la conexión el cliente enviará un \"Bye\"\n",
    "- Si el fichero solicitado no existe "
   ]
  },
  {
   "cell_type": "code",
   "execution_count": 3,
   "id": "34f08ad9",
   "metadata": {},
   "outputs": [
    {
     "name": "stdout",
     "output_type": "stream",
     "text": [
      "RX:  asid\n",
      "El fichero que se desea abrir es: asid\n",
      "El fichero no existe\n",
      "RX:  Bye\n",
      "Conexión cerrrada\n"
     ]
    }
   ],
   "source": [
    "import socket \n",
    "import sys\n",
    "import time\n",
    "\n",
    "s = socket.socket(socket.AF_INET, socket.SOCK_STREAM)\n",
    "server_address = (\"localhost\", 6780)\n",
    "s.bind(server_address)\n",
    "s.listen(1)\n",
    "conn, address = s.accept()\n",
    "msg = ''\n",
    "while str(msg)!='Bye':\n",
    "    try:\n",
    "        data = conn.recv(1024).decode()\n",
    "        msg = data\n",
    "        print('RX: ', data)\n",
    "        if msg != 'Bye':\n",
    "            #conn.sendall('HOLA CLIENTE'.encode())\n",
    "            print('El fichero que se desea abrir es: '+ data)\n",
    "            fichero = open(str(data), 'rb')\n",
    "            f = fichero.read(1024)\n",
    "            print(f)\n",
    "            conn.sendall(f)\n",
    "    except:\n",
    "        print('El fichero no existe')\n",
    "        conn.sendall('El fichero no existe'.encode())\n",
    "    \n",
    "print('Conexión cerrada')\n",
    "conn.close()"
   ]
  },
  {
   "cell_type": "markdown",
   "id": "e8721520",
   "metadata": {},
   "source": [
    "####################################################################################################"
   ]
  },
  {
   "cell_type": "markdown",
   "id": "61b57252",
   "metadata": {},
   "source": [
    "APARTADO 2.2"
   ]
  },
  {
   "cell_type": "markdown",
   "id": "56d9b8ae",
   "metadata": {},
   "source": [
    "- En este apartado se amplia el código anterior para que el cliente pueda hacer dos tipos de peticiones.\n",
    "- Petición I - get:\n",
    "    Al igual que en el apartado anterior el cliente puede pedirle al servidor que le envía un archivo par aver su contenido\n",
    "    Si el archivo no existe, el servidor crea el fichero\n",
    "- Petición II - put:\n",
    "    Si el cliente manda el comando put, el servidor sigue los siguientes pasos:\n",
    "        1) mirar si existe el fichero, si NO exite lo crea\n",
    "        2) bloquear fichero\n",
    "        3) enviar fichero en formato rb\n",
    "        4) recibir cambios del cliente\n",
    "        5) aplicar cambios abriendo el archivo otra vez --> ab\n",
    "        6) desbloquear fichero\n",
    "- En el caso de que el cliente quiera terminar la conexión envía el comando \"Bye\"\n",
    "- Ya hay un archivo creado, llamado prueba.txt que tiene algo de contenido. En el diccionario donde están los archivos\n",
    "  bloquados se ha insertado este archivo con un puerto aleatorio para ver si el bloqueo del fichero funcionaba correctamente.\n",
    "  Si se desea probar los otros comandos mejor crear un archivo nuevo."
   ]
  },
  {
   "cell_type": "code",
   "execution_count": 2,
   "id": "ded97a4e",
   "metadata": {},
   "outputs": [
    {
     "name": "stdout",
     "output_type": "stream",
     "text": [
      "Enviando fichero al cliente...\n",
      "Enviando fichero al cliente...\n",
      "Modificación efectuada con éxito.\n",
      "Enviando fichero al cliente...\n"
     ]
    },
    {
     "ename": "IndexError",
     "evalue": "list index out of range",
     "output_type": "error",
     "traceback": [
      "\u001b[1;31m---------------------------------------------------------------------------\u001b[0m",
      "\u001b[1;31mIndexError\u001b[0m                                Traceback (most recent call last)",
      "\u001b[1;32m~\\AppData\\Local\\Temp/ipykernel_4300/2485063949.py\u001b[0m in \u001b[0;36m<module>\u001b[1;34m\u001b[0m\n\u001b[0;32m     41\u001b[0m \u001b[1;33m\u001b[0m\u001b[0m\n\u001b[0;32m     42\u001b[0m     \u001b[0minstruccion\u001b[0m \u001b[1;33m=\u001b[0m \u001b[0mdata\u001b[0m\u001b[1;33m.\u001b[0m\u001b[0msplit\u001b[0m\u001b[1;33m(\u001b[0m\u001b[1;33m)\u001b[0m \u001b[1;31m# es un vector de strings\u001b[0m\u001b[1;33m\u001b[0m\u001b[1;33m\u001b[0m\u001b[0m\n\u001b[1;32m---> 43\u001b[1;33m     \u001b[0mcreado\u001b[0m \u001b[1;33m=\u001b[0m \u001b[0mfuncion_comprobacion_existencia\u001b[0m\u001b[1;33m(\u001b[0m\u001b[0minstruccion\u001b[0m\u001b[1;33m[\u001b[0m\u001b[1;36m1\u001b[0m\u001b[1;33m]\u001b[0m\u001b[1;33m)\u001b[0m\u001b[1;33m\u001b[0m\u001b[1;33m\u001b[0m\u001b[0m\n\u001b[0m\u001b[0;32m     44\u001b[0m \u001b[1;33m\u001b[0m\u001b[0m\n\u001b[0;32m     45\u001b[0m     \u001b[1;32mif\u001b[0m \u001b[0mcreado\u001b[0m\u001b[1;33m:\u001b[0m\u001b[1;33m\u001b[0m\u001b[1;33m\u001b[0m\u001b[0m\n",
      "\u001b[1;31mIndexError\u001b[0m: list index out of range"
     ]
    }
   ],
   "source": [
    "import socket \n",
    "import sys\n",
    "import time    \n",
    "    \n",
    "def funcion_get(nombre):\n",
    "    fichero = open(instruccion[1], 'rb')\n",
    "    contenido = fichero.read(1024)\n",
    "    fichero.close()\n",
    "    \n",
    "    return contenido\n",
    "    \n",
    "    \n",
    "def funcion_update(nombre, modificacion):\n",
    "    fichero = open(nombre, 'a')\n",
    "    fichero.write(modificacion.decode())\n",
    "    fichero.close()\n",
    "    \n",
    "def funcion_comprobacion_existencia(nombre):\n",
    "    res = True\n",
    "    try:\n",
    "        contenido = funcion_get(nombre)\n",
    "    except:\n",
    "        f = open(nombre, 'x')\n",
    "        f.close()\n",
    "        res = False\n",
    "    \n",
    "    return res\n",
    "        \n",
    "s = socket.socket(socket.AF_INET, socket.SOCK_STREAM)\n",
    "server_address = (\"localhost\", 6780)\n",
    "s.bind(server_address)\n",
    "s.listen(1)\n",
    "\n",
    "diccionario = {'prueba.txt':('127.0.0.1', 2346)} # guardamos los archivo que están siendo modificados\n",
    "while True:\n",
    "    conn, address = s.accept()\n",
    "    data = conn.recv(1024).decode()\n",
    "    \n",
    "    if data == 'Bye':\n",
    "        break\n",
    "    \n",
    "    instruccion = data.split() # es un vector de strings\n",
    "    creado = funcion_comprobacion_existencia(instruccion[1])\n",
    "    \n",
    "    if creado:\n",
    "        if instruccion[0] == 'get':\n",
    "            # servidor devuelve el contenido del fichero\n",
    "            contenido = funcion_get(instruccion[1])\n",
    "            print('Enviando fichero al cliente...')\n",
    "            conn.sendall(contenido)\n",
    "            \n",
    "        elif instruccion[0] == 'put':\n",
    "            # 1) bloquear fichero\n",
    "            # 2) enviar fichero en formato rb\n",
    "            # 3) recibir cambios del cliente\n",
    "            # 4) aplicar cambios abriendo el archivo otra vez --> ab\n",
    "            # 5) desbloquear fichero\n",
    "            conn.sendall('El archivo está listo para ser modificado.'.encode())\n",
    "            \n",
    "            if instruccion[1] in diccionario:\n",
    "                # el archivo está en uso\n",
    "                if diccionario.get(instruccion[1]) == address:\n",
    "                    # el usuario puede modificarlo    \n",
    "                    conn.sendall('Introduzca la modificación: '.encode())\n",
    "                    \n",
    "                    texto_modificacion = conn.recv(1024)\n",
    "                    funcion_update(instruccion[1], texto_modificacion)\n",
    "\n",
    "                    # desbloquear el archivo --> poner a 0\n",
    "                    diccionario.pop(instruccion[1], address)\n",
    "\n",
    "                    contenido = funcion_get(instruccion[1])\n",
    "                    print('Enviando fichero al cliente...')\n",
    "                    conn.sendall(contenido)\n",
    "                    print('Modificación efectuada con éxito.')\n",
    "                else:\n",
    "                    # el usuario NO puede modificarlo\n",
    "                    conn.sendall('El archivo esta siendo modificado, espere su turno.'.encode())\n",
    "            else:\n",
    "                # primera vez que se hace put en archivo\n",
    "                # bloqueamos el archivo --> poner a 1\n",
    "                conn.sendall('Introduzca la modificación: '.encode())\n",
    "                \n",
    "                diccionario.update({instruccion[1]:address})\n",
    "    \n",
    "                texto_modificacion = conn.recv(1024)\n",
    "                funcion_update(instruccion[1], texto_modificacion)\n",
    "\n",
    "                # desbloquear el archivo --> poner a 0\n",
    "                diccionario.pop(instruccion[1], address)\n",
    "\n",
    "                contenido = funcion_get(instruccion[1])\n",
    "                print('Enviando fichero al cliente...')\n",
    "                conn.sendall(contenido)\n",
    "                print('Modificación efectuada con éxito.')\n",
    "    else:\n",
    "        conn.sendall('El archivo no estaba creado.'.encode())\n",
    "    \n",
    "print('Conexión cerrada')\n",
    "conn.close()"
   ]
  }
 ],
 "metadata": {
  "kernelspec": {
   "display_name": "Python 3 (ipykernel)",
   "language": "python",
   "name": "python3"
  },
  "language_info": {
   "codemirror_mode": {
    "name": "ipython",
    "version": 3
   },
   "file_extension": ".py",
   "mimetype": "text/x-python",
   "name": "python",
   "nbconvert_exporter": "python",
   "pygments_lexer": "ipython3",
   "version": "3.9.7"
  }
 },
 "nbformat": 4,
 "nbformat_minor": 5
}
