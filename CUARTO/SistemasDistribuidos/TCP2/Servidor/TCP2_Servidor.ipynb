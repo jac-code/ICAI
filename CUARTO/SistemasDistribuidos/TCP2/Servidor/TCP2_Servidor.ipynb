{
 "cells": [
  {
   "cell_type": "markdown",
   "id": "5e447ed5",
   "metadata": {},
   "source": [
    "# SERVIDOR TCP2"
   ]
  },
  {
   "cell_type": "markdown",
   "id": "51c1820d",
   "metadata": {},
   "source": [
    "Apartado 2.1"
   ]
  },
  {
   "cell_type": "code",
   "execution_count": 3,
   "id": "34f08ad9",
   "metadata": {},
   "outputs": [
    {
     "name": "stdout",
     "output_type": "stream",
     "text": [
      "RX:  asid\n",
      "El fichero que se desea abrir es: asid\n",
      "El fichero no existe\n",
      "RX:  Bye\n",
      "Conexión cerrrada\n"
     ]
    }
   ],
   "source": [
    "import socket \n",
    "import sys\n",
    "import time\n",
    "\n",
    "s = socket.socket(socket.AF_INET, socket.SOCK_STREAM)\n",
    "server_address = (\"localhost\", 6780)\n",
    "s.bind(server_address)\n",
    "s.listen(1)\n",
    "conn, address = s.accept()\n",
    "msg = ''\n",
    "while str(msg)!='Bye':\n",
    "    try:\n",
    "        data = conn.recv(1024).decode()\n",
    "        msg = data\n",
    "        print('RX: ', data)\n",
    "        if msg != 'Bye':\n",
    "            #conn.sendall('HOLA CLIENTE'.encode())\n",
    "            print('El fichero que se desea abrir es: '+ data)\n",
    "            fichero = open(str(data), 'rb')\n",
    "            f = fichero.read(1024)\n",
    "            print(f)\n",
    "            conn.sendall(f)\n",
    "    except:\n",
    "        print('El fichero no existe')\n",
    "        conn.sendall('El fichero no existe'.encode())\n",
    "    \n",
    "print('Conexión cerrrada')\n",
    "conn.close()"
   ]
  },
  {
   "cell_type": "markdown",
   "id": "61b57252",
   "metadata": {},
   "source": [
    "APARTADO 2.2"
   ]
  },
  {
   "cell_type": "code",
   "execution_count": null,
   "id": "ded97a4e",
   "metadata": {},
   "outputs": [],
   "source": [
    "import socket \n",
    "import sys\n",
    "import time\n",
    "\n",
    "s = socket.socket(socket.AF_INET, socket.SOCK_STREAM)\n",
    "server_address = (\"localhost\", 6780)\n",
    "s.bind(server_address)\n",
    "s.listen(1)\n",
    "conn, address = s.accept()\n",
    "msg = ''\n",
    "while str(msg)!='Bye':\n",
    "    try:\n",
    "        data = conn.recv(1024).decode()\n",
    "        instruccion = data\n",
    "        msg = data\n",
    "        print('RX: ', data)\n",
    "        \n",
    "        if instruccion == 'get':\n",
    "            \n",
    "            \n",
    "        else: \n",
    "            # put\n",
    "            \n",
    "        \n",
    "        if msg != 'Bye':\n",
    "            print('El fichero que se desea abrir es: '+ data)\n",
    "            fichero = open(str(data), 'rb')\n",
    "            f = fichero.read(1024)\n",
    "            print(f)\n",
    "            conn.sendall(f)\n",
    "    except:\n",
    "        print('El fichero no existe')\n",
    "        conn.sendall('El fichero no existe'.encode())\n",
    "    \n",
    "print('Conexión cerrrada')\n",
    "conn.close()"
   ]
  }
 ],
 "metadata": {
  "kernelspec": {
   "display_name": "Python 3 (ipykernel)",
   "language": "python",
   "name": "python3"
  },
  "language_info": {
   "codemirror_mode": {
    "name": "ipython",
    "version": 3
   },
   "file_extension": ".py",
   "mimetype": "text/x-python",
   "name": "python",
   "nbconvert_exporter": "python",
   "pygments_lexer": "ipython3",
   "version": "3.9.7"
  }
 },
 "nbformat": 4,
 "nbformat_minor": 5
}
