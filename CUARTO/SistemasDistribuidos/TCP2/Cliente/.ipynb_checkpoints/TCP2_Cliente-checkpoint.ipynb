{
 "cells": [
  {
   "cell_type": "markdown",
   "id": "337ba24f",
   "metadata": {},
   "source": [
    "# CLIENTE TCP2"
   ]
  },
  {
   "cell_type": "markdown",
   "id": "4520117a",
   "metadata": {},
   "source": [
    "Apartado 2.1"
   ]
  },
  {
   "cell_type": "code",
   "execution_count": 2,
   "id": "95941420",
   "metadata": {},
   "outputs": [
    {
     "name": "stdout",
     "output_type": "stream",
     "text": [
      "Nombre de fichero que desea ver: prueba\n",
      "RX:  HOLA CLIENTE\n",
      "Nombre de fichero que desea ver: hf\n",
      "RX:  El fichero no existe\n",
      "Nombre de fichero que desea ver: Bye\n",
      "Nombre de fichero que desea ver: \n"
     ]
    },
    {
     "ename": "ConnectionResetError",
     "evalue": "[WinError 10054] Se ha forzado la interrupción de una conexión existente por el host remoto",
     "output_type": "error",
     "traceback": [
      "\u001b[1;31m---------------------------------------------------------------------------\u001b[0m",
      "\u001b[1;31mConnectionResetError\u001b[0m                      Traceback (most recent call last)",
      "\u001b[1;32m<ipython-input-2-497d7ab485a8>\u001b[0m in \u001b[0;36m<module>\u001b[1;34m\u001b[0m\n\u001b[0;32m     15\u001b[0m \u001b[1;33m\u001b[0m\u001b[0m\n\u001b[0;32m     16\u001b[0m     \u001b[1;32mif\u001b[0m \u001b[0mmsg\u001b[0m \u001b[1;33m!=\u001b[0m \u001b[1;34m'get,Bye'\u001b[0m\u001b[1;33m:\u001b[0m\u001b[1;33m\u001b[0m\u001b[1;33m\u001b[0m\u001b[0m\n\u001b[1;32m---> 17\u001b[1;33m         \u001b[0mdata\u001b[0m \u001b[1;33m=\u001b[0m \u001b[0ms\u001b[0m\u001b[1;33m.\u001b[0m\u001b[0mrecv\u001b[0m\u001b[1;33m(\u001b[0m\u001b[1;36m1024\u001b[0m\u001b[1;33m)\u001b[0m\u001b[1;33m.\u001b[0m\u001b[0mdecode\u001b[0m\u001b[1;33m(\u001b[0m\u001b[1;33m)\u001b[0m\u001b[1;33m\u001b[0m\u001b[1;33m\u001b[0m\u001b[0m\n\u001b[0m\u001b[0;32m     18\u001b[0m         \u001b[0mprint\u001b[0m\u001b[1;33m(\u001b[0m\u001b[1;34m'RX: '\u001b[0m\u001b[1;33m,\u001b[0m \u001b[0mdata\u001b[0m\u001b[1;33m)\u001b[0m\u001b[1;33m\u001b[0m\u001b[1;33m\u001b[0m\u001b[0m\n\u001b[0;32m     19\u001b[0m \u001b[1;33m\u001b[0m\u001b[0m\n",
      "\u001b[1;31mConnectionResetError\u001b[0m: [WinError 10054] Se ha forzado la interrupción de una conexión existente por el host remoto"
     ]
    }
   ],
   "source": [
    "import socket \n",
    "import sys\n",
    "\n",
    "s = socket.socket(socket.AF_INET, socket.SOCK_STREAM)\n",
    "server_address = (\"localhost\", 6780)\n",
    "s.connect(server_address)\n",
    "\n",
    "msg = ''\n",
    "\n",
    "while(msg != 'Bye'):\n",
    "    fichero = input('Nombre de fichero que desea ver: ')\n",
    "    msg = 'get,' + fichero\n",
    "    \n",
    "    s.sendall(msg.encode())\n",
    "    \n",
    "    while msg != 'get,Bye':\n",
    "        data = s.recv(1024).decode()\n",
    "        print('RX: ', data)\n",
    "        if data == 'FIN':\n",
    "            msg = 'get,Bye'\n",
    "    \n",
    "data = s.recv(1024).decode()\n",
    "print(data)\n",
    "s.close()"
   ]
  }
 ],
 "metadata": {
  "kernelspec": {
   "display_name": "Python 3",
   "language": "python",
   "name": "python3"
  },
  "language_info": {
   "codemirror_mode": {
    "name": "ipython",
    "version": 3
   },
   "file_extension": ".py",
   "mimetype": "text/x-python",
   "name": "python",
   "nbconvert_exporter": "python",
   "pygments_lexer": "ipython3",
   "version": "3.8.8"
  }
 },
 "nbformat": 4,
 "nbformat_minor": 5
}
