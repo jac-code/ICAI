{
 "cells": [
  {
   "cell_type": "markdown",
   "id": "65fd79a6",
   "metadata": {},
   "source": [
    "# MULTICAST"
   ]
  },
  {
   "cell_type": "markdown",
   "id": "cb744c3c",
   "metadata": {},
   "source": [
    "Apartado 1"
   ]
  },
  {
   "cell_type": "markdown",
   "id": "fd0fbc96",
   "metadata": {},
   "source": [
    "Esta conexión multicast se realiza en un grupo de multidifusión, es por ello que no tenemos un servidor, si no otro cliente, que mientras que estén en el mismo puerto y el mismo grupo tendrán conexión entre ellos. La funcionalidad es muy simple, estarán conectados hasta que el cliente escriba Adios, en ese momento todos los participantes saldrán del grupo"
   ]
  },
  {
   "cell_type": "code",
   "execution_count": null,
   "id": "73d02011",
   "metadata": {},
   "outputs": [
    {
     "name": "stdout",
     "output_type": "stream",
     "text": [
      "Introduzca el mensaje a enviar: asdadasddad\n",
      "RX:  asdadasddad\n",
      "Introduzca el mensaje a enviar: asdasddasds\n",
      "RX:  Hello this is user 2\n",
      "Introduzca el mensaje a enviar: asdada\n",
      "RX:  asdasddasds\n",
      "Introduzca el mensaje a enviar: asdasdasd\n",
      "RX:  asdada\n",
      "Introduzca el mensaje a enviar: asdadsa\n",
      "RX:  asdasdasd\n",
      "Introduzca el mensaje a enviar: holaaaaa\n",
      "RX:  asdadsa\n",
      "Introduzca el mensaje a enviar: asdasdsad\n",
      "RX:  holaaaaa\n"
     ]
    }
   ],
   "source": [
    "import socket\n",
    "import struct\n",
    "\n",
    "MCAST_GRP = '224.1.1.1'\n",
    "MCAST_PORT = 5007\n",
    "\n",
    "sock = socket.socket(socket.AF_INET, socket.SOCK_DGRAM, socket.IPPROTO_UDP)\n",
    "sock.setsockopt(socket.SOL_SOCKET, socket.SO_REUSEADDR, 1)\n",
    "\n",
    "#Usar '' para esuchar y escribir en el socket\n",
    "#Usar MCAST_GRP para escuchar solo en el socket\n",
    "sock.bind(('', MCAST_PORT))\n",
    "sock.sendto(str.encode(\"Hello this is user 1\"), (MCAST_GRP, MCAST_PORT))\n",
    "\n",
    "mreq = struct.pack(\"4sl\", socket.inet_aton(MCAST_GRP), socket.INADDR_ANY)\n",
    "sock.setsockopt(socket.IPPROTO_IP, socket.IP_ADD_MEMBERSHIP, mreq)\n",
    "\n",
    "#Establecer el ttl\n",
    "ttl = struct.pack('b',1)\n",
    "sock.setsockopt(socket.IPPROTO_IP, socket.IP_MULTICAST_TTL, ttl)\n",
    "\n",
    "msg = \"\"\n",
    "while str(msg) != \"Adios\":\n",
    "    mensaje_tx = str.encode(input('Introduzca el mensaje a enviar: '))\n",
    "    sock.sendto(mensaje_tx, (MCAST_GRP, MCAST_PORT))\n",
    "    msg = sock.recv(1024).decode()\n",
    "    print(\"RX: \", msg)\n",
    "    \n",
    "print(\"Cliente abandona el grupo\")                       \n",
    "sock.close()"
   ]
  },
  {
   "cell_type": "markdown",
   "id": "8d546606",
   "metadata": {},
   "source": [
    "Apartado 2"
   ]
  },
  {
   "cell_type": "markdown",
   "id": "54517b80",
   "metadata": {},
   "source": [
    "En esta ocasión lo que hemos querido implementar es una especie de chat. Para ellos nos hemos ayudado de pickle para empaquetar tanto el mensaje como el identificador del participante y poder mandarlo al grupo. Nos hemos ayudado de una función de tiempo para que la conexión y escucha se realice correctamente. El grupo estará activo hasta que el usuario escriba quit, en ese momento cerrará la conexión."
   ]
  },
  {
   "cell_type": "code",
   "execution_count": null,
   "id": "12a8fc86",
   "metadata": {},
   "outputs": [
    {
     "name": "stdout",
     "output_type": "stream",
     "text": [
      "Thread User 2: Hello this is user 2\n",
      "Thread User 2: asidjasdja\n",
      "Introduzca el mensaje a enviar: asdasdad\n",
      "Thread User 1: asdasdad\n",
      "Introduzca el mensaje a enviar: asd\n",
      "Thread User 1: asd\n",
      "Introduzca el mensaje a enviar: \n",
      "Thread User 1: \n",
      "Introduzca el mensaje a enviar: asd\n",
      "Thread User 1: asd\n",
      "Introduzca el mensaje a enviar: \n",
      "Thread User 1: \n",
      "Introduzca el mensaje a enviar: asd\n",
      "Thread User 1: asd\n",
      "Introduzca el mensaje a enviar: asd\n",
      "Thread User 1: asd\n",
      "Introduzca el mensaje a enviar: asd\n",
      "Thread User 1: asd\n",
      "Thread User 2: asdd\n",
      "Thread User 2: asd\n",
      "Thread User 2: asd\n",
      "Thread User 2: asd\n",
      "Thread User 2: asd\n",
      "Introduzca el mensaje a enviar: asd\n",
      "Thread User 1: asd\n"
     ]
    }
   ],
   "source": [
    "import socket\n",
    "import struct\n",
    "import pickle\n",
    "import threading\n",
    "\n",
    "MCAST_GRP = '224.1.1.1'\n",
    "MCAST_PORT = 5007\n",
    "\n",
    "# identificador del participante\n",
    "user_id = 1\n",
    "\n",
    "sock = socket.socket(socket.AF_INET, socket.SOCK_DGRAM, socket.IPPROTO_UDP)\n",
    "sock.setsockopt(socket.SOL_SOCKET, socket.SO_REUSEADDR, 1)\n",
    "\n",
    "#Usar '' para esuchar y escribir en el socket\n",
    "#Usar MCAST_GRP para escuchar solo en el socket\n",
    "sock.bind(('', MCAST_PORT))\n",
    "mensaje_bienvenida = 'Hello this is user 1'\n",
    "bytes_bienvenida = pickle.dumps([mensaje_bienvenida, user_id])\n",
    "sock.sendto(bytes_bienvenida, (MCAST_GRP, MCAST_PORT))\n",
    "\n",
    "mreq = struct.pack(\"4sl\", socket.inet_aton(MCAST_GRP), socket.INADDR_ANY)\n",
    "sock.setsockopt(socket.IPPROTO_IP, socket.IP_ADD_MEMBERSHIP, mreq)\n",
    "\n",
    "#Establecer el ttl\n",
    "ttl = struct.pack('b',1)\n",
    "sock.setsockopt(socket.IPPROTO_IP, socket.IP_MULTICAST_TTL, ttl)\n",
    "\n",
    "def time_function(name):\n",
    "    global stop\n",
    "    while stop == False:\n",
    "        msg = sock.recv(1024)\n",
    "        mensaje = pickle.loads(msg)\n",
    "        print(\"Thread User \" + str(mensaje[1]) + \": \" + str(mensaje[0]))\n",
    "        \n",
    "    print(\"Cliente abandona el grupo\")\n",
    "    sock.close()\n",
    "    \n",
    "stop = False\n",
    "reader = threading.Thread(target=time_function, args=(user_id,))\n",
    "reader.start()\n",
    "\n",
    "while stop == False:\n",
    "    mensaje_tx = input('Introduzca el mensaje a enviar: ')\n",
    "    bytes_tx = pickle.dumps([mensaje_tx, user_id])\n",
    "    sock.sendto(bytes_tx, (MCAST_GRP, MCAST_PORT))\n",
    "    if mensaje_tx == \"quit\":\n",
    "        stop = True\n",
    "        break\n",
    "\n",
    "sock.close()"
   ]
  }
 ],
 "metadata": {
  "kernelspec": {
   "display_name": "Python 3 (ipykernel)",
   "language": "python",
   "name": "python3"
  },
  "language_info": {
   "codemirror_mode": {
    "name": "ipython",
    "version": 3
   },
   "file_extension": ".py",
   "mimetype": "text/x-python",
   "name": "python",
   "nbconvert_exporter": "python",
   "pygments_lexer": "ipython3",
   "version": "3.9.7"
  }
 },
 "nbformat": 4,
 "nbformat_minor": 5
}
