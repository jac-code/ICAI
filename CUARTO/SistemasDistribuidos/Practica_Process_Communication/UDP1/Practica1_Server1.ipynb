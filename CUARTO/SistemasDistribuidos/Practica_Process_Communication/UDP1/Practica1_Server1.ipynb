{
 "cells": [
  {
   "cell_type": "markdown",
   "id": "661a2802",
   "metadata": {},
   "source": [
    "# PRÁCTICA 1 - UDP"
   ]
  },
  {
   "cell_type": "markdown",
   "id": "b50cf76e",
   "metadata": {},
   "source": [
    "SERVIDOR PRUEBA"
   ]
  },
  {
   "cell_type": "markdown",
   "id": "8aa98c75",
   "metadata": {},
   "source": [
    "Ejecutamos el código del servidor como prueba para ver que todo funciona correctamente ya que sera el código del que partamos"
   ]
  },
  {
   "cell_type": "code",
   "execution_count": 8,
   "id": "095f79cd",
   "metadata": {},
   "outputs": [
    {
     "name": "stdout",
     "output_type": "stream",
     "text": [
      "b'Hello, world'\n"
     ]
    },
    {
     "data": {
      "text/plain": [
       "12"
      ]
     },
     "execution_count": 8,
     "metadata": {},
     "output_type": "execute_result"
    }
   ],
   "source": [
    "import socket\n",
    "\n",
    "msg = \"Hello Client\"\n",
    "bytes_tx = str.encode(msg)\n",
    "\n",
    "socket = socket.socket(family=socket.AF_INET, type=socket.SOCK_DGRAM)\n",
    "socket.bind((\"127.0.0.1\",6780))\n",
    "\n",
    "bytes_rx = socket.recvfrom(1024)\n",
    "message = bytes_rx[0]\n",
    "address = bytes_rx[1]\n",
    "print(message)\n",
    "socket.sendto(bytes_tx, address)"
   ]
  },
  {
   "cell_type": "markdown",
   "id": "d580d05a",
   "metadata": {},
   "source": [
    "SERVIDOR 1.1"
   ]
  },
  {
   "cell_type": "markdown",
   "id": "d9387160",
   "metadata": {},
   "source": [
    "Este primer apartado muestra el mensaje del cliente que ha contactado con el servidor y envía un mensaje de respuesta para ese cliente."
   ]
  },
  {
   "cell_type": "code",
   "execution_count": 2,
   "id": "9b02b85a",
   "metadata": {},
   "outputs": [
    {
     "name": "stdout",
     "output_type": "stream",
     "text": [
      "b'Hello Server, I am Client 2'\n"
     ]
    },
    {
     "data": {
      "text/plain": [
       "12"
      ]
     },
     "execution_count": 2,
     "metadata": {},
     "output_type": "execute_result"
    }
   ],
   "source": [
    "import socket\n",
    "\n",
    "msg = \"Hello Client\"\n",
    "bytes_tx = str.encode(msg)\n",
    "\n",
    "s = socket.socket(family=socket.AF_INET, type=socket.SOCK_DGRAM)\n",
    "s.bind((\"127.0.0.1\",6780))\n",
    "\n",
    "bytes_rx = s.recvfrom(1024)\n",
    "message = bytes_rx[0]\n",
    "address = bytes_rx[1]\n",
    "print(message)\n",
    "s.sendto(bytes_tx, address)"
   ]
  },
  {
   "cell_type": "markdown",
   "id": "6f322677",
   "metadata": {},
   "source": [
    "APARTADO 1.2"
   ]
  },
  {
   "cell_type": "markdown",
   "id": "9f6691ea",
   "metadata": {},
   "source": [
    "Este servidor es igual que el anterior pero con un par de mejoras. En primer lugar, le pedimos al usuario que introduzca el número de puerto en el que se desea conectar, (este número debe ser igual que el que tenga el cliente guardado para que se pueda realizar la conexión), en caso de que lo qe introduzca no sea un número nos saltará un mensaje de error y volverá a pedir el puerto hasta que introduzca un número. Por último, el servidor permanecerá continuamente levantado hasta que lo cerremos nosotros manualmente mostrando el mensaje recibido por parte del servidor y la dirección del cliente que realiza la conexión."
   ]
  },
  {
   "cell_type": "code",
   "execution_count": null,
   "id": "514b3ab9",
   "metadata": {},
   "outputs": [
    {
     "name": "stdout",
     "output_type": "stream",
     "text": [
      "Introduzca el número del puerto (6780 en clientes): \n",
      "hola\n",
      "El puerto debe ser un numero\n",
      "Introduzca el número del puerto (6780 en clientes): \n",
      "6780\n",
      "6780\n",
      "Mensaje del cliente: ['Hello Server, I am Client 1']\n",
      "Direccion cliente 127.0.0.1, 50313\n",
      "Mensaje del cliente: ['Hello Server, I am Client 2']\n",
      "Direccion cliente 127.0.0.1, 50314\n"
     ]
    }
   ],
   "source": [
    "import pickle\n",
    "import socket\n",
    "\n",
    "msg_servidor = \"Hello Client\"\n",
    "\n",
    "s = socket.socket(family=socket.AF_INET, type=socket.SOCK_DGRAM)\n",
    "\n",
    "puerto = 0\n",
    "\n",
    "while(puerto == 0):\n",
    "    try:\n",
    "        print(\"Introduzca el número del puerto (6780 en clientes): \")\n",
    "        puerto = int(input())\n",
    "        print(puerto)\n",
    "    except:\n",
    "        print('El puerto debe ser un numero')\n",
    "        \n",
    "server_address = (\"127.0.0.1\", puerto)\n",
    "s.bind(server_address)\n",
    "\n",
    "while True:\n",
    "    bytes_rx = s.recvfrom(1024)\n",
    "    \n",
    "    msg = pickle.loads(bytes_rx[0])\n",
    "    print('Mensaje del cliente: ' + str(msg))\n",
    "    print('Direccion cliente ' + str(bytes_rx[1][0]) +', '+ str(bytes_rx[1][1]))\n",
    "    \n",
    "    bytes_tx = pickle.dumps([msg_servidor])\n",
    "    s.sendto(bytes_tx,bytes_rx[1])\n",
    "    "
   ]
  },
  {
   "cell_type": "markdown",
   "id": "adf9f9ae",
   "metadata": {},
   "source": [
    "SERVER 1.3"
   ]
  },
  {
   "cell_type": "markdown",
   "id": "0e3039b7",
   "metadata": {},
   "source": [
    "Este servidor realiza las mismas funciones que el del apartado anterior pero además en función del mensaje recibido podrá cerrar el socket y por tanto la conexión. Si el mensaje recibido es EXIT cerrará la conexión, en otro caso mostrará por pantalla el mensaje recibido desde el cliente. En todos los casos mandará un mensaje de respuesta al cliente mediante pickle."
   ]
  },
  {
   "cell_type": "code",
   "execution_count": 2,
   "id": "56f35850",
   "metadata": {},
   "outputs": [
    {
     "name": "stdout",
     "output_type": "stream",
     "text": [
      "Introduzca el número del puerto (6780 en clientes): \n",
      "6780\n",
      "6780\n",
      "Mensaje del cliente: 1es: hola\n",
      "Direccion del cliente: ('127.0.0.1', 59611)\n",
      "Cerrando conexion...\n"
     ]
    }
   ],
   "source": [
    "import pickle\n",
    "import socket\n",
    "\n",
    "msg_servidor = \"Hello Client\"\n",
    "\n",
    "s = socket.socket(family=socket.AF_INET, type=socket.SOCK_DGRAM)\n",
    "\n",
    "puerto = 0\n",
    "\n",
    "while(puerto == 0):\n",
    "    try:\n",
    "        print(\"Introduzca el número del puerto (6780 en clientes): \")\n",
    "        puerto = int(input())\n",
    "        print(puerto)\n",
    "    except:\n",
    "        print('El puerto debe ser un numero')\n",
    "        \n",
    "server_address = (\"127.0.0.1\", puerto)\n",
    "s.bind(server_address)\n",
    "\n",
    "while True:\n",
    "    bytes_rx = s.recvfrom(1024)\n",
    "    data = pickle.loads(bytes_rx[0])\n",
    "    mensaje = str(data[0])\n",
    "    if mensaje == 'EXIT':\n",
    "        msg_servidor = \"Cerrando conexion...\"\n",
    "        print('Cerrando conexion...')\n",
    "        break\n",
    "    id_cliente = str(data[1])\n",
    "    print('Mensaje del cliente: '+id_cliente+'es: '+mensaje)\n",
    "    print('Direccion del cliente: '+str(bytes_rx[1]))\n",
    "    \n",
    "    bytes_tx = pickle.dumps([msg_servidor, len(mensaje)])\n",
    "    s.sendto(bytes_tx,bytes_rx[1])\n",
    "    \n",
    "bytes_tx = pickle.dumps(msg_servidor)\n",
    "s.sendto(bytes_tx,bytes_rx[1])\n",
    "s.close()\n"
   ]
  },
  {
   "cell_type": "markdown",
   "id": "b63093a0",
   "metadata": {},
   "source": [
    "SERVER 1.4"
   ]
  },
  {
   "cell_type": "markdown",
   "id": "d0cd19b9",
   "metadata": {},
   "source": [
    "Este servidor realiza las mismas funciones que el del apartado anterior."
   ]
  },
  {
   "cell_type": "code",
   "execution_count": 4,
   "id": "9202d663",
   "metadata": {},
   "outputs": [
    {
     "name": "stdout",
     "output_type": "stream",
     "text": [
      "Introduzca el número del puerto (6780 en clientes): \n",
      "6780\n",
      "6780\n",
      "Mensaje del cliente:  1 recibido: \n",
      "holaa\n",
      "Dirección del cliente: ('127.0.0.1', 49740)\n",
      "Longitud del mensaje: 5\n",
      "El mensaje recibido es: EXIT\n",
      "Conexión finalizada\n"
     ]
    }
   ],
   "source": [
    "import pickle\n",
    "import socket\n",
    "\n",
    "msg_servidor = \"Hello Client\"\n",
    "\n",
    "s = socket.socket(family=socket.AF_INET, type=socket.SOCK_DGRAM)\n",
    "\n",
    "puerto = 0\n",
    "\n",
    "while(puerto == 0):\n",
    "    try:\n",
    "        print(\"Introduzca el número del puerto (6780 en clientes): \")\n",
    "        puerto = int(input())\n",
    "        print(puerto)\n",
    "    except:\n",
    "        print('El puerto debe ser un numero')\n",
    "        \n",
    "server_address = (\"127.0.0.1\", puerto)\n",
    "s.bind(server_address)\n",
    "\n",
    "while True:\n",
    "    bytes_rx = s.recvfrom(1024)\n",
    "    data = pickle.loads(bytes_rx[0])\n",
    "    mensaje = str(data[0])\n",
    "    id_cliente = str(data[1])\n",
    "    \n",
    "    if mensaje != 'EXIT':\n",
    "        print('Mensaje del cliente:  ' + id_cliente + ' recibido: ')\n",
    "        print(mensaje)\n",
    "        print('Dirección del cliente: ' + str(bytes_rx[1]))\n",
    "        print('Longitud del mensaje: ' + str(len(mensaje)))\n",
    "        \n",
    "        bytes_tx = pickle.dumps([msg_servidor, len(mensaje)])\n",
    "        s.sendto(bytes_tx,bytes_rx[1])\n",
    "    else:\n",
    "        print('El mensaje recibido es: '+mensaje)\n",
    "        msg_finalizar = 'Conexion finalizada'\n",
    "        bytes_tx = pickle.dumps([msg_finalizar,len(mensaje)])\n",
    "        print('Conexión finalizada')\n",
    "        s.sendto(bytes_tx,bytes_rx[1])\n",
    "        break\n",
    "    \n",
    "s.close()"
   ]
  },
  {
   "cell_type": "code",
   "execution_count": null,
   "id": "889905e7",
   "metadata": {},
   "outputs": [],
   "source": []
  }
 ],
 "metadata": {
  "kernelspec": {
   "display_name": "Python 3",
   "language": "python",
   "name": "python3"
  },
  "language_info": {
   "codemirror_mode": {
    "name": "ipython",
    "version": 3
   },
   "file_extension": ".py",
   "mimetype": "text/x-python",
   "name": "python",
   "nbconvert_exporter": "python",
   "pygments_lexer": "ipython3",
   "version": "3.8.8"
  }
 },
 "nbformat": 4,
 "nbformat_minor": 5
}
