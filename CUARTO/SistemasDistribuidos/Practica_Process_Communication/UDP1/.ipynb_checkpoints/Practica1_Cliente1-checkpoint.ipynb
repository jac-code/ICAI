{
 "cells": [
  {
   "cell_type": "markdown",
   "id": "3632d942",
   "metadata": {},
   "source": [
    "# PRÁCTICA 1 - UDP"
   ]
  },
  {
   "cell_type": "markdown",
   "id": "0d891c9f",
   "metadata": {},
   "source": [
    " CLIENTE PRUEBA"
   ]
  },
  {
   "cell_type": "markdown",
   "id": "801d9c87",
   "metadata": {},
   "source": [
    "En esta primera parte ejecutamos el código que se nos da en la práctica para comprobar que funciona inicialmente la conexión con nuestro servidor."
   ]
  },
  {
   "cell_type": "code",
   "execution_count": 15,
   "id": "b1f9fedf",
   "metadata": {},
   "outputs": [
    {
     "name": "stdout",
     "output_type": "stream",
     "text": [
      "b'Hello, world'\n"
     ]
    },
    {
     "data": {
      "text/plain": [
       "12"
      ]
     },
     "execution_count": 8,
     "metadata": {},
     "output_type": "execute_result"
    }
   ],
   "source": [
    "import socket\n",
    "\n",
    "msg = 'Hello Server, I am Client 1'\n",
    "bytes_tx = str.encode(msg)\n",
    "\n",
    "server_address = (\"127.0.0.1\", 6780)\n",
    "socket = socket.socket(family=socket.AF_INET, type=socket.SOCK_DGRAM)\n",
    "socket.send(bytes_tx, server_address)\n",
    "\n",
    "bytes_rx = socket.recvfrom(1024)\n",
    "print(\"RX: \", bytes_rx)\n",
    "socket.close()"
   ]
  },
  {
   "cell_type": "markdown",
   "id": "2621edc3",
   "metadata": {},
   "source": [
    "CLIENTE 1 - 1.1"
   ]
  },
  {
   "cell_type": "markdown",
   "id": "7fd25f6d",
   "metadata": {},
   "source": [
    "En este primer apartado el cliente envía un mensaje al servidor y este responde con un mensaje de saludo al cliente. Por pantalla mostraremos esta respuesta para ver que todo ha funcionado correctamente."
   ]
  },
  {
   "cell_type": "code",
   "execution_count": 1,
   "id": "d8fa6520",
   "metadata": {},
   "outputs": [
    {
     "name": "stdout",
     "output_type": "stream",
     "text": [
      "RX:  (b'Hello Client', ('127.0.0.1', 6780))\n"
     ]
    }
   ],
   "source": [
    "import socket\n",
    "\n",
    "msg = 'Hello Server, I am Client 1'\n",
    "bytes_tx = str.encode(msg)\n",
    "\n",
    "server_address = (\"127.0.0.1\", 6780)\n",
    "s = socket.socket(family=socket.AF_INET, type=socket.SOCK_DGRAM)\n",
    "s.sendto(bytes_tx, server_address)\n",
    "\n",
    "bytes_rx = s.recvfrom(1024)\n",
    "print(\"RX: \", bytes_rx)\n",
    "s.close()"
   ]
  },
  {
   "cell_type": "markdown",
   "id": "250b9f7b",
   "metadata": {},
   "source": [
    "CLIENTE 2 - 1.1"
   ]
  },
  {
   "cell_type": "markdown",
   "id": "350cef8c",
   "metadata": {},
   "source": [
    "Este cliente es igual que el anterior con la salvedad de que se identifica como cliente 2"
   ]
  },
  {
   "cell_type": "code",
   "execution_count": 2,
   "id": "82540d81",
   "metadata": {},
   "outputs": [
    {
     "name": "stdout",
     "output_type": "stream",
     "text": [
      "RX:  Hello Client\n"
     ]
    }
   ],
   "source": [
    "import socket\n",
    "\n",
    "msg = 'Hello Server, I am Client 2'\n",
    "bytes_tx = str.encode(msg)\n",
    "\n",
    "server_address = (\"127.0.0.1\", 6780)\n",
    "s = socket.socket(family=socket.AF_INET, type=socket.SOCK_DGRAM)\n",
    "s.sendto(bytes_tx, server_address)\n",
    "\n",
    "bytes_rx = s.recvfrom(1024)\n",
    "print(\"RX: \", bytes_rx[0].decode())\n",
    "s.close()"
   ]
  },
  {
   "cell_type": "markdown",
   "id": "af0a865a",
   "metadata": {},
   "source": [
    "APARTADO 2"
   ]
  },
  {
   "cell_type": "markdown",
   "id": "b5b4e7ad",
   "metadata": {},
   "source": [
    "En este apartado el cliente realiza la misma acción que en el apartado anterior. Envía un mensaje al servidor y posteriormente muestra por pantalla el mensaje que le mande el servidor."
   ]
  },
  {
   "cell_type": "code",
   "execution_count": 3,
   "id": "0a952e7a",
   "metadata": {},
   "outputs": [
    {
     "name": "stdout",
     "output_type": "stream",
     "text": [
      "RX:  ['Hello Client']\n"
     ]
    }
   ],
   "source": [
    "import socket\n",
    "import pickle\n",
    "\n",
    "msg = 'Hello Server, I am Client 1'\n",
    "bytes_tx = str.encode(msg)\n",
    "bytes_tx = pickle.dumps([msg])\n",
    "\n",
    "server_address = (\"127.0.0.1\", 6780)\n",
    "s = socket.socket(family=socket.AF_INET, type=socket.SOCK_DGRAM)\n",
    "s.sendto(bytes_tx, server_address)\n",
    "\n",
    "bytes_rx = s.recvfrom(1024)\n",
    "msg = pickle.loads(bytes_rx[0])\n",
    "print(\"RX: \", str(msg))\n",
    "s.close()"
   ]
  },
  {
   "cell_type": "markdown",
   "id": "6ce2b79e",
   "metadata": {},
   "source": [
    "Este cliente es igual que el anterior con la salvedad de que se identifica como cliente 2"
   ]
  },
  {
   "cell_type": "code",
   "execution_count": 4,
   "id": "4abbc08a",
   "metadata": {},
   "outputs": [
    {
     "name": "stdout",
     "output_type": "stream",
     "text": [
      "RX:  ['Hello Client']\n"
     ]
    }
   ],
   "source": [
    "import socket\n",
    "import pickle\n",
    "\n",
    "msg = 'Hello Server, I am Client 2'\n",
    "bytes_tx = str.encode(msg)\n",
    "bytes_tx = pickle.dumps([msg])\n",
    "\n",
    "server_address = (\"127.0.0.1\", 6780)\n",
    "s = socket.socket(family=socket.AF_INET, type=socket.SOCK_DGRAM)\n",
    "s.sendto(bytes_tx, server_address)\n",
    "\n",
    "bytes_rx = s.recvfrom(1024)\n",
    "msg = pickle.loads(bytes_rx[0])\n",
    "print(\"RX: \", str(msg))\n",
    "s.close()"
   ]
  },
  {
   "cell_type": "markdown",
   "id": "a59c946e",
   "metadata": {},
   "source": [
    "CLIENTE 1 - 1.3"
   ]
  },
  {
   "cell_type": "markdown",
   "id": "251d1e3c",
   "metadata": {},
   "source": [
    "Este cliente pedirá al usuario que mensaje quiere enviar al servidor y con ayuda de pickle, que ya lo habíamos usado en apartados anteriores, empaquetará el mensaje que el usuario haya introducido así como un número de identificación del cliente, si el cliente lo que quiere es cerrar la conexión del servidor deberá mandar un mensaje de EXIT. Finalmente el cliente recibirá un mensaje de respuesta del servidor y mostrará por pantalla dicho mensaje así como la longitud del mensaje que hayamos enviado nosotros"
   ]
  },
  {
   "cell_type": "code",
   "execution_count": 9,
   "id": "ac832976",
   "metadata": {},
   "outputs": [
    {
     "name": "stdout",
     "output_type": "stream",
     "text": [
      "Introduzca el mensaje a enviar: \n",
      "EXIT\n",
      "Message sent successfuly\n",
      "Cerrando conexion...\n"
     ]
    }
   ],
   "source": [
    "import pickle\n",
    "import socket\n",
    "\n",
    "id_cliente = 1\n",
    "print('Introduzca el mensaje a enviar: ')\n",
    "msg = input()\n",
    "\n",
    "server_address = (\"127.0.0.1\", 6780)\n",
    "bytes_tx = pickle.dumps((msg, id_cliente))\n",
    "\n",
    "s = socket.socket(family=socket.AF_INET, type=socket.SOCK_DGRAM)\n",
    "s.sendto(bytes_tx, server_address)\n",
    "print('Message sent successfuly')\n",
    "\n",
    "bytes_rx = s.recvfrom(1024)\n",
    "msg_recibido = pickle.loads(bytes_rx[0]) #de esta forma desempaquetamos la información\n",
    "if(msg_recibido != 'Cerrando conexion...'):\n",
    "    print('El mensaje de respuesta es: '+msg_recibido[0])\n",
    "    print('La longitud del mensaje enviado desde el cliente es: '+str(msg_recibido[1]))\n",
    "    print('Message received from server: ' + str(server_address))\n",
    "else:\n",
    "    print(msg_recibido)\n",
    "\n",
    "s.close()"
   ]
  },
  {
   "cell_type": "markdown",
   "id": "3627d477",
   "metadata": {},
   "source": [
    "Este cliente es igual que el anterior con la salvedad de que tiene otro identificador de cliente"
   ]
  },
  {
   "cell_type": "code",
   "execution_count": 4,
   "id": "c32c7399",
   "metadata": {},
   "outputs": [
    {
     "name": "stdout",
     "output_type": "stream",
     "text": [
      "Introduzca el mensaje a enviar: \n",
      "EXIT\n",
      "Message sent successfuly\n",
      "Mensaje recibido: Cerrando conexion...\n",
      "Message received from server: ('127.0.0.1', 6780)\n"
     ]
    }
   ],
   "source": [
    "import pickle\n",
    "import socket\n",
    "\n",
    "id_cliente = 2\n",
    "print('Introduzca el mensaje a enviar: ')\n",
    "msg = input()\n",
    "\n",
    "server_address = (\"127.0.0.1\", 6780)\n",
    "bytes_tx = pickle.dumps((msg, id_cliente))\n",
    "\n",
    "s = socket.socket(family=socket.AF_INET, type=socket.SOCK_DGRAM)\n",
    "s.sendto(bytes_tx, server_address)\n",
    "print('Message sent successfuly')\n",
    "\n",
    "bytes_rx = s.recvfrom(1024)\n",
    "msg_recibido = pickle.loads(bytes_rx[0])\n",
    "print('Mensaje recibido: '+str(msg_recibido))\n",
    "print('Message received from server: ' + str(bytes_rx[1]))\n",
    "\n",
    "s.close()"
   ]
  },
  {
   "cell_type": "markdown",
   "id": "eb9d8743",
   "metadata": {},
   "source": [
    "CLIENTE 1.4"
   ]
  },
  {
   "cell_type": "markdown",
   "id": "82641c5e",
   "metadata": {},
   "source": [
    "Este cliente es igual que el del apartado anterior pero la diferencia está en que si el servidor no esta levantado probará durante 10 segundos a mandar el mensaje, si en ese tiempo no hay conexión cerrará el socket. Si no han pasado los 10 segundos y consigue conectarse mostrará el mensaje de respuesta del servidor así como la longitud del mensaje mandado por nosotros. El cliente estará en funcionamiento hasta que no introduzcamos un mensaje de EXIT, en ese caso cerrará el socket cerrará la conexión del cliente y del servidor"
   ]
  },
  {
   "cell_type": "code",
   "execution_count": 12,
   "id": "ae064109",
   "metadata": {},
   "outputs": [
    {
     "name": "stdout",
     "output_type": "stream",
     "text": [
      "Introduzca el mensaje a enviar: holaa\n",
      "Esperando...\n",
      "Esperando...\n",
      "Esperando...\n",
      "Esperando...\n",
      "Esperando...\n",
      "El mensaje del servidor es: Hello Client\n",
      "La longitud del mensaje enviado por nosotros es: 5\n",
      "Message received from server: ('127.0.0.1', 6780)\n",
      "Introduzca el mensaje a enviar: EXIT\n",
      "Conexion cerrada\n",
      "Adios...\n"
     ]
    }
   ],
   "source": [
    "import time\n",
    "import pickle\n",
    "import socket\n",
    "\n",
    "id_cliente = 1\n",
    "\n",
    "msg = ''\n",
    "while(msg != 'EXIT'):\n",
    "    cont = 0\n",
    "    msg = input('Introduzca el mensaje a enviar: ')\n",
    "\n",
    "    server_address = (\"127.0.0.1\", 6780)\n",
    "    bytes_tx = pickle.dumps((msg, id_cliente))\n",
    "\n",
    "    s = socket.socket(family=socket.AF_INET, type=socket.SOCK_DGRAM)\n",
    "    mensaje = ''\n",
    "\n",
    "    for cont in range(0,10):\n",
    "        try:\n",
    "            s.sendto(bytes_tx,server_address)\n",
    "            bytes_rx = s.recvfrom(1024)\n",
    "            mensaje_rec = pickle.loads(bytes_rx[0])\n",
    "            mensaje = str(mensaje_rec[0])\n",
    "            longitud = str(mensaje_rec[1])\n",
    "            break\n",
    "        except:\n",
    "            cont = cont + 1\n",
    "            print('Esperando...')\n",
    "            time.sleep(1)\n",
    "            if cont == 10:    \n",
    "                print('Conexión cerrada')\n",
    "                break\n",
    "    if (mensaje != '') :\n",
    "        if (mensaje == 'Conexion finalizada'):\n",
    "            print('Conexion cerrada')\n",
    "            print('Adios...')\n",
    "            break\n",
    "        else:\n",
    "            print('El mensaje del servidor es: '+ mensaje)\n",
    "            print('La longitud del mensaje enviado por nosotros es: '+longitud)\n",
    "            print('Message received from server: ' +str(bytes_rx[1]))\n",
    "    else: \n",
    "        break\n",
    "\n",
    "s.close()"
   ]
  },
  {
   "cell_type": "code",
   "execution_count": null,
   "id": "5c09a12a",
   "metadata": {},
   "outputs": [],
   "source": []
  }
 ],
 "metadata": {
  "kernelspec": {
   "display_name": "Python 3",
   "language": "python",
   "name": "python3"
  },
  "language_info": {
   "codemirror_mode": {
    "name": "ipython",
    "version": 3
   },
   "file_extension": ".py",
   "mimetype": "text/x-python",
   "name": "python",
   "nbconvert_exporter": "python",
   "pygments_lexer": "ipython3",
   "version": "3.8.8"
  }
 },
 "nbformat": 4,
 "nbformat_minor": 5
}
