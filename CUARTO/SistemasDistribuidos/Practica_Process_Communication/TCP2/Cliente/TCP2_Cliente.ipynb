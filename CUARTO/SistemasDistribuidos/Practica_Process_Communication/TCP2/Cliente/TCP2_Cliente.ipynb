{
 "cells": [
  {
   "cell_type": "markdown",
   "id": "670959a5",
   "metadata": {},
   "source": [
    "# CLIENTE TCP2"
   ]
  },
  {
   "cell_type": "markdown",
   "id": "05b2899d",
   "metadata": {},
   "source": [
    "APARTADO 2.1"
   ]
  },
  {
   "cell_type": "markdown",
   "id": "eea0947f",
   "metadata": {},
   "source": [
    "- En este apartado el cliente tiene la opción de hacer una consulta al servidor pidiendo el contenido de un archivo con\n",
    "  el comando \"get nombre_archivo\" y si no existe el archivo el cliente será notificado.\n",
    "- En el caso de que quiera cerrar la conexión solo tendrá que mandar el comando \"Bye\""
   ]
  },
  {
   "cell_type": "code",
   "execution_count": 3,
   "id": "f52b53a6",
   "metadata": {
    "scrolled": true
   },
   "outputs": [
    {
     "name": "stdout",
     "output_type": "stream",
     "text": [
      "Nombre de fichero que desea ver: asid\n",
      "RX:  El fichero no existe\n",
      "Nombre de fichero que desea ver: Bye\n",
      "RX:  \n",
      "Cierre de conexion\n"
     ]
    }
   ],
   "source": [
    "import socket \n",
    "import sys\n",
    "\n",
    "s = socket.socket(socket.AF_INET, socket.SOCK_STREAM)\n",
    "server_address = (\"localhost\", 6780)\n",
    "s.connect(server_address)\n",
    "\n",
    "msg = ''\n",
    "while(msg != 'Bye'):\n",
    "    fichero = input('Nombre de fichero que desea ver: ')\n",
    "    msg = fichero\n",
    "    s.sendall(msg.encode())\n",
    "    \n",
    "    data = s.recv(1024).decode()\n",
    "    print('RX: ', data)\n",
    "    \n",
    "\n",
    "print('Cierre de conexion')\n",
    "s.close()"
   ]
  },
  {
   "cell_type": "markdown",
   "id": "517de127",
   "metadata": {},
   "source": [
    "APARTADO 2.2"
   ]
  },
  {
   "cell_type": "markdown",
   "id": "e8e52f57",
   "metadata": {},
   "source": [
    "- Se amplía el apartado anterior añadiendo el comando \"put nombre_archivo\" para que el cliente pueda modificar el contenido\n",
    "  de un archivo\n",
    "- Si el archivo NO existe el servior creará el archivo y el cliente será notificado."
   ]
  },
  {
   "cell_type": "code",
   "execution_count": null,
   "id": "9f253cf5",
   "metadata": {},
   "outputs": [
    {
     "name": "stdout",
     "output_type": "stream",
     "text": [
      "======================================\n",
      "Formato del mensaje: instrucción nombre_archivo\n",
      "Ejemplo: get prueba.txt\n",
      "Para salir escribir: Bye\n",
      "======================================\n",
      "Que desea hacer: get prueba.txt\n",
      "/*********************************/\n",
      "Datos en el archivo: \n",
      "Hola, este es el archivo de texto.b'MODIFICACI\\xc2\\xb4\\xc2\\xb4OOONN. 'b'jaisjdiasjdioadiasid'puoyupyopoupyoupyoupyoasdijaidohsadhasohasudhsaudhasuhdsModificaciionASHDJADHJSAHDJSDHJAHDDAajsdajsdijsadijasdijsdaisajdisjisaajsdkasjdksjdasdjssajdk\n",
      "/*********************************/\n",
      "======================================\n",
      "Formato del mensaje: instrucción nombre_archivo\n",
      "Ejemplo: get prueba.txt\n",
      "Para salir escribir: Bye\n",
      "======================================\n",
      "Que desea hacer: put jota.txt\n",
      "El archivo no estaba creado.\n",
      "======================================\n",
      "Formato del mensaje: instrucción nombre_archivo\n",
      "Ejemplo: get prueba.txt\n",
      "Para salir escribir: Bye\n",
      "======================================\n",
      "Que desea hacer: put jota.txt\n",
      "El archivo está listo para ser modificado.\n",
      "Introduzca la modificación: \n",
      "dasdassadas\n",
      "Enviando modificación al servidor...\n",
      "/*********************************/\n",
      "Datos en el archivo modificado: \n",
      "dasdassadas\n",
      "/*********************************/\n",
      "======================================\n",
      "Formato del mensaje: instrucción nombre_archivo\n",
      "Ejemplo: get prueba.txt\n",
      "Para salir escribir: Bye\n",
      "======================================\n",
      "Que desea hacer: get jota.txt\n",
      "/*********************************/\n",
      "Datos en el archivo: \n",
      "dasdassadas\n",
      "/*********************************/\n",
      "======================================\n",
      "Formato del mensaje: instrucción nombre_archivo\n",
      "Ejemplo: get prueba.txt\n",
      "Para salir escribir: Bye\n",
      "======================================\n",
      "Que desea hacer: put prueba.txt\n",
      "El archivo está listo para ser modificado.\n",
      "El archivo esta siendo modificado, espere su turno.\n",
      "======================================\n",
      "Formato del mensaje: instrucción nombre_archivo\n",
      "Ejemplo: get prueba.txt\n",
      "Para salir escribir: Bye\n",
      "======================================\n"
     ]
    }
   ],
   "source": [
    "import socket \n",
    "import sys\n",
    "\n",
    "\n",
    "while True:\n",
    "    s = socket.socket(socket.AF_INET, socket.SOCK_STREAM)\n",
    "    server_address = (\"localhost\", 6780)\n",
    "    s.connect(server_address)\n",
    "    \n",
    "    print('======================================')\n",
    "    print('Formato del mensaje: instrucción nombre_archivo')\n",
    "    print('Ejemplo: get prueba.txt')\n",
    "    print('Para salir escribir: Bye')\n",
    "    print('======================================')\n",
    "    mensaje = input('Que desea hacer: ')\n",
    "        \n",
    "    s.sendall(mensaje.encode())\n",
    "    \n",
    "    if mensaje == 'Bye':\n",
    "        break\n",
    "    \n",
    "    instruccion = mensaje.split() # es un vector de strings\n",
    "    \n",
    "    if instruccion[0] == 'get':\n",
    "        data = s.recv(1024).decode()\n",
    "        print('/*********************************/')\n",
    "        print('Datos en el archivo: ')\n",
    "        print(data)\n",
    "        print('/*********************************/')\n",
    "    elif instruccion[0] == 'put':\n",
    "        data = s.recv(1024).decode()\n",
    "        print(data)\n",
    "        if data != 'El archivo no estaba creado.':\n",
    "            autorizado = s.recv(1024).decode()\n",
    "            print(autorizado)\n",
    "            if autorizado != 'El archivo esta siendo modificado, espere su turno.':\n",
    "                modificacion = input('')\n",
    "                print('Enviando modificación al servidor...')\n",
    "                s.sendall(modificacion.encode())\n",
    "\n",
    "                data = s.recv(1024).decode()\n",
    "                print('/*********************************/')\n",
    "                print('Datos en el archivo modificado: ')\n",
    "                print(data)\n",
    "                print('/*********************************/')\n",
    "        \n",
    "print('Cierre de conexion')\n",
    "s.close()"
   ]
  }
 ],
 "metadata": {
  "kernelspec": {
   "display_name": "Python 3 (ipykernel)",
   "language": "python",
   "name": "python3"
  },
  "language_info": {
   "codemirror_mode": {
    "name": "ipython",
    "version": 3
   },
   "file_extension": ".py",
   "mimetype": "text/x-python",
   "name": "python",
   "nbconvert_exporter": "python",
   "pygments_lexer": "ipython3",
   "version": "3.9.7"
  }
 },
 "nbformat": 4,
 "nbformat_minor": 5
}
