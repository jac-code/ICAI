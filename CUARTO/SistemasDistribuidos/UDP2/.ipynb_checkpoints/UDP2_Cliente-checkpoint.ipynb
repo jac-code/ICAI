{
 "cells": [
  {
   "cell_type": "markdown",
   "id": "42b5cb16",
   "metadata": {},
   "source": [
    "# UDP 2 - CLIENTE"
   ]
  },
  {
   "cell_type": "markdown",
   "id": "c489dbe5",
   "metadata": {},
   "source": [
    "APARTADO 1"
   ]
  },
  {
   "cell_type": "code",
   "execution_count": 11,
   "id": "68c6c15b",
   "metadata": {},
   "outputs": [
    {
     "name": "stdout",
     "output_type": "stream",
     "text": [
      "Esperando...\n",
      "Esperando...\n",
      "Hola cliente 1, te envío la información solicitada.\n",
      "La hora es: 14:05:17\n",
      "La fecha es: 2022-02-04\n",
      "Esperando...\n",
      "Esperando...\n",
      "Esperando...\n",
      "Esperando...\n",
      "Esperando...\n",
      "Conexión cerrada\n"
     ]
    }
   ],
   "source": [
    "import pickle\n",
    "import time\n",
    "from socket import *\n",
    "\n",
    "id_cliente = 1\n",
    "msg = 'Me puedes mandar la hora ??'\n",
    "server_address = (\"127.0.0.1\", 6780)\n",
    "bytes_tx = pickle.dumps([msg, id_cliente])\n",
    "\n",
    "s = socket(AF_INET, SOCK_STREAM)\n",
    "\n",
    "cont = 0\n",
    "while cont < 5:\n",
    "    try:\n",
    "        s.connect(server_address)\n",
    "        s.send(bytes_tx)\n",
    "\n",
    "        bytes_rx = s.recvfrom(1024)\n",
    "        msg_recibido = pickle.loads(bytes_rx[0])\n",
    "        print(msg_recibido[0])\n",
    "        print(msg_recibido[1])\n",
    "        print(msg_recibido[2])\n",
    "        cont = 0\n",
    "    except:\n",
    "        cont = cont + 1\n",
    "        print('Esperando...')\n",
    "        time.sleep(1)\n",
    "        if cont == 5:\n",
    "            print('Conexión cerrada')\n",
    "            s.close()\n",
    "\n",
    "s.close()"
   ]
  },
  {
   "cell_type": "markdown",
   "id": "6487e8d5",
   "metadata": {},
   "source": [
    "APARTADO 2"
   ]
  },
  {
   "cell_type": "code",
   "execution_count": 8,
   "id": "5dff5a6f",
   "metadata": {},
   "outputs": [
    {
     "name": "stdout",
     "output_type": "stream",
     "text": [
      "Esperando...\n",
      "Esperando...\n",
      "Esperando...\n",
      "Hola cliente 1, te envío la información solicitada.\n",
      "La hora es: 14:20:41\n",
      "La fecha es: 2022-02-04\n",
      "FECHA ACTUAL CLIENTE: 2022-02-04\n",
      "d1 is greater than d2 :  False\n",
      "d1 is less than d2 :  False\n",
      "d1 is not equal to d2 :  False\n",
      "d1 is equal to d2 :  True\n",
      "HORA ACTUAL CLIENTE: 14:20:46\n",
      "d1 is greater than d2 :  False\n",
      "d1 is less than d2 :  True\n",
      "d1 is not equal to d2 :  True\n",
      "d1 is equal to d2 :  False\n",
      "Esperando...\n",
      "Esperando...\n",
      "Esperando...\n",
      "Esperando...\n",
      "Esperando...\n",
      "Conexión cerrada\n"
     ]
    }
   ],
   "source": [
    "import pickle\n",
    "import time\n",
    "from datetime import date\n",
    "from datetime import datetime\n",
    "from socket import *\n",
    "\n",
    "id_cliente = 1\n",
    "msg = 'Me puedes mandar la hora ??'\n",
    "server_address = (\"127.0.0.1\", 6780)\n",
    "bytes_tx = pickle.dumps([msg, id_cliente])\n",
    "\n",
    "s = socket(AF_INET, SOCK_STREAM)\n",
    "\n",
    "cont = 0\n",
    "while cont < 10:\n",
    "    try:\n",
    "        s.connect(server_address)\n",
    "        s.send(bytes_tx)\n",
    "\n",
    "        bytes_rx = s.recvfrom(1024)\n",
    "        msg_recibido = pickle.loads(bytes_rx[0])\n",
    "        print(msg_recibido[0])\n",
    "        print(msg_recibido[1])\n",
    "        print(msg_recibido[2])\n",
    "        cont = 0\n",
    "        \n",
    "        time.sleep(5)\n",
    "        \n",
    "        now = datetime.now()\n",
    "        current_time = now.strftime(\"%H:%M:%S\")\n",
    "        today = date.today()\n",
    "        \n",
    "        # Comparing the dates will return\n",
    "        # either True or False\n",
    "        print('FECHA ACTUAL CLIENTE: ' + str(today))\n",
    "        print(\"d1 is greater than d2 : \", msg_recibido[4] > today)\n",
    "        print(\"d1 is less than d2 : \", msg_recibido[4] < today)\n",
    "        print(\"d1 is not equal to d2 : \", msg_recibido[4] != today)\n",
    "        print(\"d1 is equal to d2 : \", msg_recibido[4] == today)\n",
    "        \n",
    "        print('HORA ACTUAL CLIENTE: ' + str(current_time))\n",
    "        print(\"h1 is greater than h2 : \", msg_recibido[3] > current_time)\n",
    "        print(\"h1 is less than h2 : \", msg_recibido[3] < current_time)\n",
    "        print(\"h1 is not equal to h2 : \", msg_recibido[3] != current_time)\n",
    "        print(\"h1 is equal to h2 : \", msg_recibido[3] == current_time)\n",
    "        \n",
    "    except:\n",
    "        cont = cont + 1\n",
    "        print('Esperando...')\n",
    "        time.sleep(1)\n",
    "        if cont == 10:\n",
    "            print('Conexión cerrada')\n",
    "            s.close()\n",
    "\n",
    "s.close()"
   ]
  }
 ],
 "metadata": {
  "kernelspec": {
   "display_name": "Python 3 (ipykernel)",
   "language": "python",
   "name": "python3"
  },
  "language_info": {
   "codemirror_mode": {
    "name": "ipython",
    "version": 3
   },
   "file_extension": ".py",
   "mimetype": "text/x-python",
   "name": "python",
   "nbconvert_exporter": "python",
   "pygments_lexer": "ipython3",
   "version": "3.9.7"
  }
 },
 "nbformat": 4,
 "nbformat_minor": 5
}
