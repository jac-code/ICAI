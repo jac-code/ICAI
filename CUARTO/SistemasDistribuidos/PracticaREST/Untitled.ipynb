{
 "cells": [
  {
   "cell_type": "markdown",
   "id": "d2c64d8b",
   "metadata": {},
   "source": [
    "ARQUTECTURA REST"
   ]
  },
  {
   "cell_type": "markdown",
   "id": "2916821f",
   "metadata": {},
   "source": [
    "APARTADO 1"
   ]
  },
  {
   "cell_type": "markdown",
   "id": "cfc3980f",
   "metadata": {},
   "source": [
    "a)"
   ]
  },
  {
   "cell_type": "code",
   "execution_count": 1,
   "id": "44a5b9cc",
   "metadata": {},
   "outputs": [],
   "source": [
    "query_a = \"SELECT DISTINCT fecha FROM bicimad \""
   ]
  },
  {
   "cell_type": "markdown",
   "id": "36c5919a",
   "metadata": {},
   "source": [
    "docker run -e \"ACCEPT_EULA=Y\" -e \"SA_PASSWORD=icaiSQL2019\" -p 6789:1433 -d mcr.microsoft.com/mssql/server:2017-latest"
   ]
  },
  {
   "cell_type": "code",
   "execution_count": 2,
   "id": "bbb62dd3",
   "metadata": {},
   "outputs": [
    {
     "name": "stdout",
     "output_type": "stream",
     "text": [
      "Requirement already satisfied: Flask in c:\\programdata\\anaconda3\\lib\\site-packages (1.1.2)\n",
      "Requirement already satisfied: itsdangerous>=0.24 in c:\\programdata\\anaconda3\\lib\\site-packages (from Flask) (2.0.1)\n",
      "Requirement already satisfied: Jinja2>=2.10.1 in c:\\programdata\\anaconda3\\lib\\site-packages (from Flask) (2.11.3)\n",
      "Requirement already satisfied: click>=5.1 in c:\\programdata\\anaconda3\\lib\\site-packages (from Flask) (8.0.3)\n",
      "Requirement already satisfied: Werkzeug>=0.15 in c:\\programdata\\anaconda3\\lib\\site-packages (from Flask) (2.0.2)\n",
      "Requirement already satisfied: colorama in c:\\programdata\\anaconda3\\lib\\site-packages (from click>=5.1->Flask) (0.4.4)\n",
      "Requirement already satisfied: MarkupSafe>=0.23 in c:\\programdata\\anaconda3\\lib\\site-packages (from Jinja2>=2.10.1->Flask) (1.1.1)\n"
     ]
    }
   ],
   "source": [
    "!pip install Flask"
   ]
  },
  {
   "cell_type": "code",
   "execution_count": 3,
   "id": "b3cffea6",
   "metadata": {},
   "outputs": [
    {
     "name": "stdout",
     "output_type": "stream",
     "text": [
      " * Serving Flask app \"__main__\" (lazy loading)\n",
      " * Environment: production\n",
      "\u001b[31m   WARNING: This is a development server. Do not use it in a production deployment.\u001b[0m\n",
      "\u001b[2m   Use a production WSGI server instead.\u001b[0m\n",
      " * Debug mode: off\n"
     ]
    },
    {
     "name": "stderr",
     "output_type": "stream",
     "text": [
      " * Running on http://127.0.0.1:6789/ (Press CTRL+C to quit)\n",
      "127.0.0.1 - - [28/Feb/2022 11:48:49] \"GET / HTTP/1.1\" 404 -\n",
      "127.0.0.1 - - [28/Feb/2022 11:48:49] \"GET /favicon.ico HTTP/1.1\" 404 -\n"
     ]
    }
   ],
   "source": [
    "from flask import Flask, jsonify, request\n",
    "import json\n",
    "import pyodbc\n",
    "import pandas as pd\n",
    "\n",
    "app = Flask(__name__)\n",
    "\n",
    "@app.route('/api/v1.0/data', methods=['GET'])\n",
    "def get_data():\n",
    "    #http://127.0.0.1:6878/api/v1.1/data\n",
    "    if request.method == 'GET':\n",
    "        server = 'tcp:127.0.0.1'\n",
    "        database = 'tempdb'\n",
    "        username = 'sa'\n",
    "        password = 'icaiSQL2019'\n",
    "        cnxn = pyodbc.connect('DRIVER={ODBC Driver 17 for SQL Server}; \\\n",
    "                              SERVER='+server+';DATABASE='+database+'; \\\n",
    "                              UID='+username+';PWD='+password)\n",
    "        df = pd.read_sql_query(query_a,cnxn)\n",
    "        df.head()\n",
    "        print(df)\n",
    "        return df.to_html()\n",
    "    \n",
    "if __name__ == '__main__':\n",
    "    app.run(port=6789)"
   ]
  },
  {
   "cell_type": "markdown",
   "id": "f1452c86",
   "metadata": {},
   "source": [
    "b)"
   ]
  },
  {
   "cell_type": "code",
   "execution_count": 7,
   "id": "b816a22d",
   "metadata": {},
   "outputs": [
    {
     "name": "stdout",
     "output_type": "stream",
     "text": [
      "        fecha\n",
      "0  2021-07-05\n",
      "1  2021-07-05\n",
      "2  2021-07-05\n",
      "3  2021-07-05\n",
      "4  2021-07-05\n",
      "5  2021-07-05\n",
      "6  2021-07-05\n",
      "7  2021-07-05\n",
      "8  2021-07-05\n",
      "9  2021-07-05\n"
     ]
    }
   ],
   "source": [
    "import json\n",
    "import pyodbc\n",
    "import pandas as pd\n",
    "query_b = \"SELECT top 10 [fecha] FROM [bicimad]\"\n",
    "server = '127.0.0.1,6789'\n",
    "database = 'ssdd'\n",
    "username = 'sa'\n",
    "password = 'icaiSQL2019'\n",
    "cnxn = pyodbc.connect('DRIVER={ODBC Driver 17 for SQL Server}; \\\n",
    "                      SERVER='+server+';DATABASE='+database+'; \\\n",
    "                      UID='+username+';PWD='+password)\n",
    "df = pd.read_sql_query(query_b,cnxn)\n",
    "print(df)"
   ]
  },
  {
   "cell_type": "code",
   "execution_count": null,
   "id": "7869763a",
   "metadata": {},
   "outputs": [],
   "source": [
    "df.head()"
   ]
  },
  {
   "cell_type": "markdown",
   "id": "b7b92836",
   "metadata": {},
   "source": [
    "c)"
   ]
  },
  {
   "cell_type": "code",
   "execution_count": null,
   "id": "20222741",
   "metadata": {},
   "outputs": [],
   "source": [
    "query_c = \"SELECT DISTINCT idplug_base FROM bicimad\""
   ]
  },
  {
   "cell_type": "markdown",
   "id": "1c646a11",
   "metadata": {},
   "source": [
    "d)"
   ]
  },
  {
   "cell_type": "code",
   "execution_count": null,
   "id": "7b02af87",
   "metadata": {},
   "outputs": [],
   "source": [
    "query_d = \"SELECT * FROM bicimad WHERE fecha = '2019-01-06'\""
   ]
  },
  {
   "cell_type": "markdown",
   "id": "4935f128",
   "metadata": {},
   "source": [
    "e)"
   ]
  },
  {
   "cell_type": "code",
   "execution_count": null,
   "id": "30f1c4c2",
   "metadata": {},
   "outputs": [],
   "source": [
    "query_e = \"SELECT * FROM bicimad WHERE fecha = '2019-01-06' AND \""
   ]
  },
  {
   "cell_type": "markdown",
   "id": "e493e888",
   "metadata": {},
   "source": [
    "f)"
   ]
  },
  {
   "cell_type": "code",
   "execution_count": null,
   "id": "cf8d758b",
   "metadata": {},
   "outputs": [],
   "source": []
  }
 ],
 "metadata": {
  "kernelspec": {
   "display_name": "Python 3 (ipykernel)",
   "language": "python",
   "name": "python3"
  },
  "language_info": {
   "codemirror_mode": {
    "name": "ipython",
    "version": 3
   },
   "file_extension": ".py",
   "mimetype": "text/x-python",
   "name": "python",
   "nbconvert_exporter": "python",
   "pygments_lexer": "ipython3",
   "version": "3.9.7"
  }
 },
 "nbformat": 4,
 "nbformat_minor": 5
}
