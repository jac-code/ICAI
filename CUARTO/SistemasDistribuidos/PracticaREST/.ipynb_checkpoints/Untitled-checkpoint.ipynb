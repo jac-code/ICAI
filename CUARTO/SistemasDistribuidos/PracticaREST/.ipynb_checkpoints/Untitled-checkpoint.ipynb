{
 "cells": [
  {
   "cell_type": "markdown",
   "id": "d2c64d8b",
   "metadata": {},
   "source": [
    "ARQUTECTURA REST"
   ]
  },
  {
   "cell_type": "markdown",
   "id": "2916821f",
   "metadata": {},
   "source": [
    "APARTADO 1"
   ]
  },
  {
   "cell_type": "markdown",
   "id": "ac2f8cf1",
   "metadata": {},
   "source": [
    "Comando docker"
   ]
  },
  {
   "cell_type": "markdown",
   "id": "37c3658d",
   "metadata": {},
   "source": [
    "docker run -e \"ACCEPT_EULA=Y\" -e \"SA_PASSWORD=icaiSQL2019\" -p 6789:1433 -d mcr.microsoft.com/mssql/server:2017-latest"
   ]
  },
  {
   "cell_type": "markdown",
   "id": "cfc3980f",
   "metadata": {},
   "source": [
    "1)"
   ]
  },
  {
   "cell_type": "code",
   "execution_count": 1,
   "id": "44a5b9cc",
   "metadata": {},
   "outputs": [],
   "source": [
    "query_a = \"SELECT DISTINCT fecha FROM bicimad \""
   ]
  },
  {
   "cell_type": "markdown",
   "id": "f1452c86",
   "metadata": {},
   "source": [
    "2)"
   ]
  },
  {
   "cell_type": "code",
   "execution_count": null,
   "id": "29a438ad",
   "metadata": {},
   "outputs": [],
   "source": [
    "query_b = \"SELECT DISTINCT idunplug_base FROM bicimad\""
   ]
  },
  {
   "cell_type": "markdown",
   "id": "b7b92836",
   "metadata": {},
   "source": [
    "3)"
   ]
  },
  {
   "cell_type": "code",
   "execution_count": null,
   "id": "20222741",
   "metadata": {},
   "outputs": [],
   "source": [
    "query_c = \"SELECT DISTINCT idplug_base FROM bicimad\""
   ]
  },
  {
   "cell_type": "markdown",
   "id": "1c646a11",
   "metadata": {},
   "source": [
    "4)"
   ]
  },
  {
   "cell_type": "code",
   "execution_count": null,
   "id": "7b02af87",
   "metadata": {},
   "outputs": [],
   "source": [
    "query_d = \"SELECT * FROM bicimad WHERE fecha = '2019-01-06'\""
   ]
  },
  {
   "cell_type": "markdown",
   "id": "4935f128",
   "metadata": {},
   "source": [
    "5) base = slot"
   ]
  },
  {
   "cell_type": "code",
   "execution_count": null,
   "id": "30f1c4c2",
   "metadata": {},
   "outputs": [],
   "source": [
    "query_e = \"SELECT * FROM bicimad WHERE fecha = '2019-01-06' AND idunplug_station = 90\""
   ]
  },
  {
   "cell_type": "markdown",
   "id": "e493e888",
   "metadata": {},
   "source": [
    "6)"
   ]
  },
  {
   "cell_type": "code",
   "execution_count": null,
   "id": "cf8d758b",
   "metadata": {},
   "outputs": [],
   "source": [
    "query_6 = \"SELECT * FROM bicimad WHERE fecha = '2021-07-05' AND idplug_station = 66\""
   ]
  },
  {
   "cell_type": "markdown",
   "id": "73c1bcd9",
   "metadata": {},
   "source": [
    "7)"
   ]
  },
  {
   "cell_type": "code",
   "execution_count": null,
   "id": "973aba92",
   "metadata": {},
   "outputs": [],
   "source": [
    "query_7 = \"SELECT * FROM bicimad WHERE fecha = '2019-01-06' AND idunplug_station = 90 AND idplug_station = 83\""
   ]
  },
  {
   "cell_type": "markdown",
   "id": "d89436f0",
   "metadata": {},
   "source": [
    "8)"
   ]
  },
  {
   "cell_type": "code",
   "execution_count": null,
   "id": "4b6db59e",
   "metadata": {},
   "outputs": [],
   "source": [
    "query_8 = \"SELECT * FROM bicimad WHERE fecha = '2019-01-06' AND idunplug_station = 90 AND idplug_station = 83 AND travel_time < 400\""
   ]
  },
  {
   "cell_type": "markdown",
   "id": "58b60473",
   "metadata": {},
   "source": [
    "9)"
   ]
  },
  {
   "cell_type": "code",
   "execution_count": null,
   "id": "e3877a10",
   "metadata": {},
   "outputs": [],
   "source": [
    "query_9 = \"INSERT INTO bicimad (fecha, ageRange, user_type, idunplug_station, idplug_station, idunplug_base, idplug_base, travel_time, Fichero) VALUES ('2022-03-04', 3, 90, 83, 10, 7, 300, 000000)\""
   ]
  },
  {
   "cell_type": "markdown",
   "id": "d6c958ad",
   "metadata": {},
   "source": [
    "#########################################"
   ]
  },
  {
   "cell_type": "markdown",
   "id": "4e687a47",
   "metadata": {},
   "source": [
    "COGER Y MOSTRAR UN INSERT"
   ]
  },
  {
   "cell_type": "code",
   "execution_count": 12,
   "id": "3fd4edcc",
   "metadata": {},
   "outputs": [],
   "source": [
    "import json\n",
    "import pyodbc\n",
    "import pandas as pd\n",
    "query_b = \"SELECT top 10 [fecha] FROM [bicimad]\"\n",
    "query_post = \"INSERT INTO bicimad (fecha, ageRange, user_type, idunplug_station, idplug_station, idunplug_base, idplug_base, travel_time, Fichero) VALUES ('2023-03-04', 3, 1, 90, 83, 10, 7, 300, 000000);\"\n",
    "query = \"SELECT * FROM bicimad WHERE fecha = '2019-01-06'\"\n",
    "server = '127.0.0.1,6789'\n",
    "database = 'ssdd'\n",
    "username = 'sa'\n",
    "password = 'icaiSQL2019'\n",
    "cnxn = pyodbc.connect('DRIVER={ODBC Driver 17 for SQL Server}; \\\n",
    "                      SERVER='+server+';DATABASE='+database+'; \\\n",
    "                      UID='+username+';PWD='+password)"
   ]
  },
  {
   "cell_type": "code",
   "execution_count": 13,
   "id": "fb539bc9",
   "metadata": {},
   "outputs": [
    {
     "name": "stdout",
     "output_type": "stream",
     "text": [
      "Rows inserted: 1\n"
     ]
    }
   ],
   "source": [
    "query = \"INSERT INTO ssdd.dbo.bicimad (fecha, ageRange, user_type, idunplug_station, idplug_station, idunplug_base, idplug_base, travel_time, Fichero) VALUES ('2022-03-06', 3, 1, 90, 83, 10, 7, 300, 000000);\"\n",
    "#query = \"SELECT * FROM bicimad WHERE fecha = '2023-03-04';\"\n",
    "df = cursor.execute(query)\n",
    "cnxn.commit()\n",
    "print('Rows inserted: ' + str(df.rowcount))"
   ]
  },
  {
   "cell_type": "markdown",
   "id": "ab45672b",
   "metadata": {},
   "source": [
    "####################################"
   ]
  },
  {
   "cell_type": "markdown",
   "id": "2d1dfc41",
   "metadata": {},
   "source": [
    "COGER Y MOSTRAR UN SELECT"
   ]
  },
  {
   "cell_type": "code",
   "execution_count": 18,
   "id": "01545b0c",
   "metadata": {},
   "outputs": [],
   "source": [
    "import json\n",
    "import pyodbc\n",
    "import pandas as pd\n",
    "query_b = \"SELECT top 10 [fecha] FROM [bicimad]\"\n",
    "query_post = \"INSERT INTO bicimad (fecha, ageRange, user_type, idunplug_station, idplug_station, idunplug_base, idplug_base, travel_time, Fichero) VALUES ('2023-03-04', 3, 1, 90, 83, 10, 7, 300, 000000);\"\n",
    "query = \"SELECT * FROM bicimad WHERE fecha = '2019-01-06'\"\n",
    "server = '127.0.0.1,6789'\n",
    "database = 'ssdd'\n",
    "username = 'sa'\n",
    "password = 'icaiSQL2019'\n",
    "cnxn = pyodbc.connect('DRIVER={ODBC Driver 17 for SQL Server}; \\\n",
    "                      SERVER='+server+';DATABASE='+database+'; \\\n",
    "                      UID='+username+';PWD='+password)\n",
    "cursor=cnxn.cursor()\n",
    "query = \"SELECT * FROM bicimad WHERE fecha = '2019-01-06'\"\n",
    "df = cursor.execute(query)\n",
    "#pd.DataFrame(df.fetchall(),columns=[\"fecha\", \"ageRange\", \"user_type\", \"idunplug_station\", \"idplug_station\", \"idunplug_base\", \"idplug_base\", \"travel_time\", \"Fichero\"])"
   ]
  },
  {
   "cell_type": "markdown",
   "id": "c58301a5",
   "metadata": {},
   "source": [
    "########################################"
   ]
  },
  {
   "cell_type": "markdown",
   "id": "5db5c682",
   "metadata": {},
   "source": [
    "PROGRAMA INTERFAZ"
   ]
  },
  {
   "cell_type": "code",
   "execution_count": null,
   "id": "5756091a",
   "metadata": {},
   "outputs": [],
   "source": [
    "!pip install Flask"
   ]
  },
  {
   "cell_type": "code",
   "execution_count": null,
   "id": "c26ade81",
   "metadata": {},
   "outputs": [
    {
     "name": "stdout",
     "output_type": "stream",
     "text": [
      " * Serving Flask app \"__main__\" (lazy loading)\n",
      " * Environment: production\n",
      "\u001b[31m   WARNING: This is a development server. Do not use it in a production deployment.\u001b[0m\n",
      "\u001b[2m   Use a production WSGI server instead.\u001b[0m\n",
      " * Debug mode: off\n"
     ]
    },
    {
     "name": "stderr",
     "output_type": "stream",
     "text": [
      " * Running on http://127.0.0.1:6789/ (Press CTRL+C to quit)\n",
      "127.0.0.1 - - [07/Mar/2022 13:52:28] \"GET /api/v1.0/data/movimientos-inicio-destino-tiempo/2000-05-24&5&1&90&83&10&7&400 HTTP/1.1\" 200 -\n"
     ]
    },
    {
     "name": "stdout",
     "output_type": "stream",
     "text": [
      "Rows inserted: 1\n",
      "To To get the inserted row execute getDayMovement()\n"
     ]
    },
    {
     "name": "stderr",
     "output_type": "stream",
     "text": [
      "127.0.0.1 - - [07/Mar/2022 13:52:32] \"GET /api/v1.0/data/movimientos-dia/2000-05-24 HTTP/1.1\" 200 -\n",
      "127.0.0.1 - - [07/Mar/2022 13:52:33] \"GET /api/v1.0/data/movimientos-dia/2000-05-24 HTTP/1.1\" 200 -\n",
      "127.0.0.1 - - [07/Mar/2022 13:52:34] \"GET /api/v1.0/data/movimientos-dia/2000-05-24 HTTP/1.1\" 200 -\n",
      "127.0.0.1 - - [07/Mar/2022 13:52:34] \"GET /api/v1.0/data/movimientos-dia/2000-05-24 HTTP/1.1\" 200 -\n",
      "127.0.0.1 - - [07/Mar/2022 13:52:34] \"GET /api/v1.0/data/movimientos-dia/2000-05-24 HTTP/1.1\" 200 -\n"
     ]
    }
   ],
   "source": [
    "from flask import Flask, jsonify, request\n",
    "import json\n",
    "import pyodbc\n",
    "import pandas as pd\n",
    "from datetime import date\n",
    "  \n",
    "app = Flask(__name__)\n",
    "\n",
    "query_a = \"SELECT DISTINCT fecha FROM bicimad\"\n",
    "server = '127.0.0.1,6789'\n",
    "database = 'ssdd'\n",
    "username = 'sa'\n",
    "password = 'icaiSQL2019'\n",
    "cnxn = pyodbc.connect('DRIVER={ODBC Driver 17 for SQL Server}; \\\n",
    "                      SERVER='+server+';DATABASE='+database+'; \\\n",
    "                      UID='+username+';PWD='+password)\n",
    "cursor=cnxn.cursor()\n",
    "\n",
    "# Pass the required route to the decorator.    \n",
    "@app.route(\"/\")\n",
    "def index():\n",
    "    return \"BIENVENIDO AL SERVIVICIO REST PARA CONSULTAR INFORMACIÓN SOBRE EL SERVICIO DE BICICLETAS DE ALQUILER EN MADRID\"\n",
    "\n",
    "@app.route('/api/v1.0/data/cantidad-fechas',  methods=['GET'])\n",
    "def getCantidadFechas():\n",
    "    query = \"SELECT DISTINCT fecha FROM bicimad\"\n",
    "    df = cursor.execute(query)\n",
    "    \n",
    "    rows = df.fetchall()\n",
    "    data_frame = pd.DataFrame([list(row) for row in rows],columns=[\"fecha\"])\n",
    "    return data_frame.to_html()\n",
    "\n",
    "@app.route('/api/v1.0/data/estaciones-origen',  methods=['GET'])\n",
    "def getStartStations():\n",
    "    query = \"SELECT DISTINCT idunplug_base FROM bicimad\"  \n",
    "    df = cursor.execute(query)\n",
    "    \n",
    "    rows = df.fetchall()\n",
    "    data_frame = pd.DataFrame([list(row) for row in rows],columns=[\"idunplug_base\"])\n",
    "    return data_frame.to_html()\n",
    "\n",
    "@app.route('/api/v1.0/data/estaciones-destino',  methods=['GET'])\n",
    "def getFinalStations():\n",
    "    query = \"SELECT DISTINCT idplug_base FROM bicimad\"\n",
    "    df = cursor.execute(query)\n",
    "    \n",
    "    rows = df.fetchall()\n",
    "    data_frame = pd.DataFrame([list(row) for row in rows],columns=[\"idplug_base\"])\n",
    "    return data_frame.to_html()\n",
    "\n",
    "@app.route('/api/v1.0/data/movimientos-dia/<fecha>',  methods=['GET'])\n",
    "def getDayMovement(fecha):\n",
    "    # copiar y pegar esta url para comprobar --> si funciona\n",
    "    # http://127.0.0.1:6789/api/v1.0/data/movimientos-dia/2021-07-05\n",
    "    df = cursor.execute(\"SELECT * FROM bicimad WHERE fecha = ?\", str(fecha))\n",
    "    rows = df.fetchall()\n",
    "    data_frame = pd.DataFrame([list(row) for row in rows],columns=[\"fecha\", \"ageRange\", \"user_type\", \"idunplug_station\", \"idplug_station\", \"idunplug_base\", \"idplug_base\", \"travel_time\", \"Fichero\"])\n",
    "    return data_frame.to_html()\n",
    "\n",
    "@app.route('/api/v1.0/data/movimientos-origen/<fecha>&<idunplug_station>',  methods=['GET'])\n",
    "def getStations(fecha,idunplug_station):\n",
    "    # http://127.0.0.1:6789/api/v1.0/data/movimientos-origen/2019-01-06&90 \n",
    "    df = cursor.execute(\"SELECT * FROM bicimad WHERE fecha = ? AND idunplug_station = ?\",str(fecha),str(idunplug_station))\n",
    "    rows = df.fetchall()\n",
    "    data_frame = pd.DataFrame([list(row) for row in rows],columns=[\"fecha\", \"ageRange\", \"user_type\", \"idunplug_station\", \"idplug_station\", \"idunplug_base\", \"idplug_base\", \"travel_time\", \"Fichero\"])\n",
    "    return data_frame.to_html()\n",
    "\n",
    "@app.route('/api/v1.0/data/movimientos-inicio/<fecha>&<idplug_station>',  methods=['GET'])\n",
    "def getMovementStart(fecha,idplug_station):\n",
    "    # http://127.0.0.1:6789/api/v1.0/data/movimientos-destino/2019-01-06&90 \n",
    "    df = cursor.execute(\"SELECT * FROM bicimad WHERE fecha = ? AND idplug_station = ?\",str(fecha),str(idplug_station))\n",
    "    rows = df.fetchall()\n",
    "    data_frame = pd.DataFrame([list(row) for row in rows],columns=[\"fecha\", \"ageRange\", \"user_type\", \"idunplug_station\", \"idplug_station\", \"idunplug_base\", \"idplug_base\", \"travel_time\", \"Fichero\"])\n",
    "    return data_frame.to_html()\n",
    "\n",
    "@app.route('/api/v1.0/data/movimientos-destino/<fecha>&<idplug_station>',  methods=['GET'])\n",
    "def getMovementEnd(fecha,idplug_station):\n",
    "    # http://127.0.0.1:6789/api/v1.0/data/movimientos-destino/2019-01-06&90 \n",
    "    df = cursor.execute(\"SELECT * FROM bicimad WHERE fecha = ? AND idplug_station = ?\",str(fecha),str(idplug_station))\n",
    "    rows = df.fetchall()\n",
    "    data_frame = pd.DataFrame([list(row) for row in rows],columns=[\"fecha\", \"ageRange\", \"user_type\", \"idunplug_station\", \"idplug_station\", \"idunplug_base\", \"idplug_base\", \"travel_time\", \"Fichero\"])\n",
    "    return data_frame.to_html()\n",
    "\n",
    "@app.route('/api/v1.0/data/movimientos-inicio-destino/<fecha>&<idunplug_station>&<idplug_station>',  methods=['GET'])\n",
    "def getMovementStartEnd(fecha,idunplug_station,idplug_station):\n",
    "    # http://127.0.0.1:6789/api/v1.0/data/movimientos-destino/2019-01-06&90&83\n",
    "    df = cursor.execute(\"SELECT * FROM bicimad WHERE fecha = ? AND idunplug_station = ? AND idplug_station = ?\",str(fecha),str(idunplug_station),str(idplug_station))\n",
    "    rows = df.fetchall()\n",
    "    data_frame = pd.DataFrame([list(row) for row in rows],columns=[\"fecha\", \"ageRange\", \"user_type\", \"idunplug_station\", \"idplug_station\", \"idunplug_base\", \"idplug_base\", \"travel_time\", \"Fichero\"])\n",
    "    return data_frame.to_html()\n",
    "\n",
    "@app.route('/api/v1.0/data/movimientos-inicio-destino-tiempo/<fecha>&<idunplug_station>&<idplug_station>&<travel_time>',  methods=['GET'])\n",
    "def getMovementStartEndTime(fecha,idunplug_station,idplug_station,travel_time):\n",
    "    # http://127.0.0.1:6789/api/v1.0/data/movimientos-inicio-destino-tiempo/2019-01-06&90&83&400\n",
    "    df = cursor.execute(\"SELECT * FROM bicimad WHERE fecha = ? AND idunplug_station = ? AND idplug_station = ? AND travel_time < ?\",str(fecha),str(idunplug_station),str(idplug_station),str(travel_time))\n",
    "    rows = df.fetchall()\n",
    "    data_frame = pd.DataFrame([list(row) for row in rows],columns=[\"fecha\", \"ageRange\", \"user_type\", \"idunplug_station\", \"idplug_station\", \"idunplug_base\", \"idplug_base\", \"travel_time\", \"Fichero\"])\n",
    "    return data_frame.to_html()\n",
    "\n",
    "@app.route('/api/v1.0/data/movimientos-inicio-destino-tiempo/<fecha>&<ageRange>&<user_type>&<idunplug_station>&<idplug_station>&<idunplug_base>&<idplug_base>&<travel_time>',  methods=['GET'])\n",
    "def putNewRow(fecha, ageRange, user_type, idunplug_station, idplug_station, idunplug_base, idplug_base, travel_time):\n",
    "    # http://127.0.0.1:6789/api/v1.0/data/movimientos-inicio-destino-tiempo/2000-05-24&5&1&90&83&10&7&400\n",
    "    \n",
    "    df = cursor.execute(\"INSERT INTO bicimad (fecha, ageRange, user_type, idunplug_station, idplug_station, idunplug_base, idplug_base, travel_time, Fichero) VALUES (?, ?, ?, ?, ?, ?, ?, ?, ?)\", str(fecha), str(ageRange), str(user_type), str(idunplug_station), str(idplug_station), str(idunplug_base), str(idplug_base), str(travel_time),\"000000\")\n",
    "    cnxn.commit()\n",
    "    print('Rows inserted: ' + str(df.rowcount))\n",
    "    print('To To get the inserted row execute getDayMovement()')\n",
    "    return \"Query executed succesfully. To get the inserted row execute getDayMovement()\"\n",
    "\n",
    "if __name__ == '__main__':\n",
    "    app.run(port=6789)"
   ]
  },
  {
   "cell_type": "code",
   "execution_count": null,
   "id": "e142336a",
   "metadata": {},
   "outputs": [],
   "source": []
  }
 ],
 "metadata": {
  "kernelspec": {
   "display_name": "Python 3 (ipykernel)",
   "language": "python",
   "name": "python3"
  },
  "language_info": {
   "codemirror_mode": {
    "name": "ipython",
    "version": 3
   },
   "file_extension": ".py",
   "mimetype": "text/x-python",
   "name": "python",
   "nbconvert_exporter": "python",
   "pygments_lexer": "ipython3",
   "version": "3.9.7"
  }
 },
 "nbformat": 4,
 "nbformat_minor": 5
}
