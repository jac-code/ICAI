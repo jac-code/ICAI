{
 "cells": [
  {
   "cell_type": "markdown",
   "id": "6f606cd9",
   "metadata": {},
   "source": [
    "# SERVIDOR TCP"
   ]
  },
  {
   "cell_type": "markdown",
   "id": "8cd4229c",
   "metadata": {},
   "source": [
    "PRUEBA"
   ]
  },
  {
   "cell_type": "code",
   "execution_count": 1,
   "id": "01386b26",
   "metadata": {},
   "outputs": [
    {
     "name": "stdout",
     "output_type": "stream",
     "text": [
      "RX:  HOLA\n"
     ]
    }
   ],
   "source": [
    "import socket \n",
    "import sys\n",
    "\n",
    "s = socket.socket(socket.AF_INET, socket.SOCK_STREAM)\n",
    "server_address = (\"localhost\", 6780)\n",
    "s.bind(server_address)\n",
    "s.listen(1)\n",
    "\n",
    "conn, address = s.accept()\n",
    "data = conn.recv(1024).decode()\n",
    "print('RX: ',data)\n",
    "\n",
    "conn.sendall('HOLA CLIENTE'.encode())\n",
    "conn.close()"
   ]
  },
  {
   "cell_type": "markdown",
   "id": "4b5b72b9",
   "metadata": {},
   "source": [
    "APARTADO 1.1"
   ]
  },
  {
   "cell_type": "code",
   "execution_count": null,
   "id": "f9bd5cf2",
   "metadata": {},
   "outputs": [
    {
     "name": "stdout",
     "output_type": "stream",
     "text": [
      "Esperando a una conexión...\n",
      "RX:  hola2\n",
      "Esperando a una conexión...\n",
      "RX:  jjk\n",
      "Esperando a una conexión...\n"
     ]
    }
   ],
   "source": [
    "import socket \n",
    "import sys\n",
    "\n",
    "s = socket.socket(socket.AF_INET, socket.SOCK_STREAM)\n",
    "server_address = (\"localhost\", 6780)\n",
    "s.bind(server_address)\n",
    "s.listen(1)\n",
    "\n",
    "conn, address = s.accept()\n",
    "msg = ''\n",
    "while str(msg)!='EXIT':\n",
    "    print('Esperando a una conexión...')\n",
    "    data = conn.recv(1024).decode()\n",
    "    print('RX: ', data)\n",
    "    msg = data\n",
    "    if msg != 'EXIT':\n",
    "        conn.sendall('HOLA CLIENTE'.encode())\n",
    "\n",
    "    \n",
    "conn.sendall('BYE'.encode())\n",
    "print('Conexión cerrrada')\n",
    "conn.close()"
   ]
  }
 ],
 "metadata": {
  "kernelspec": {
   "display_name": "Python 3 (ipykernel)",
   "language": "python",
   "name": "python3"
  },
  "language_info": {
   "codemirror_mode": {
    "name": "ipython",
    "version": 3
   },
   "file_extension": ".py",
   "mimetype": "text/x-python",
   "name": "python",
   "nbconvert_exporter": "python",
   "pygments_lexer": "ipython3",
   "version": "3.9.7"
  }
 },
 "nbformat": 4,
 "nbformat_minor": 5
}
