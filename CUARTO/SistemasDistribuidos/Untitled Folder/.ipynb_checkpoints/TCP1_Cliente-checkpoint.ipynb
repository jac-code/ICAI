{
 "cells": [
  {
   "cell_type": "markdown",
   "id": "72557805",
   "metadata": {},
   "source": [
    "# CLIENTE TCP"
   ]
  },
  {
   "cell_type": "markdown",
   "id": "e4458b77",
   "metadata": {},
   "source": [
    "PRUEBA"
   ]
  },
  {
   "cell_type": "code",
   "execution_count": 3,
   "id": "838536ab",
   "metadata": {},
   "outputs": [
    {
     "name": "stdout",
     "output_type": "stream",
     "text": [
      "RX:  HOLA CLIENTE\n"
     ]
    }
   ],
   "source": [
    "import socket \n",
    "import sys\n",
    "\n",
    "s = socket.socket(socket.AF_INET, socket.SOCK_STREAM)\n",
    "server_address = (\"localhost\", 6780)\n",
    "s.connect(server_address)\n",
    "s.sendall('HOLA SERVIDOR'.encode())\n",
    "data = s.recv(1024).decode()\n",
    "print('RX: ',data)\n",
    "s.close()"
   ]
  },
  {
   "cell_type": "markdown",
   "id": "13764441",
   "metadata": {},
   "source": [
    "APARTADO 1.1"
   ]
  },
  {
   "cell_type": "code",
   "execution_count": null,
   "id": "cc8a810b",
   "metadata": {},
   "outputs": [],
   "source": [
    "import socket \n",
    "import sys\n",
    "\n",
    "s = socket.socket(socket.AF_INET, socket.SOCK_STREAM)\n",
    "server_address = (\"localhost\", 6780)\n",
    "s.connect(server_address)\n",
    "\n",
    "msg = ''\n",
    "\n",
    "while(msg != 'EXIT'):\n",
    "    print('Introduzca el mensaje a enviar: ')\n",
    "    msg = input()\n",
    "    \n",
    "    s.sendall(msg.encode())\n",
    "    data = s.recv(1024).decode()\n",
    "    print('RX: ', data)\n",
    "    \n",
    "s.close()"
   ]
  }
 ],
 "metadata": {
  "kernelspec": {
   "display_name": "Python 3 (ipykernel)",
   "language": "python",
   "name": "python3"
  },
  "language_info": {
   "codemirror_mode": {
    "name": "ipython",
    "version": 3
   },
   "file_extension": ".py",
   "mimetype": "text/x-python",
   "name": "python",
   "nbconvert_exporter": "python",
   "pygments_lexer": "ipython3",
   "version": "3.9.7"
  }
 },
 "nbformat": 4,
 "nbformat_minor": 5
}
