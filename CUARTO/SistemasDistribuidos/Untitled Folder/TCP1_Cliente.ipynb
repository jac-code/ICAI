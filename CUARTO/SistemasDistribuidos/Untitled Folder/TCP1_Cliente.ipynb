{
 "cells": [
  {
   "cell_type": "markdown",
   "id": "b03f43f3",
   "metadata": {},
   "source": [
    "# CLIENTE TCP"
   ]
  },
  {
   "cell_type": "markdown",
   "id": "10f4634b",
   "metadata": {},
   "source": [
    "PRUEBA"
   ]
  },
  {
   "cell_type": "code",
   "execution_count": 3,
   "id": "7969f6cf",
   "metadata": {},
   "outputs": [
    {
     "name": "stdout",
     "output_type": "stream",
     "text": [
      "RX:  HOLA CLIENTE\n"
     ]
    }
   ],
   "source": [
    "import socket \n",
    "import sys\n",
    "\n",
    "s = socket.socket(socket.AF_INET, socket.SOCK_STREAM)\n",
    "server_address = (\"localhost\", 6780)\n",
    "s.connect(server_address)\n",
    "s.sendall('HOLA SERVIDOR'.encode())\n",
    "data = s.recv(1024).decode()\n",
    "print('RX: ',data)\n",
    "s.close()"
   ]
  },
  {
   "cell_type": "markdown",
   "id": "c38e8633",
   "metadata": {},
   "source": [
    "APARTADO 1.1"
   ]
  },
  {
   "cell_type": "markdown",
   "id": "c2c0a49b",
   "metadata": {},
   "source": [
    "CLIENTE 1"
   ]
  },
  {
   "cell_type": "code",
   "execution_count": null,
   "id": "ae49805b",
   "metadata": {},
   "outputs": [],
   "source": [
    "import socket \n",
    "import sys\n",
    "\n",
    "s = socket.socket(socket.AF_INET, socket.SOCK_STREAM)\n",
    "server_address = (\"localhost\", 6780)\n",
    "s.connect(server_address)\n",
    "\n",
    "msg = ''\n",
    "\n",
    "while(msg != 'EXIT'):\n",
    "    print('Introduzca el mensaje a enviar: ')\n",
    "    msg = input()\n",
    "    \n",
    "    s.sendall(msg.encode())\n",
    "    \n",
    "    if msg != 'EXIT':\n",
    "        data = s.recv(1024).decode()\n",
    "        print('RX: ', data)\n",
    "    \n",
    "data = s.recv(1024).decode()\n",
    "print(data)\n",
    "s.close()"
   ]
  },
  {
   "cell_type": "markdown",
   "id": "ca6fb8a0",
   "metadata": {},
   "source": [
    "CLIENTE 2"
   ]
  },
  {
   "cell_type": "code",
   "execution_count": null,
   "id": "ae001084",
   "metadata": {},
   "outputs": [
    {
     "name": "stdout",
     "output_type": "stream",
     "text": [
      "Introduzca el mensaje a enviar: \n",
      "hola2\n",
      "RX:  HOLA CLIENTE\n",
      "Introduzca el mensaje a enviar: \n",
      "jjk\n",
      "RX:  HOLA CLIENTE\n",
      "Introduzca el mensaje a enviar: \n"
     ]
    }
   ],
   "source": [
    "import socket \n",
    "import sys\n",
    "\n",
    "s = socket.socket(socket.AF_INET, socket.SOCK_STREAM)\n",
    "server_address = (\"localhost\", 6780)\n",
    "s.connect(server_address)\n",
    "\n",
    "msg = ''\n",
    "\n",
    "while(msg != 'EXIT'):\n",
    "    print('Introduzca el mensaje a enviar: ')\n",
    "    msg = input()\n",
    "    \n",
    "    s.sendall(msg.encode())\n",
    "    \n",
    "    if msg != 'EXIT':\n",
    "        data = s.recv(1024).decode()\n",
    "        print('RX: ', data)\n",
    "    \n",
    "data = s.recv(1024).decode()\n",
    "print(data)\n",
    "s.close()"
   ]
  },
  {
   "cell_type": "markdown",
   "id": "af74c009",
   "metadata": {},
   "source": [
    "APARTADO 1.2"
   ]
  },
  {
   "cell_type": "code",
   "execution_count": null,
   "id": "ea8e094b",
   "metadata": {},
   "outputs": [],
   "source": []
  }
 ],
 "metadata": {
  "kernelspec": {
   "display_name": "Python 3 (ipykernel)",
   "language": "python",
   "name": "python3"
  },
  "language_info": {
   "codemirror_mode": {
    "name": "ipython",
    "version": 3
   },
   "file_extension": ".py",
   "mimetype": "text/x-python",
   "name": "python",
   "nbconvert_exporter": "python",
   "pygments_lexer": "ipython3",
   "version": "3.9.7"
  }
 },
 "nbformat": 4,
 "nbformat_minor": 5
}
