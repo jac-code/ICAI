{
 "cells": [
  {
   "cell_type": "markdown",
   "id": "3632d942",
   "metadata": {},
   "source": [
    "# PRÁCTICA 1 - UDP"
   ]
  },
  {
   "cell_type": "markdown",
   "id": "0d891c9f",
   "metadata": {},
   "source": [
    "# CLIENTE PRUEBA"
   ]
  },
  {
   "cell_type": "code",
   "execution_count": 15,
   "id": "b1f9fedf",
   "metadata": {},
   "outputs": [
    {
     "ename": "ConnectionResetError",
     "evalue": "[WinError 10054] Se ha forzado la interrupción de una conexión existente por el host remoto",
     "output_type": "error",
     "traceback": [
      "\u001b[1;31m---------------------------------------------------------------------------\u001b[0m",
      "\u001b[1;31mConnectionResetError\u001b[0m                      Traceback (most recent call last)",
      "\u001b[1;32m~\\AppData\\Local\\Temp/ipykernel_13040/4178385741.py\u001b[0m in \u001b[0;36m<module>\u001b[1;34m\u001b[0m\n\u001b[0;32m      9\u001b[0m \u001b[0msocket\u001b[0m\u001b[1;33m.\u001b[0m\u001b[0msend\u001b[0m\u001b[1;33m(\u001b[0m\u001b[0mbytes_tx\u001b[0m\u001b[1;33m)\u001b[0m\u001b[1;33m\u001b[0m\u001b[1;33m\u001b[0m\u001b[0m\n\u001b[0;32m     10\u001b[0m \u001b[1;33m\u001b[0m\u001b[0m\n\u001b[1;32m---> 11\u001b[1;33m \u001b[0mbytes_rx\u001b[0m \u001b[1;33m=\u001b[0m \u001b[0msocket\u001b[0m\u001b[1;33m.\u001b[0m\u001b[0mrecvfrom\u001b[0m\u001b[1;33m(\u001b[0m\u001b[1;36m1024\u001b[0m\u001b[1;33m)\u001b[0m\u001b[1;33m\u001b[0m\u001b[1;33m\u001b[0m\u001b[0m\n\u001b[0m\u001b[0;32m     12\u001b[0m \u001b[0mprint\u001b[0m\u001b[1;33m(\u001b[0m\u001b[1;34m\"RX: \"\u001b[0m\u001b[1;33m,\u001b[0m \u001b[0mbytes_rx\u001b[0m\u001b[1;33m)\u001b[0m\u001b[1;33m\u001b[0m\u001b[1;33m\u001b[0m\u001b[0m\n\u001b[0;32m     13\u001b[0m \u001b[0msocket\u001b[0m\u001b[1;33m.\u001b[0m\u001b[0mclose\u001b[0m\u001b[1;33m(\u001b[0m\u001b[1;33m)\u001b[0m\u001b[1;33m\u001b[0m\u001b[1;33m\u001b[0m\u001b[0m\n",
      "\u001b[1;31mConnectionResetError\u001b[0m: [WinError 10054] Se ha forzado la interrupción de una conexión existente por el host remoto"
     ]
    }
   ],
   "source": [
    "import socket\n",
    "\n",
    "msg = 'Hello Server, I am Client 1'\n",
    "bytes_tx = str.encode(msg)\n",
    "\n",
    "server_address = (\"127.0.0.1\", 6780)\n",
    "socket = socket.socket(family=socket.AF_INET, type=socket.SOCK_DGRAM)\n",
    "socket.send(bytes_tx, server_address)\n",
    "\n",
    "bytes_rx = socket.recvfrom(1024)\n",
    "print(\"RX: \", bytes_rx)\n",
    "socket.close()"
   ]
  },
  {
   "cell_type": "markdown",
   "id": "2621edc3",
   "metadata": {},
   "source": [
    "CLIENTE 1 - 1.1"
   ]
  },
  {
   "cell_type": "code",
   "execution_count": 1,
   "id": "d8fa6520",
   "metadata": {},
   "outputs": [
    {
     "name": "stdout",
     "output_type": "stream",
     "text": [
      "RX:  (b'Hello Client', ('127.0.0.1', 6780))\n"
     ]
    }
   ],
   "source": [
    "import socket\n",
    "\n",
    "msg = 'Hello Server, I am Client 1'\n",
    "bytes_tx = str.encode(msg)\n",
    "\n",
    "server_address = (\"127.0.0.1\", 6780)\n",
    "s = socket.socket(family=socket.AF_INET, type=socket.SOCK_DGRAM)\n",
    "s.sendto(bytes_tx, server_address)\n",
    "\n",
    "bytes_rx = s.recvfrom(1024)\n",
    "print(\"RX: \", bytes_rx)\n",
    "s.close()"
   ]
  },
  {
   "cell_type": "markdown",
   "id": "250b9f7b",
   "metadata": {},
   "source": [
    "CLIENTE 2 - 1.1"
   ]
  },
  {
   "cell_type": "code",
   "execution_count": null,
   "id": "82540d81",
   "metadata": {},
   "outputs": [],
   "source": [
    "import socket\n",
    "\n",
    "msg = 'Hello Server, I am Client 2'\n",
    "bytes_tx = str.encode(msg)\n",
    "\n",
    "server_address = (\"127.0.0.1\", 6780)\n",
    "s = socket.socket(family=socket.AF_INET, type=socket.SOCK_DGRAM)\n",
    "s.sendto(bytes_tx, server_address)\n",
    "\n",
    "bytes_rx = s.recvfrom(1024)\n",
    "print(\"RX: \", bytes_rx[0].decode())\n",
    "s.close()"
   ]
  },
  {
   "cell_type": "markdown",
   "id": "af0a865a",
   "metadata": {},
   "source": [
    "APARTADO 2"
   ]
  },
  {
   "cell_type": "code",
   "execution_count": 1,
   "id": "0a952e7a",
   "metadata": {},
   "outputs": [
    {
     "name": "stdout",
     "output_type": "stream",
     "text": [
      "RX:  ['Hello Client']\n"
     ]
    }
   ],
   "source": [
    "import socket\n",
    "import pickle\n",
    "\n",
    "msg = 'Hello Server, I am Client 1'\n",
    "bytes_tx = str.encode(msg)\n",
    "bytes_tx = pickle.dumps([msg])\n",
    "\n",
    "server_address = (\"127.0.0.1\", 6780)\n",
    "s = socket.socket(family=socket.AF_INET, type=socket.SOCK_DGRAM)\n",
    "s.sendto(bytes_tx, server_address)\n",
    "\n",
    "bytes_rx = s.recvfrom(1024)\n",
    "msg = pickle.loads(bytes_rx[0])\n",
    "print(\"RX: \", str(msg))\n",
    "s.close()"
   ]
  },
  {
   "cell_type": "code",
   "execution_count": 2,
   "id": "4abbc08a",
   "metadata": {},
   "outputs": [
    {
     "name": "stdout",
     "output_type": "stream",
     "text": [
      "RX:  ['Hello Client']\n"
     ]
    }
   ],
   "source": [
    "import socket\n",
    "import pickle\n",
    "\n",
    "msg = 'Hello Server, I am Client 2'\n",
    "bytes_tx = str.encode(msg)\n",
    "bytes_tx = pickle.dumps([msg])\n",
    "\n",
    "server_address = (\"127.0.0.1\", 6780)\n",
    "s = socket.socket(family=socket.AF_INET, type=socket.SOCK_DGRAM)\n",
    "s.sendto(bytes_tx, server_address)\n",
    "\n",
    "bytes_rx = s.recvfrom(1024)\n",
    "msg = pickle.loads(bytes_rx[0])\n",
    "print(\"RX: \", str(msg))\n",
    "s.close()"
   ]
  },
  {
   "cell_type": "markdown",
   "id": "a59c946e",
   "metadata": {},
   "source": [
    "CLIENTE 1 - 1.3"
   ]
  },
  {
   "cell_type": "code",
   "execution_count": 2,
   "id": "ac832976",
   "metadata": {},
   "outputs": [
    {
     "name": "stdout",
     "output_type": "stream",
     "text": [
      "Introduzca el mensaje a enviar: \n",
      "holaaaaa\n",
      "Message sent successfuly\n",
      "Hello Client\n",
      "8\n",
      "Message received from server: ('127.0.0.1', 6780)\n"
     ]
    }
   ],
   "source": [
    "import pickle\n",
    "import socket\n",
    "\n",
    "id_cliente = 1\n",
    "print('Introduzca el mensaje a enviar: ')\n",
    "msg = input()\n",
    "\n",
    "server_address = (\"127.0.0.1\", 6780)\n",
    "bytes_tx = pickle.dumps((msg, id_cliente))\n",
    "\n",
    "s = socket.socket(family=socket.AF_INET, type=socket.SOCK_DGRAM)\n",
    "s.sendto(bytes_tx, server_address)\n",
    "print('Message sent successfuly')\n",
    "\n",
    "bytes_rx = s.recvfrom(1024)\n",
    "msg_recibido = pickle.loads(bytes_rx[0])\n",
    "print(msg_recibido[0])\n",
    "print(msg_recibido[1])\n",
    "print('Message received from server: ' + str(server_address))\n",
    "\n",
    "s.close()"
   ]
  },
  {
   "cell_type": "code",
   "execution_count": 4,
   "id": "c32c7399",
   "metadata": {},
   "outputs": [
    {
     "name": "stdout",
     "output_type": "stream",
     "text": [
      "Introduzca el mensaje a enviar: \n",
      "EXIT\n",
      "Message sent successfuly\n",
      "Mensaje recibido: Cerrando conexion...\n",
      "Message received from server: ('127.0.0.1', 6780)\n"
     ]
    }
   ],
   "source": [
    "import pickle\n",
    "import socket\n",
    "\n",
    "id_cliente = 2\n",
    "print('Introduzca el mensaje a enviar: ')\n",
    "msg = input()\n",
    "\n",
    "server_address = (\"127.0.0.1\", 6780)\n",
    "bytes_tx = pickle.dumps((msg, id_cliente))\n",
    "\n",
    "s = socket.socket(family=socket.AF_INET, type=socket.SOCK_DGRAM)\n",
    "s.sendto(bytes_tx, server_address)\n",
    "print('Message sent successfuly')\n",
    "\n",
    "bytes_rx = s.recvfrom(1024)\n",
    "msg_recibido = pickle.loads(bytes_rx[0])\n",
    "print('Mensaje recibido: '+str(msg_recibido))\n",
    "print('Message received from server: ' + str(bytes_rx[1]))\n",
    "\n",
    "s.close()"
   ]
  },
  {
   "cell_type": "markdown",
   "id": "eb9d8743",
   "metadata": {},
   "source": [
    "CLIENTE 1.4"
   ]
  },
  {
   "cell_type": "code",
   "execution_count": 4,
   "id": "ae064109",
   "metadata": {},
   "outputs": [
    {
     "name": "stdout",
     "output_type": "stream",
     "text": [
      "Introduzca el mensaje a enviar: hola\n"
     ]
    },
    {
     "ename": "ConnectionResetError",
     "evalue": "[WinError 10054] Se ha forzado la interrupción de una conexión existente por el host remoto",
     "output_type": "error",
     "traceback": [
      "\u001b[1;31m---------------------------------------------------------------------------\u001b[0m",
      "\u001b[1;31mConnectionResetError\u001b[0m                      Traceback (most recent call last)",
      "\u001b[1;32m<ipython-input-4-cda37387c0df>\u001b[0m in \u001b[0;36m<module>\u001b[1;34m\u001b[0m\n\u001b[0;32m     26\u001b[0m                 \u001b[1;32mbreak\u001b[0m\u001b[1;33m\u001b[0m\u001b[1;33m\u001b[0m\u001b[0m\n\u001b[0;32m     27\u001b[0m \u001b[1;33m\u001b[0m\u001b[0m\n\u001b[1;32m---> 28\u001b[1;33m         \u001b[0mbytes_rx\u001b[0m \u001b[1;33m=\u001b[0m \u001b[0ms\u001b[0m\u001b[1;33m.\u001b[0m\u001b[0mrecvfrom\u001b[0m\u001b[1;33m(\u001b[0m\u001b[1;36m1024\u001b[0m\u001b[1;33m)\u001b[0m\u001b[1;33m\u001b[0m\u001b[1;33m\u001b[0m\u001b[0m\n\u001b[0m\u001b[0;32m     29\u001b[0m         \u001b[0mmsg_recibido\u001b[0m \u001b[1;33m=\u001b[0m \u001b[0mpickle\u001b[0m\u001b[1;33m.\u001b[0m\u001b[0mloads\u001b[0m\u001b[1;33m(\u001b[0m\u001b[0mbytes_rx\u001b[0m\u001b[1;33m[\u001b[0m\u001b[1;36m0\u001b[0m\u001b[1;33m]\u001b[0m\u001b[1;33m)\u001b[0m\u001b[1;33m\u001b[0m\u001b[1;33m\u001b[0m\u001b[0m\n\u001b[0;32m     30\u001b[0m         \u001b[0mprint\u001b[0m\u001b[1;33m(\u001b[0m\u001b[1;34m'El mensaje del servidor es: '\u001b[0m\u001b[1;33m+\u001b[0m\u001b[0mmsg_recibido\u001b[0m\u001b[1;33m[\u001b[0m\u001b[1;36m0\u001b[0m\u001b[1;33m]\u001b[0m\u001b[1;33m)\u001b[0m\u001b[1;33m\u001b[0m\u001b[1;33m\u001b[0m\u001b[0m\n",
      "\u001b[1;31mConnectionResetError\u001b[0m: [WinError 10054] Se ha forzado la interrupción de una conexión existente por el host remoto"
     ]
    }
   ],
   "source": [
    "import time\n",
    "import pickle\n",
    "import socket\n",
    "\n",
    "id_cliente = 1\n",
    "\n",
    "msg = ''\n",
    "while(msg != 'EXIT'):\n",
    "    cont = 0\n",
    "    msg = input('Introduzca el mensaje a enviar: ')\n",
    "\n",
    "    server_address = (\"127.0.0.1\", 6780)\n",
    "    bytes_tx = pickle.dumps((msg, id_cliente))\n",
    "\n",
    "    s = socket.socket(family=socket.AF_INET, type=socket.SOCK_DGRAM)\n",
    "\n",
    "    while cont < 5:\n",
    "        try:\n",
    "            s.sendto(bytes_tx,server_address)\n",
    "        except:\n",
    "            cont = cont + 1\n",
    "            print('Esperando...')\n",
    "            time.sleep(1)\n",
    "            if cont == 5:    \n",
    "                print('Conexión cerrada')\n",
    "                break\n",
    "        try:\n",
    "            bytes_rx = s.recvfrom(1024)\n",
    "            msg_recibido = pickle.loads(bytes_rx[0])\n",
    "            print('El mensaje del servidor es: '+msg_recibido[0])\n",
    "            print('La longitud del mensaje es: '+str(msg_recibido[1]))\n",
    "            print('Message received from server: ' + str(server_address))\n",
    "        \n",
    "s.close()"
   ]
  },
  {
   "cell_type": "code",
   "execution_count": null,
   "id": "5c09a12a",
   "metadata": {},
   "outputs": [],
   "source": []
  }
 ],
 "metadata": {
  "kernelspec": {
   "display_name": "Python 3",
   "language": "python",
   "name": "python3"
  },
  "language_info": {
   "codemirror_mode": {
    "name": "ipython",
    "version": 3
   },
   "file_extension": ".py",
   "mimetype": "text/x-python",
   "name": "python",
   "nbconvert_exporter": "python",
   "pygments_lexer": "ipython3",
   "version": "3.8.8"
  }
 },
 "nbformat": 4,
 "nbformat_minor": 5
}
