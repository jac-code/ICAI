{
 "cells": [
  {
   "cell_type": "markdown",
   "id": "661a2802",
   "metadata": {},
   "source": [
    "# PRÁCTICA 1 - UDP"
   ]
  },
  {
   "cell_type": "markdown",
   "id": "b50cf76e",
   "metadata": {},
   "source": [
    "SERVIDOR PRUEBA"
   ]
  },
  {
   "cell_type": "code",
   "execution_count": 8,
   "id": "095f79cd",
   "metadata": {},
   "outputs": [
    {
     "name": "stdout",
     "output_type": "stream",
     "text": [
      "b'Hello, world'\n"
     ]
    },
    {
     "data": {
      "text/plain": [
       "12"
      ]
     },
     "execution_count": 8,
     "metadata": {},
     "output_type": "execute_result"
    }
   ],
   "source": [
    "import socket\n",
    "\n",
    "msg = \"Hello Client\"\n",
    "bytes_tx = str.encode(msg)\n",
    "\n",
    "socket = socket.socket(family=socket.AF_INET, type=socket.SOCK_DGRAM)\n",
    "socket.bind((\"127.0.0.1\",6780))\n",
    "\n",
    "bytes_rx = socket.recvfrom(1024)\n",
    "message = bytes_rx[0]\n",
    "address = bytes_rx[1]\n",
    "print(message)\n",
    "socket.sendto(bytes_tx, address)"
   ]
  },
  {
   "cell_type": "markdown",
   "id": "d580d05a",
   "metadata": {},
   "source": [
    "# SERVIDOR 1.1"
   ]
  },
  {
   "cell_type": "code",
   "execution_count": 3,
   "id": "9b02b85a",
   "metadata": {},
   "outputs": [
    {
     "name": "stdout",
     "output_type": "stream",
     "text": [
      "b'Hello Server, I am Client 2'\n"
     ]
    },
    {
     "data": {
      "text/plain": [
       "12"
      ]
     },
     "execution_count": 3,
     "metadata": {},
     "output_type": "execute_result"
    }
   ],
   "source": [
    "import socket\n",
    "\n",
    "msg = \"Hello Client\"\n",
    "bytes_tx = str.encode(msg)\n",
    "\n",
    "s = socket.socket(family=socket.AF_INET, type=socket.SOCK_DGRAM)\n",
    "s.bind((\"127.0.0.1\",6780))\n",
    "\n",
    "bytes_rx = s.recvfrom(1024)\n",
    "message = bytes_rx[0]\n",
    "address = bytes_rx[1]\n",
    "print(message)\n",
    "s.sendto(bytes_tx, address)"
   ]
  },
  {
   "cell_type": "markdown",
   "id": "6f322677",
   "metadata": {},
   "source": [
    "APARTADO 1.2"
   ]
  },
  {
   "cell_type": "code",
   "execution_count": null,
   "id": "514b3ab9",
   "metadata": {},
   "outputs": [
    {
     "name": "stdout",
     "output_type": "stream",
     "text": [
      "Introduzca el número del puerto (6780 en clientes): \n",
      "6780\n",
      "6780\n",
      "Mensaje del cliente: ['Hello Server, I am Client 1']\n",
      "Direccion cliente 127.0.0.1, 62984\n",
      "Mensaje del cliente: ['Hello Server, I am Client 2']\n",
      "Direccion cliente 127.0.0.1, 58650\n"
     ]
    }
   ],
   "source": [
    "import pickle\n",
    "import socket\n",
    "\n",
    "msg_servidor = \"Hello Client\"\n",
    "\n",
    "s = socket.socket(family=socket.AF_INET, type=socket.SOCK_DGRAM)\n",
    "\n",
    "puerto = 0\n",
    "\n",
    "while(puerto == 0):\n",
    "    try:\n",
    "        print(\"Introduzca el número del puerto (6780 en clientes): \")\n",
    "        puerto = int(input())\n",
    "        print(puerto)\n",
    "    except:\n",
    "        print('El puerto debe ser un numero')\n",
    "        \n",
    "server_address = (\"127.0.0.1\", puerto)\n",
    "s.bind(server_address)\n",
    "\n",
    "while True:\n",
    "    bytes_rx = s.recvfrom(1024)\n",
    "    \n",
    "    msg = pickle.loads(bytes_rx[0])\n",
    "    print('Mensaje del cliente: ' + str(msg))\n",
    "    print('Direccion cliente ' + str(bytes_rx[1][0]) +', '+ str(bytes_rx[1][1]))\n",
    "    \n",
    "    bytes_tx = pickle.dumps([msg_servidor])\n",
    "    s.sendto(bytes_tx,bytes_rx[1])\n",
    "    "
   ]
  },
  {
   "cell_type": "code",
   "execution_count": null,
   "id": "626fced2",
   "metadata": {},
   "outputs": [],
   "source": []
  },
  {
   "cell_type": "raw",
   "id": "8d332284",
   "metadata": {},
   "source": [
    "SERVER 1.3"
   ]
  },
  {
   "cell_type": "code",
   "execution_count": 13,
   "id": "56f35850",
   "metadata": {},
   "outputs": [
    {
     "name": "stdout",
     "output_type": "stream",
     "text": [
      "Introduzca el número del puerto (6780 en clientes): \n",
      "6780\n",
      "6780\n"
     ]
    }
   ],
   "source": [
    "import pickle\n",
    "import socket\n",
    "\n",
    "msg_servidor = \"Hello Client\"\n",
    "\n",
    "s = socket.socket(family=socket.AF_INET, type=socket.SOCK_DGRAM)\n",
    "\n",
    "puerto = 0\n",
    "\n",
    "while(puerto == 0):\n",
    "    try:\n",
    "        print(\"Introduzca el número del puerto (6780 en clientes): \")\n",
    "        puerto = int(input())\n",
    "        print(puerto)\n",
    "    except:\n",
    "        print('El puerto debe ser un numero')\n",
    "        \n",
    "server_address = (\"127.0.0.1\", puerto)\n",
    "s.bind(server_address)\n",
    "\n",
    "while True:\n",
    "    bytes_rx = s.recvfrom(1024)\n",
    "    data = pickle.loads(bytes_rx[0])\n",
    "    mensaje = str(data[0])\n",
    "    if mensaje == 'EXIT':\n",
    "        msg_servidor = \"Cerrando conexion...\"\n",
    "        break\n",
    "    id_cliente = str(data[1])\n",
    "    print('Mensaje del cliente: '+id_cliente+'es: '+mensaje)\n",
    "    print('Direccion del cliente: '+str(bytes_rx[1]))\n",
    "    \n",
    "    bytes_tx = pickle.dumps([msg_servidor, len(mensaje)])\n",
    "    s.sendto(bytes_tx,bytes_rx[1])\n",
    "    \n",
    "bytes_tx = pickle.dumps(msg_servidor)\n",
    "s.sendto(bytes_tx,bytes_rx[1])\n",
    "s.close()\n"
   ]
  },
  {
   "cell_type": "markdown",
   "id": "b63093a0",
   "metadata": {},
   "source": [
    "SERVER 1.4"
   ]
  },
  {
   "cell_type": "code",
   "execution_count": 11,
   "id": "9202d663",
   "metadata": {},
   "outputs": [
    {
     "name": "stdout",
     "output_type": "stream",
     "text": [
      "Introduzca el número del puerto (6780 en clientes): \n",
      "6780\n",
      "6780\n",
      "Mensaje del cliente:  1 recibido: \n",
      "holaaa\n",
      "Dirección del cliente: ('127.0.0.1', 62760)\n",
      "Longitud del mensaje: 6\n",
      "Conexión finalizada\n"
     ]
    }
   ],
   "source": [
    "import pickle\n",
    "import socket\n",
    "\n",
    "msg_servidor = \"Hello Client\"\n",
    "\n",
    "s = socket.socket(family=socket.AF_INET, type=socket.SOCK_DGRAM)\n",
    "\n",
    "puerto = 0\n",
    "\n",
    "while(puerto == 0):\n",
    "    try:\n",
    "        print(\"Introduzca el número del puerto (6780 en clientes): \")\n",
    "        puerto = int(input())\n",
    "        print(puerto)\n",
    "    except:\n",
    "        print('El puerto debe ser un numero')\n",
    "        \n",
    "server_address = (\"127.0.0.1\", puerto)\n",
    "s.bind(server_address)\n",
    "\n",
    "while True:\n",
    "    bytes_rx = s.recvfrom(1024)\n",
    "    data = pickle.loads(bytes_rx[0])\n",
    "    mensaje = str(data[0])\n",
    "    id_cliente = str(data[1])\n",
    "    \n",
    "    if mensaje != 'EXIT':\n",
    "        print('Mensaje del cliente:  ' + id_cliente + ' recibido: ')\n",
    "        print(mensaje)\n",
    "        print('Dirección del cliente: ' + str(bytes_rx[1]))\n",
    "        print('Longitud del mensaje: ' + str(len(mensaje)))\n",
    "        \n",
    "        bytes_tx = pickle.dumps([msg_servidor, len(mensaje)])\n",
    "        s.sendto(bytes_tx,bytes_rx[1])\n",
    "    else:\n",
    "        msg_finalizar = 'Conexion finalizada'\n",
    "        bytes_tx = pickle.dumps([msg_finalizar,len(mensaje)])\n",
    "        print('Conexión finalizada')\n",
    "        s.sendto(bytes_tx,bytes_rx[1])\n",
    "        break\n",
    "    \n",
    "s.close()"
   ]
  },
  {
   "cell_type": "code",
   "execution_count": null,
   "id": "889905e7",
   "metadata": {},
   "outputs": [],
   "source": []
  }
 ],
 "metadata": {
  "kernelspec": {
   "display_name": "Python 3 (ipykernel)",
   "language": "python",
   "name": "python3"
  },
  "language_info": {
   "codemirror_mode": {
    "name": "ipython",
    "version": 3
   },
   "file_extension": ".py",
   "mimetype": "text/x-python",
   "name": "python",
   "nbconvert_exporter": "python",
   "pygments_lexer": "ipython3",
   "version": "3.9.7"
  }
 },
 "nbformat": 4,
 "nbformat_minor": 5
}
