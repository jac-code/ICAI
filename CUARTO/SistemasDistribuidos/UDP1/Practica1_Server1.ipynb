{
 "cells": [
  {
   "cell_type": "markdown",
   "id": "661a2802",
   "metadata": {},
   "source": [
    "# PRÁCTICA 1 - UDP"
   ]
  },
  {
   "cell_type": "markdown",
   "id": "b50cf76e",
   "metadata": {},
   "source": [
    "SERVIDOR PRUEBA"
   ]
  },
  {
   "cell_type": "code",
   "execution_count": 8,
   "id": "095f79cd",
   "metadata": {},
   "outputs": [
    {
     "name": "stdout",
     "output_type": "stream",
     "text": [
      "b'Hello, world'\n"
     ]
    },
    {
     "data": {
      "text/plain": [
       "12"
      ]
     },
     "execution_count": 8,
     "metadata": {},
     "output_type": "execute_result"
    }
   ],
   "source": [
    "import socket\n",
    "\n",
    "msg = \"Hello Client\"\n",
    "bytes_tx = str.encode(msg)\n",
    "\n",
    "socket = socket.socket(family=socket.AF_INET, type=socket.SOCK_DGRAM)\n",
    "socket.bind((\"127.0.0.1\",6780))\n",
    "\n",
    "bytes_rx = socket.recvfrom(1024)\n",
    "message = bytes_rx[0]\n",
    "address = bytes_rx[1]\n",
    "print(message)\n",
    "socket.sendto(bytes_tx, address)"
   ]
  },
  {
   "cell_type": "markdown",
   "id": "d580d05a",
   "metadata": {},
   "source": [
    "# SERVIDOR 1.1"
   ]
  },
  {
   "cell_type": "code",
   "execution_count": 3,
   "id": "9b02b85a",
   "metadata": {},
   "outputs": [
    {
     "name": "stdout",
     "output_type": "stream",
     "text": [
      "b'Hello Server, I am Client 2'\n"
     ]
    },
    {
     "data": {
      "text/plain": [
       "12"
      ]
     },
     "execution_count": 3,
     "metadata": {},
     "output_type": "execute_result"
    }
   ],
   "source": [
    "import socket\n",
    "\n",
    "msg = \"Hello Client\"\n",
    "bytes_tx = str.encode(msg)\n",
    "\n",
    "s = socket.socket(family=socket.AF_INET, type=socket.SOCK_DGRAM)\n",
    "s.bind((\"127.0.0.1\",6780))\n",
    "\n",
    "bytes_rx = s.recvfrom(1024)\n",
    "message = bytes_rx[0]\n",
    "address = bytes_rx[1]\n",
    "print(message)\n",
    "s.sendto(bytes_tx, address)"
   ]
  },
  {
   "cell_type": "markdown",
   "id": "6f322677",
   "metadata": {},
   "source": [
    "APARTADO 1.2"
   ]
  },
  {
   "cell_type": "code",
   "execution_count": null,
   "id": "514b3ab9",
   "metadata": {},
   "outputs": [],
   "source": [
    "import pickle\n",
    "import socket\n",
    "\n",
    "msg_servidor = \"Hello Client\"\n",
    "\n",
    "s = socket.socket(family=socket.AF_INET, type=socket.SOCK_DGRAM)\n",
    "\n",
    "puerto = 0\n",
    "\n",
    "while(puerto == 0):\n",
    "    try:\n",
    "        print(\"Introduzca el número del puerto (6780 en clientes): \")\n",
    "        puerto = int(input())\n",
    "        print(puerto)\n",
    "    except:\n",
    "        print('El puerto debe ser un numero')\n",
    "\n",
    "s.bind((\"127.0.0.1\", puerto))\n",
    "\n",
    "while True:\n",
    "    bytes_rx = s.recvfrom(1024)\n",
    "    print(str(bytes_rx))\n",
    "    print(str(bytes_rx(0)))\n",
    "    print(str(bytes_rx[0]))\n",
    "    \n",
    "    msg = pickle.loads(bytes_rx[0])\n",
    "    direccion_cliente = pickle.loads(bytes_rx[1])\n",
    "    print('Mensaje del cliente: ' + msg)\n",
    "    print('Dirección del cliente: ' + direccion_cliente)\n",
    "    \n",
    "    bytes_tx = pickle.dumps([msg_servidor])\n",
    "    conn.sendto(bytes_tx)\n",
    "    conn.close()\n",
    "    "
   ]
  },
  {
   "cell_type": "code",
   "execution_count": null,
   "id": "626fced2",
   "metadata": {},
   "outputs": [],
   "source": []
  },
  {
   "cell_type": "raw",
   "id": "8d332284",
   "metadata": {},
   "source": [
    "SERVER 1.3"
   ]
  },
  {
   "cell_type": "code",
   "execution_count": null,
   "id": "56f35850",
   "metadata": {},
   "outputs": [],
   "source": [
    "import pickle\n",
    "from socket import *\n",
    "\n",
    "msg_servidor = \"Hello Client\"\n",
    "\n",
    "s = socket(AF_INET, SOCK_STREAM)\n",
    "puerto = 0\n",
    "\n",
    "while(puerto == 0):\n",
    "    try:\n",
    "        print(\"Introduzca el número del puerto (6780 en clientes): \")\n",
    "        puerto = int(input())\n",
    "        print(puerto)\n",
    "    except:\n",
    "        print('El puerto debe ser un numero')\n",
    "\n",
    "s.bind((\"127.0.0.1\", puerto))\n",
    "s.listen(1)\n",
    "while True:\n",
    "    (conn, addr) = s.accept()\n",
    "    data = conn.recv(1024)\n",
    "    msg = pickle.loads(data)\n",
    "    print('Mensaje del cliente ' + str(msg[1]) + ' recibido: ')\n",
    "    print(msg[0])\n",
    "    print('Dirección del cliente: ' + str(addr))\n",
    "    print('Longitud del mensaje: ')\n",
    "    print(len(msg[0]))\n",
    "    \n",
    "    bytes_tx = pickle.dumps([msg_servidor, len(msg[0])])\n",
    "    conn.send(bytes_tx)\n",
    "    conn.close()\n"
   ]
  },
  {
   "cell_type": "markdown",
   "id": "b63093a0",
   "metadata": {},
   "source": [
    "SERVIER 1.4"
   ]
  },
  {
   "cell_type": "code",
   "execution_count": null,
   "id": "9202d663",
   "metadata": {},
   "outputs": [
    {
     "name": "stdout",
     "output_type": "stream",
     "text": [
      "Introduzca el número del puerto (6780 en clientes): \n",
      "6780\n",
      "6780\n",
      "Mensaje del cliente 1 recibido: \n",
      "hola\n",
      "Dirección del cliente: ('127.0.0.1', 28360)\n",
      "Longitud del mensaje: \n",
      "4\n",
      "Mensaje del cliente 1 recibido: \n",
      "holaaaa\n",
      "Dirección del cliente: ('127.0.0.1', 28362)\n",
      "Longitud del mensaje: \n",
      "7\n",
      "Mensaje del cliente 1 recibido: \n",
      "hola 1\n",
      "Dirección del cliente: ('127.0.0.1', 28383)\n",
      "Longitud del mensaje: \n",
      "6\n",
      "Mensaje del cliente 1 recibido: \n",
      "hola1\n",
      "Dirección del cliente: ('127.0.0.1', 28388)\n",
      "Longitud del mensaje: \n",
      "5\n",
      "Mensaje del cliente 1 recibido: \n",
      "hola3\n",
      "Dirección del cliente: ('127.0.0.1', 28389)\n",
      "Longitud del mensaje: \n",
      "5\n"
     ]
    }
   ],
   "source": [
    "import pickle\n",
    "from socket import *\n",
    "\n",
    "msg_servidor = \"Hello Client\"\n",
    "\n",
    "s = socket(AF_INET, SOCK_STREAM)\n",
    "puerto = 0\n",
    "\n",
    "while(puerto == 0):\n",
    "    try:\n",
    "        print(\"Introduzca el número del puerto (6780 en clientes): \")\n",
    "        puerto = int(input())\n",
    "        print(puerto)\n",
    "    except:\n",
    "        print('El puerto debe ser un numero')\n",
    "\n",
    "s.bind((\"127.0.0.1\", puerto))\n",
    "s.listen(1)\n",
    "while True:\n",
    "    (conn, addr) = s.accept()\n",
    "    data = conn.recv(1024)\n",
    "    msg = pickle.loads(data)\n",
    "    if msg[0] != 'EXIT':\n",
    "        print('Mensaje del cliente ' + str(msg[1]) + ' recibido: ')\n",
    "        print(msg[0])\n",
    "        print('Dirección del cliente: ' + str(addr))\n",
    "        print('Longitud del mensaje: ')\n",
    "        print(len(msg[0]))\n",
    "        \n",
    "        bytes_tx = pickle.dumps([msg_servidor, len(msg[0])])\n",
    "        conn.send(bytes_tx)\n",
    "    else:\n",
    "        msg_finalizar = 'Conexión finalizada'\n",
    "        bytes_tx = pickle.dumps([msg_finalizar, len(msg[0])])\n",
    "        print('Conexión finalizada')\n",
    "        conn.send(bytes_tx)\n",
    "        break\n",
    "    \n",
    "conn.close()"
   ]
  },
  {
   "cell_type": "code",
   "execution_count": null,
   "id": "889905e7",
   "metadata": {},
   "outputs": [],
   "source": []
  }
 ],
 "metadata": {
  "kernelspec": {
   "display_name": "Python 3 (ipykernel)",
   "language": "python",
   "name": "python3"
  },
  "language_info": {
   "codemirror_mode": {
    "name": "ipython",
    "version": 3
   },
   "file_extension": ".py",
   "mimetype": "text/x-python",
   "name": "python",
   "nbconvert_exporter": "python",
   "pygments_lexer": "ipython3",
   "version": "3.9.7"
  }
 },
 "nbformat": 4,
 "nbformat_minor": 5
}
