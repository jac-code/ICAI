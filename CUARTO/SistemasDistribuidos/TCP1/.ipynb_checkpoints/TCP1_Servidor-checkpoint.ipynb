{
 "cells": [
  {
   "cell_type": "markdown",
   "id": "8f3c98c0",
   "metadata": {},
   "source": [
    "# SERVIDOR TCP"
   ]
  },
  {
   "cell_type": "markdown",
   "id": "ba719adc",
   "metadata": {},
   "source": [
    "PRUEBA"
   ]
  },
  {
   "cell_type": "code",
   "execution_count": 1,
   "id": "38bf0522",
   "metadata": {},
   "outputs": [
    {
     "name": "stdout",
     "output_type": "stream",
     "text": [
      "RX:  HOLA\n"
     ]
    }
   ],
   "source": [
    "import socket \n",
    "import sys\n",
    "\n",
    "s = socket.socket(socket.AF_INET, socket.SOCK_STREAM)\n",
    "server_address = (\"localhost\", 6780)\n",
    "s.bind(server_address)\n",
    "s.listen(1)\n",
    "\n",
    "conn, address = s.accept()\n",
    "data = conn.recv(1024).decode()\n",
    "print('RX: ',data)\n",
    "\n",
    "conn.sendall('HOLA CLIENTE'.encode())\n",
    "conn.close()"
   ]
  },
  {
   "cell_type": "markdown",
   "id": "e584fd26",
   "metadata": {},
   "source": [
    "APARTADO 1.1"
   ]
  },
  {
   "cell_type": "code",
   "execution_count": 3,
   "id": "563afcac",
   "metadata": {},
   "outputs": [
    {
     "ename": "OSError",
     "evalue": "[WinError 10048] Solo se permite un uso de cada dirección de socket (protocolo/dirección de red/puerto)",
     "output_type": "error",
     "traceback": [
      "\u001b[1;31m---------------------------------------------------------------------------\u001b[0m",
      "\u001b[1;31mOSError\u001b[0m                                   Traceback (most recent call last)",
      "\u001b[1;32m~\\AppData\\Local\\Temp/ipykernel_10372/4146909876.py\u001b[0m in \u001b[0;36m<module>\u001b[1;34m\u001b[0m\n\u001b[0;32m      4\u001b[0m \u001b[0ms\u001b[0m \u001b[1;33m=\u001b[0m \u001b[0msocket\u001b[0m\u001b[1;33m.\u001b[0m\u001b[0msocket\u001b[0m\u001b[1;33m(\u001b[0m\u001b[0msocket\u001b[0m\u001b[1;33m.\u001b[0m\u001b[0mAF_INET\u001b[0m\u001b[1;33m,\u001b[0m \u001b[0msocket\u001b[0m\u001b[1;33m.\u001b[0m\u001b[0mSOCK_STREAM\u001b[0m\u001b[1;33m)\u001b[0m\u001b[1;33m\u001b[0m\u001b[1;33m\u001b[0m\u001b[0m\n\u001b[0;32m      5\u001b[0m \u001b[0mserver_address\u001b[0m \u001b[1;33m=\u001b[0m \u001b[1;33m(\u001b[0m\u001b[1;34m\"localhost\"\u001b[0m\u001b[1;33m,\u001b[0m \u001b[1;36m6780\u001b[0m\u001b[1;33m)\u001b[0m\u001b[1;33m\u001b[0m\u001b[1;33m\u001b[0m\u001b[0m\n\u001b[1;32m----> 6\u001b[1;33m \u001b[0ms\u001b[0m\u001b[1;33m.\u001b[0m\u001b[0mbind\u001b[0m\u001b[1;33m(\u001b[0m\u001b[0mserver_address\u001b[0m\u001b[1;33m)\u001b[0m\u001b[1;33m\u001b[0m\u001b[1;33m\u001b[0m\u001b[0m\n\u001b[0m\u001b[0;32m      7\u001b[0m \u001b[0ms\u001b[0m\u001b[1;33m.\u001b[0m\u001b[0mlisten\u001b[0m\u001b[1;33m(\u001b[0m\u001b[1;36m1\u001b[0m\u001b[1;33m)\u001b[0m\u001b[1;33m\u001b[0m\u001b[1;33m\u001b[0m\u001b[0m\n\u001b[0;32m      8\u001b[0m \u001b[1;33m\u001b[0m\u001b[0m\n",
      "\u001b[1;31mOSError\u001b[0m: [WinError 10048] Solo se permite un uso de cada dirección de socket (protocolo/dirección de red/puerto)"
     ]
    }
   ],
   "source": [
    "import socket \n",
    "import sys\n",
    "\n",
    "s = socket.socket(socket.AF_INET, socket.SOCK_STREAM)\n",
    "server_address = (\"localhost\", 6780)\n",
    "s.bind(server_address)\n",
    "s.listen(1)\n",
    "\n",
    "msg = ''\n",
    "while str(msg)!='EXIT':\n",
    "    conn, address = s.accept()\n",
    "    print('Esperando a una conexión...')\n",
    "    data = conn.recv(1024).decode()\n",
    "    print('RX: ', data)\n",
    "    msg = data\n",
    "    if msg != 'EXIT':\n",
    "        conn.sendall('HOLA CLIENTE'.encode())\n",
    "\n",
    "    \n",
    "conn.sendall('BYE'.encode())\n",
    "print('Conexión cerrrada')\n",
    "conn.close()"
   ]
  },
  {
   "cell_type": "markdown",
   "id": "a03dfd40",
   "metadata": {},
   "source": [
    "APARTADO 1.2"
   ]
  },
  {
   "cell_type": "code",
   "execution_count": 2,
   "id": "f3a514f1",
   "metadata": {},
   "outputs": [
    {
     "name": "stdout",
     "output_type": "stream",
     "text": [
      "Esperando a una conexión...\n",
      "RX:  iajsodjasodjasiodjsa\n",
      "RX:  iodjasiojsdiojsadoij\n",
      "RX:  sdiojsaidojasiodjsao\n",
      "RX:  idjaiodjasiodjsaidjs\n",
      "RX:  aij\n",
      "Todos los paquetes han sido recibidos\n",
      "Esperando a una conexión...\n",
      "RX:  asd\n",
      "Todos los paquetes han sido recibidos\n",
      "Esperando a una conexión...\n",
      "RX:  EXIT\n",
      "Conexión cerrada\n"
     ]
    }
   ],
   "source": [
    "import socket \n",
    "import sys\n",
    "\n",
    "s = socket.socket(socket.AF_INET, socket.SOCK_STREAM)\n",
    "server_address = \"localhost\", 6780\n",
    "s.bind(server_address)\n",
    "s.listen(1)\n",
    "\n",
    "msg = ''\n",
    "while str(msg)!='EXIT':\n",
    "    conn, address = s.accept()\n",
    "    print('Esperando a una conexión...')\n",
    "    \n",
    "    opcion = True\n",
    "    while opcion == True:\n",
    "        data = conn.recv(20).decode()\n",
    "        if len(data) == 20:\n",
    "            print('RX: ', data)\n",
    "        else:\n",
    "            print('RX: ', data)\n",
    "            msg = data\n",
    "            opcion = False\n",
    "    \n",
    "    if msg != 'EXIT':\n",
    "        conn.sendall('Hola cliente, tus mensajes han sido recibidos con éxito.'.encode())\n",
    "        print('Todos los paquetes han sido recibidos')\n",
    "    \n",
    "conn.sendall('BYE'.encode())\n",
    "print('Conexión cerrada')\n",
    "conn.close()"
   ]
  }
 ],
 "metadata": {
  "kernelspec": {
   "display_name": "Python 3 (ipykernel)",
   "language": "python",
   "name": "python3"
  },
  "language_info": {
   "codemirror_mode": {
    "name": "ipython",
    "version": 3
   },
   "file_extension": ".py",
   "mimetype": "text/x-python",
   "name": "python",
   "nbconvert_exporter": "python",
   "pygments_lexer": "ipython3",
   "version": "3.9.7"
  }
 },
 "nbformat": 4,
 "nbformat_minor": 5
}
