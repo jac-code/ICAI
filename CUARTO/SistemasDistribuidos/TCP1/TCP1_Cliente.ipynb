{
 "cells": [
  {
   "cell_type": "markdown",
   "id": "47da8d1b",
   "metadata": {},
   "source": [
    "# CLIENTE TCP"
   ]
  },
  {
   "cell_type": "markdown",
   "id": "0aa5d4e2",
   "metadata": {},
   "source": [
    "PRUEBA"
   ]
  },
  {
   "cell_type": "code",
   "execution_count": 3,
   "id": "86251ef9",
   "metadata": {},
   "outputs": [
    {
     "name": "stdout",
     "output_type": "stream",
     "text": [
      "RX:  HOLA CLIENTE\n"
     ]
    }
   ],
   "source": [
    "import socket \n",
    "import sys\n",
    "\n",
    "s = socket.socket(socket.AF_INET, socket.SOCK_STREAM)\n",
    "server_address = (\"localhost\", 6780)\n",
    "s.connect(server_address)\n",
    "s.sendall('HOLA SERVIDOR'.encode())\n",
    "data = s.recv(1024).decode()\n",
    "print('RX: ',data)\n",
    "s.close()"
   ]
  },
  {
   "cell_type": "markdown",
   "id": "3c070825",
   "metadata": {},
   "source": [
    "APARTADO 1.1"
   ]
  },
  {
   "cell_type": "markdown",
   "id": "c5a53f4e",
   "metadata": {},
   "source": [
    "CLIENTE 1"
   ]
  },
  {
   "cell_type": "code",
   "execution_count": 1,
   "id": "8fd3bddd",
   "metadata": {},
   "outputs": [
    {
     "name": "stdout",
     "output_type": "stream",
     "text": [
      "Introduzca el mensaje a enviar: \n",
      "holaaaa\n",
      "RX:  HOLA CLIENTE\n",
      "Introduzca el mensaje a enviar: \n",
      "EXIT\n"
     ]
    },
    {
     "ename": "ConnectionResetError",
     "evalue": "[WinError 10054] Se ha forzado la interrupción de una conexión existente por el host remoto",
     "output_type": "error",
     "traceback": [
      "\u001b[1;31m---------------------------------------------------------------------------\u001b[0m",
      "\u001b[1;31mConnectionResetError\u001b[0m                      Traceback (most recent call last)",
      "\u001b[1;32m~\\AppData\\Local\\Temp/ipykernel_18784/258165153.py\u001b[0m in \u001b[0;36m<module>\u001b[1;34m\u001b[0m\n\u001b[0;32m     18\u001b[0m         \u001b[0mprint\u001b[0m\u001b[1;33m(\u001b[0m\u001b[1;34m'RX: '\u001b[0m\u001b[1;33m,\u001b[0m \u001b[0mdata\u001b[0m\u001b[1;33m)\u001b[0m\u001b[1;33m\u001b[0m\u001b[1;33m\u001b[0m\u001b[0m\n\u001b[0;32m     19\u001b[0m \u001b[1;33m\u001b[0m\u001b[0m\n\u001b[1;32m---> 20\u001b[1;33m \u001b[0mdata\u001b[0m \u001b[1;33m=\u001b[0m \u001b[0ms\u001b[0m\u001b[1;33m.\u001b[0m\u001b[0mrecv\u001b[0m\u001b[1;33m(\u001b[0m\u001b[1;36m1024\u001b[0m\u001b[1;33m)\u001b[0m\u001b[1;33m.\u001b[0m\u001b[0mdecode\u001b[0m\u001b[1;33m(\u001b[0m\u001b[1;33m)\u001b[0m\u001b[1;33m\u001b[0m\u001b[1;33m\u001b[0m\u001b[0m\n\u001b[0m\u001b[0;32m     21\u001b[0m \u001b[0mprint\u001b[0m\u001b[1;33m(\u001b[0m\u001b[0mdata\u001b[0m\u001b[1;33m)\u001b[0m\u001b[1;33m\u001b[0m\u001b[1;33m\u001b[0m\u001b[0m\n\u001b[0;32m     22\u001b[0m \u001b[0ms\u001b[0m\u001b[1;33m.\u001b[0m\u001b[0mclose\u001b[0m\u001b[1;33m(\u001b[0m\u001b[1;33m)\u001b[0m\u001b[1;33m\u001b[0m\u001b[1;33m\u001b[0m\u001b[0m\n",
      "\u001b[1;31mConnectionResetError\u001b[0m: [WinError 10054] Se ha forzado la interrupción de una conexión existente por el host remoto"
     ]
    }
   ],
   "source": [
    "import socket \n",
    "import sys\n",
    "\n",
    "s = socket.socket(socket.AF_INET, socket.SOCK_STREAM)\n",
    "server_address = (\"localhost\", 6780)\n",
    "s.connect(server_address)\n",
    "\n",
    "msg = ''\n",
    "\n",
    "while(msg != 'EXIT'):\n",
    "    print('Introduzca el mensaje a enviar: ')\n",
    "    msg = input()\n",
    "    \n",
    "    s.sendall(msg.encode())\n",
    "    \n",
    "    if msg != 'EXIT':\n",
    "        data = s.recv(1024).decode()\n",
    "        print('RX: ', data)\n",
    "    \n",
    "data = s.recv(1024).decode()\n",
    "print(data)\n",
    "s.close()"
   ]
  },
  {
   "cell_type": "markdown",
   "id": "9543c0ad",
   "metadata": {},
   "source": [
    "APARTADO 1.2"
   ]
  },
  {
   "cell_type": "code",
   "execution_count": 2,
   "id": "83151beb",
   "metadata": {},
   "outputs": [
    {
     "name": "stdout",
     "output_type": "stream",
     "text": [
      "Introduzca el mensaje a enviar: \n",
      "holaaaaaa\n",
      "RX:  Hola cliente, tus mensajes han sido recibidos con éxito.\n",
      "Introduzca el mensaje a enviar: \n",
      "njcnxjcknxzc\n",
      "RX:  Hola cliente, tus mensajes han sido recibidos con éxito.\n",
      "Introduzca el mensaje a enviar: \n",
      "xcijic\n",
      "RX:  Hola cliente, tus mensajes han sido recibidos con éxito.\n",
      "Introduzca el mensaje a enviar: \n",
      "EXIT\n",
      "BYE\n"
     ]
    }
   ],
   "source": [
    "import socket \n",
    "import sys\n",
    "\n",
    "msg = ''\n",
    "\n",
    "while(msg != 'EXIT'):\n",
    "    s = socket.socket(socket.AF_INET, socket.SOCK_STREAM)\n",
    "    server_address = (\"localhost\", 6780)\n",
    "    s.connect(server_address)\n",
    "    print('Introduzca el mensaje a enviar: ')\n",
    "    msg = input()\n",
    "    \n",
    "    s.sendall(msg.encode())\n",
    "    \n",
    "    if msg != 'EXIT':\n",
    "        data = s.recv(1024).decode()\n",
    "        print('RX: ', data)\n",
    "    \n",
    "data = s.recv(1024).decode()\n",
    "print(data)\n",
    "s.close()"
   ]
  },
  {
   "cell_type": "markdown",
   "id": "1204d4bc",
   "metadata": {},
   "source": [
    "APARTADO 3"
   ]
  },
  {
   "cell_type": "code",
   "execution_count": null,
   "id": "72bda16c",
   "metadata": {},
   "outputs": [],
   "source": [
    "import pickle\n",
    "import time\n",
    "from datetime import date\n",
    "from datetime import datetime\n",
    "from socket import *\n",
    "\n",
    "id_cliente = 1\n",
    "msg = 'Hola Servidor'\n",
    "server_address = (\"127.0.0.1\", 6780)\n",
    "bytes_tx = pickle.dumps([msg, id_cliente])\n",
    "\n",
    "s = socket(AF_INET, SOCK_STREAM)\n",
    "\n",
    "print('Iniciando la cuenta...')\n",
    "\n",
    "tiempo_final = datetime.now()\n",
    "tiempo_total = datetime.now()\n",
    "\n",
    "for x in range(1000):\n",
    "    print(x)\n",
    "    server_address = (\"127.0.0.1\", 6780)\n",
    "    bytes_tx = pickle.dumps([msg, id_cliente])\n",
    "\n",
    "    s = socket(AF_INET, SOCK_STREAM)\n",
    "    s.connect(server_address)\n",
    "    s.send(bytes_tx)\n",
    "    \n",
    "    bytes_rx = s.recvfrom(1024)\n",
    "    msg_recibido = pickle.loads(bytes_rx[0])\n",
    "    print(msg_recibido[0])\n",
    "    \n",
    "    now = datetime.now()\n",
    "    print(now)\n",
    "    current_time = now.strftime(\"%H:%M:%S\")\n",
    "    \n",
    "    if x == 0:\n",
    "        tiempo_inicial = now\n",
    "    if x == 999:\n",
    "        tiempo_final = now\n",
    "    #s.close()\n",
    "\n",
    "tiempo_total = tiempo_final - tiempo_inicial\n",
    "\n",
    "print('Hora inicial: ' + str(tiempo_inicial))\n",
    "print('Hora final: ' + str(tiempo_final))\n",
    "print('Tiempo total: ' + str(tiempo_total))\n",
    "print('Tiempo medio: ' + str(tiempo_total/1000))\n",
    "\n",
    "s.close()"
   ]
  }
 ],
 "metadata": {
  "kernelspec": {
   "display_name": "Python 3 (ipykernel)",
   "language": "python",
   "name": "python3"
  },
  "language_info": {
   "codemirror_mode": {
    "name": "ipython",
    "version": 3
   },
   "file_extension": ".py",
   "mimetype": "text/x-python",
   "name": "python",
   "nbconvert_exporter": "python",
   "pygments_lexer": "ipython3",
   "version": "3.9.7"
  }
 },
 "nbformat": 4,
 "nbformat_minor": 5
}
