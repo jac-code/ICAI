{
 "cells": [
  {
   "cell_type": "markdown",
   "id": "47da8d1b",
   "metadata": {},
   "source": [
    "# CLIENTE TCP"
   ]
  },
  {
   "cell_type": "markdown",
   "id": "0aa5d4e2",
   "metadata": {},
   "source": [
    "PRUEBA"
   ]
  },
  {
   "cell_type": "code",
   "execution_count": 3,
   "id": "86251ef9",
   "metadata": {},
   "outputs": [
    {
     "name": "stdout",
     "output_type": "stream",
     "text": [
      "RX:  HOLA CLIENTE\n"
     ]
    }
   ],
   "source": [
    "import socket \n",
    "import sys\n",
    "\n",
    "s = socket.socket(socket.AF_INET, socket.SOCK_STREAM)\n",
    "server_address = (\"localhost\", 6780)\n",
    "s.connect(server_address)\n",
    "s.sendall('HOLA SERVIDOR'.encode())\n",
    "data = s.recv(1024).decode()\n",
    "print('RX: ',data)\n",
    "s.close()"
   ]
  },
  {
   "cell_type": "markdown",
   "id": "3c070825",
   "metadata": {},
   "source": [
    "APARTADO 1.1"
   ]
  },
  {
   "cell_type": "markdown",
   "id": "c5a53f4e",
   "metadata": {},
   "source": [
    "CLIENTE 1"
   ]
  },
  {
   "cell_type": "code",
   "execution_count": 8,
   "id": "8fd3bddd",
   "metadata": {},
   "outputs": [
    {
     "name": "stdout",
     "output_type": "stream",
     "text": [
      "Introduzca el mensaje a enviar: \n",
      "hola 1\n",
      "RX:  HOLA CLIENTE\n",
      "Introduzca el mensaje a enviar: \n",
      "EXIT\n"
     ]
    },
    {
     "ename": "ConnectionAbortedError",
     "evalue": "[WinError 10053] Se ha anulado una conexión establecida por el software en su equipo host",
     "output_type": "error",
     "traceback": [
      "\u001b[1;31m---------------------------------------------------------------------------\u001b[0m",
      "\u001b[1;31mConnectionAbortedError\u001b[0m                    Traceback (most recent call last)",
      "\u001b[1;32m~\\AppData\\Local\\Temp/ipykernel_8492/258165153.py\u001b[0m in \u001b[0;36m<module>\u001b[1;34m\u001b[0m\n\u001b[0;32m     18\u001b[0m         \u001b[0mprint\u001b[0m\u001b[1;33m(\u001b[0m\u001b[1;34m'RX: '\u001b[0m\u001b[1;33m,\u001b[0m \u001b[0mdata\u001b[0m\u001b[1;33m)\u001b[0m\u001b[1;33m\u001b[0m\u001b[1;33m\u001b[0m\u001b[0m\n\u001b[0;32m     19\u001b[0m \u001b[1;33m\u001b[0m\u001b[0m\n\u001b[1;32m---> 20\u001b[1;33m \u001b[0mdata\u001b[0m \u001b[1;33m=\u001b[0m \u001b[0ms\u001b[0m\u001b[1;33m.\u001b[0m\u001b[0mrecv\u001b[0m\u001b[1;33m(\u001b[0m\u001b[1;36m1024\u001b[0m\u001b[1;33m)\u001b[0m\u001b[1;33m.\u001b[0m\u001b[0mdecode\u001b[0m\u001b[1;33m(\u001b[0m\u001b[1;33m)\u001b[0m\u001b[1;33m\u001b[0m\u001b[1;33m\u001b[0m\u001b[0m\n\u001b[0m\u001b[0;32m     21\u001b[0m \u001b[0mprint\u001b[0m\u001b[1;33m(\u001b[0m\u001b[0mdata\u001b[0m\u001b[1;33m)\u001b[0m\u001b[1;33m\u001b[0m\u001b[1;33m\u001b[0m\u001b[0m\n\u001b[0;32m     22\u001b[0m \u001b[0ms\u001b[0m\u001b[1;33m.\u001b[0m\u001b[0mclose\u001b[0m\u001b[1;33m(\u001b[0m\u001b[1;33m)\u001b[0m\u001b[1;33m\u001b[0m\u001b[1;33m\u001b[0m\u001b[0m\n",
      "\u001b[1;31mConnectionAbortedError\u001b[0m: [WinError 10053] Se ha anulado una conexión establecida por el software en su equipo host"
     ]
    }
   ],
   "source": [
    "import socket \n",
    "import sys\n",
    "\n",
    "s = socket.socket(socket.AF_INET, socket.SOCK_STREAM)\n",
    "server_address = (\"localhost\", 6780)\n",
    "s.connect(server_address)\n",
    "\n",
    "msg = ''\n",
    "\n",
    "while(msg != 'EXIT'):\n",
    "    print('Introduzca el mensaje a enviar: ')\n",
    "    msg = input()\n",
    "    \n",
    "    s.sendall(msg.encode())\n",
    "    \n",
    "    if msg != 'EXIT':\n",
    "        data = s.recv(1024).decode()\n",
    "        print('RX: ', data)\n",
    "    \n",
    "data = s.recv(1024).decode()\n",
    "print(data)\n",
    "s.close()"
   ]
  },
  {
   "cell_type": "markdown",
   "id": "9543c0ad",
   "metadata": {},
   "source": [
    "APARTADO 1.2"
   ]
  },
  {
   "cell_type": "code",
   "execution_count": 9,
   "id": "83151beb",
   "metadata": {},
   "outputs": [
    {
     "name": "stdout",
     "output_type": "stream",
     "text": [
      "Introduzca el mensaje a enviar: \n",
      "iajsodjasodjasiodjsaiodjasiojsdiojsadoijsdiojsaidojasiodjsaoidjaiodjasiodjsaidjsaij\n",
      "RX:  HOLA CLIENTE\n",
      "Introduzca el mensaje a enviar: \n",
      "asd\n",
      "RX:  HOLA CLIENTE\n",
      "Introduzca el mensaje a enviar: \n",
      "EXIT\n",
      "BYE\n"
     ]
    }
   ],
   "source": [
    "import socket \n",
    "import sys\n",
    "\n",
    "msg = ''\n",
    "\n",
    "while(msg != 'EXIT'):\n",
    "    s = socket.socket(socket.AF_INET, socket.SOCK_STREAM)\n",
    "    server_address = (\"localhost\", 6780)\n",
    "    s.connect(server_address)\n",
    "    print('Introduzca el mensaje a enviar: ')\n",
    "    msg = input()\n",
    "    \n",
    "    s.sendall(msg.encode())\n",
    "    \n",
    "    if msg != 'EXIT':\n",
    "        data = s.recv(1024).decode()\n",
    "        print('RX: ', data)\n",
    "    \n",
    "data = s.recv(1024).decode()\n",
    "print(data)\n",
    "s.close()"
   ]
  }
 ],
 "metadata": {
  "kernelspec": {
   "display_name": "Python 3",
   "language": "python",
   "name": "python3"
  },
  "language_info": {
   "codemirror_mode": {
    "name": "ipython",
    "version": 3
   },
   "file_extension": ".py",
   "mimetype": "text/x-python",
   "name": "python",
   "nbconvert_exporter": "python",
   "pygments_lexer": "ipython3",
   "version": "3.8.8"
  }
 },
 "nbformat": 4,
 "nbformat_minor": 5
}
