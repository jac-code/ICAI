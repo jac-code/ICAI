{
 "cells": [
  {
   "cell_type": "markdown",
   "id": "8f3c98c0",
   "metadata": {},
   "source": [
    "# SERVIDOR TCP"
   ]
  },
  {
   "cell_type": "markdown",
   "id": "ba719adc",
   "metadata": {},
   "source": [
    "PRUEBA"
   ]
  },
  {
   "cell_type": "code",
   "execution_count": 1,
   "id": "38bf0522",
   "metadata": {},
   "outputs": [
    {
     "name": "stdout",
     "output_type": "stream",
     "text": [
      "RX:  HOLA\n"
     ]
    }
   ],
   "source": [
    "import socket \n",
    "import sys\n",
    "\n",
    "s = socket.socket(socket.AF_INET, socket.SOCK_STREAM)\n",
    "server_address = (\"localhost\", 6780)\n",
    "s.bind(server_address)\n",
    "s.listen(1)\n",
    "\n",
    "conn, address = s.accept()\n",
    "data = conn.recv(1024).decode()\n",
    "print('RX: ',data)\n",
    "\n",
    "conn.sendall('HOLA CLIENTE'.encode())\n",
    "conn.close()"
   ]
  },
  {
   "cell_type": "markdown",
   "id": "e584fd26",
   "metadata": {},
   "source": [
    "APARTADO 1.1"
   ]
  },
  {
   "cell_type": "code",
   "execution_count": null,
   "id": "563afcac",
   "metadata": {},
   "outputs": [],
   "source": [
    "import socket \n",
    "import sys\n",
    "\n",
    "s = socket.socket(socket.AF_INET, socket.SOCK_STREAM)\n",
    "server_address = (\"localhost\", 6780)\n",
    "s.bind(server_address)\n",
    "s.listen(1)\n",
    "\n",
    "msg = ''\n",
    "while str(msg)!='EXIT':\n",
    "    conn, address = s.accept()\n",
    "    print('Esperando a una conexión...')\n",
    "    data = conn.recv(1024).decode()\n",
    "    print('RX: ', data)\n",
    "    msg = data\n",
    "    if msg != 'EXIT':\n",
    "        conn.sendall('HOLA CLIENTE'.encode())\n",
    "\n",
    "    \n",
    "conn.sendall('BYE'.encode())\n",
    "print('Conexión cerrrada')\n",
    "conn.close()"
   ]
  },
  {
   "cell_type": "markdown",
   "id": "a03dfd40",
   "metadata": {},
   "source": [
    "APARTADO 1.2"
   ]
  },
  {
   "cell_type": "code",
   "execution_count": 2,
   "id": "f3a514f1",
   "metadata": {},
   "outputs": [
    {
     "name": "stdout",
     "output_type": "stream",
     "text": [
      "Esperando a una conexión...\n",
      "RX:  iajsodjasodjasiodjsa\n",
      "RX:  iodjasiojsdiojsadoij\n",
      "RX:  sdiojsaidojasiodjsao\n",
      "RX:  idjaiodjasiodjsaidjs\n",
      "RX:  aij\n",
      "Todos los paquetes han sido recibidos\n",
      "Esperando a una conexión...\n",
      "RX:  asd\n",
      "Todos los paquetes han sido recibidos\n",
      "Esperando a una conexión...\n",
      "RX:  EXIT\n",
      "Conexión cerrada\n"
     ]
    }
   ],
   "source": [
    "import socket \n",
    "import sys\n",
    "\n",
    "s = socket.socket(socket.AF_INET, socket.SOCK_STREAM)\n",
    "server_address = \"localhost\", 6780\n",
    "s.bind(server_address)\n",
    "s.listen(1)\n",
    "\n",
    "msg = ''\n",
    "while str(msg)!='EXIT':\n",
    "    conn, address = s.accept()\n",
    "    print('Esperando a una conexión...')\n",
    "    \n",
    "    opcion = True\n",
    "    while opcion == True:\n",
    "        data = conn.recv(20).decode()\n",
    "        if len(data) == 20:\n",
    "            print('RX: ', data)\n",
    "        else:\n",
    "            print('RX: ', data)\n",
    "            msg = data\n",
    "            opcion = False\n",
    "    \n",
    "    if msg != 'EXIT':\n",
    "        conn.sendall('Hola cliente, tus mensajes han sido recibidos con éxito.'.encode())\n",
    "        print('Todos los paquetes han sido recibidos')\n",
    "    \n",
    "conn.sendall('BYE'.encode())\n",
    "print('Conexión cerrada')\n",
    "conn.close()"
   ]
  }
 ],
 "metadata": {
  "kernelspec": {
   "display_name": "Python 3",
   "language": "python",
   "name": "python3"
  },
  "language_info": {
   "codemirror_mode": {
    "name": "ipython",
    "version": 3
   },
   "file_extension": ".py",
   "mimetype": "text/x-python",
   "name": "python",
   "nbconvert_exporter": "python",
   "pygments_lexer": "ipython3",
   "version": "3.8.8"
  }
 },
 "nbformat": 4,
 "nbformat_minor": 5
}
