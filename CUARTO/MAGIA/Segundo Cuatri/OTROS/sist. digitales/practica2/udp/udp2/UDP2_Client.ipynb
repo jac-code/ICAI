{
 "cells": [
  {
   "cell_type": "markdown",
   "metadata": {},
   "source": [
    "# Ejercicio 1"
   ]
  },
  {
   "cell_type": "markdown",
   "metadata": {},
   "source": [
    "En este ejercicio hacemos uso del settimeout() del socket, que nos permite esperar un tiempo limitado a que \n",
    "se reciba respuesta por parte del servidor, de lo contrario lanza una excepción"
   ]
  },
  {
   "cell_type": "code",
   "execution_count": 6,
   "metadata": {},
   "outputs": [
    {
     "name": "stdout",
     "output_type": "stream",
     "text": [
      "Requesting time from ('localhost', 6789)...\n",
      "Time: 2020-02-23 11:39:43.645542\n"
     ]
    }
   ],
   "source": [
    "import socket\n",
    "\n",
    "socket= socket.socket(family=socket.AF_INET, type=socket.SOCK_DGRAM)\n",
    "ip=\"localhost\"\n",
    "port=6789\n",
    "#client_id=1\n",
    "\n",
    "\n",
    "try:\n",
    "\n",
    "    server_address= (ip,port)\n",
    "    socket.sendto(\"1\".encode(),server_address)\n",
    "    print(\"Requesting time from {}...\".format(server_address))\n",
    "\n",
    "    socket.settimeout(5)\n",
    "    bytes_rx=socket.recvfrom(1024)\n",
    "\n",
    "    #print(\"Message \\\"{}\\\" recieved from server at {}\".format(bytes_rx[0].decode(),bytes_rx[1]))\n",
    "    print(\"Time: \"+ bytes_rx[0].decode())\n",
    "    socket.settimeout(None)\n",
    "\n",
    "\n",
    "except OSError:\n",
    "    print(\"Error, el servidor no esta disponible\")\n",
    "    \n"
   ]
  },
  {
   "cell_type": "markdown",
   "metadata": {},
   "source": [
    "# Ejercicio 2"
   ]
  },
  {
   "cell_type": "code",
   "execution_count": null,
   "metadata": {},
   "outputs": [],
   "source": [
    "En este ejercicio realizamos la diferencia de datetimes obteniendo un timedelta "
   ]
  },
  {
   "cell_type": "code",
   "execution_count": 9,
   "metadata": {},
   "outputs": [
    {
     "name": "stdout",
     "output_type": "stream",
     "text": [
      "Requesting time from ('localhost', 6789)...\n",
      "Time at server: \n",
      "Time difference: 0:00:00.000934\n"
     ]
    }
   ],
   "source": [
    "import socket,pickle,datetime\n",
    "\n",
    "socket= socket.socket(family=socket.AF_INET, type=socket.SOCK_DGRAM)\n",
    "ip=\"localhost\"\n",
    "port=6789\n",
    "#client_id=1\n",
    "\n",
    "\n",
    "try:\n",
    "\n",
    "    server_address= (ip,port)\n",
    "    socket.sendto(\"1\".encode(),server_address)\n",
    "    print(\"Requesting time from {}...\".format(server_address))\n",
    "\n",
    "    socket.settimeout(5)\n",
    "    bytes_rx=socket.recvfrom(1024)\n",
    "\n",
    "    t_server=pickle.loads(bytes_rx[0])\n",
    "    #print(\"Message \\\"{}\\\" recieved from server at {}\".format(bytes_rx[0].decode(),bytes_rx[1]))\n",
    "    print(\"Time at server: \".format(t_server))\n",
    "    print(\"Time difference: {}\".format(datetime.datetime.now()-t_server))\n",
    "    \n",
    "    socket.settimeout(None)\n",
    "\n",
    "\n",
    "except OSError:\n",
    "    print(\"Error, el servidor no esta disponible\")\n",
    "    \n"
   ]
  },
  {
   "cell_type": "markdown",
   "metadata": {},
   "source": [
    "# Ejercicio 3"
   ]
  },
  {
   "cell_type": "markdown",
   "metadata": {},
   "source": [
    "Hacemos 100000 llamadas al servidor pidiendo la hora actual, y hacemos un agregado de los tiempos que se ha esperado, así como la media para ver cómo de rápida es la comunicación UDP. NOTA: No se ha podido realizar con una ip externa para comprobar la sustancial diferencia de tiempos con TCP."
   ]
  },
  {
   "cell_type": "code",
   "execution_count": 13,
   "metadata": {},
   "outputs": [
    {
     "name": "stdout",
     "output_type": "stream",
     "text": [
      "Start 100000 calls\n",
      "Elapsed time: 0:00:06.841161\n",
      "Average difference time: 0:00:00.000068\n"
     ]
    }
   ],
   "source": [
    "import socket,pickle,datetime\n",
    "\n",
    "socket= socket.socket(family=socket.AF_INET, type=socket.SOCK_DGRAM)\n",
    "ip=\"localhost\"\n",
    "port=6789\n",
    "#client_id=1\n",
    "server_address= (ip,port)\n",
    "print(\"Start 100000 calls\")\n",
    "times=list()\n",
    "for x in range(99999):\n",
    "    try:\n",
    "\n",
    "        \n",
    "        socket.sendto(\"1\".encode(),server_address)\n",
    "        \n",
    "        socket.settimeout(5)\n",
    "        bytes_rx=socket.recvfrom(1024)\n",
    "\n",
    "        t_server=pickle.loads(bytes_rx[0])\n",
    "        times.append(datetime.datetime.now()-t_server)\n",
    "\n",
    "        socket.settimeout(None)\n",
    "\n",
    "\n",
    "    except OSError:\n",
    "        print(\"Error, el servidor no esta disponible\")\n",
    "\n",
    "print(\"Elapsed time: {}\".format(sum(times,datetime.timedelta())))\n",
    "print(\"Average difference time: {}\".format(sum(times,datetime.timedelta())/len(times)))"
   ]
  },
  {
   "cell_type": "code",
   "execution_count": null,
   "metadata": {},
   "outputs": [],
   "source": []
  }
 ],
 "metadata": {
  "kernelspec": {
   "display_name": "Python 3",
   "language": "python",
   "name": "python3"
  },
  "language_info": {
   "codemirror_mode": {
    "name": "ipython",
    "version": 3
   },
   "file_extension": ".py",
   "mimetype": "text/x-python",
   "name": "python",
   "nbconvert_exporter": "python",
   "pygments_lexer": "ipython3",
   "version": "3.6.9"
  }
 },
 "nbformat": 4,
 "nbformat_minor": 4
}
