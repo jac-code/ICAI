{
 "cells": [
  {
   "cell_type": "markdown",
   "metadata": {},
   "source": [
    "# Ejercicio 1"
   ]
  },
  {
   "cell_type": "code",
   "execution_count": 2,
   "metadata": {},
   "outputs": [
    {
     "name": "stdout",
     "output_type": "stream",
     "text": [
      "b'Hello Server, I am Client 1'\n",
      "b'Hello Server, I am Client 1'\n",
      "b'Hello Server, I am Client 1'\n"
     ]
    },
    {
     "ename": "KeyboardInterrupt",
     "evalue": "",
     "output_type": "error",
     "traceback": [
      "\u001b[0;31m---------------------------------------------------------------------------\u001b[0m",
      "\u001b[0;31mKeyboardInterrupt\u001b[0m                         Traceback (most recent call last)",
      "\u001b[0;32m<ipython-input-2-3cebb0ea8098>\u001b[0m in \u001b[0;36m<module>\u001b[0;34m\u001b[0m\n\u001b[1;32m      9\u001b[0m \u001b[0;34m\u001b[0m\u001b[0m\n\u001b[1;32m     10\u001b[0m \u001b[0;32mwhile\u001b[0m \u001b[0;32mTrue\u001b[0m\u001b[0;34m:\u001b[0m\u001b[0;34m\u001b[0m\u001b[0;34m\u001b[0m\u001b[0m\n\u001b[0;32m---> 11\u001b[0;31m     \u001b[0mbytes_rx\u001b[0m\u001b[0;34m=\u001b[0m\u001b[0msocket\u001b[0m\u001b[0;34m.\u001b[0m\u001b[0mrecvfrom\u001b[0m\u001b[0;34m(\u001b[0m\u001b[0;36m1024\u001b[0m\u001b[0;34m)\u001b[0m\u001b[0;34m\u001b[0m\u001b[0;34m\u001b[0m\u001b[0m\n\u001b[0m\u001b[1;32m     12\u001b[0m     \u001b[0mmessage\u001b[0m\u001b[0;34m=\u001b[0m\u001b[0mbytes_rx\u001b[0m\u001b[0;34m[\u001b[0m\u001b[0;36m0\u001b[0m\u001b[0;34m]\u001b[0m\u001b[0;34m\u001b[0m\u001b[0;34m\u001b[0m\u001b[0m\n\u001b[1;32m     13\u001b[0m     \u001b[0maddress\u001b[0m\u001b[0;34m=\u001b[0m\u001b[0mbytes_rx\u001b[0m\u001b[0;34m[\u001b[0m\u001b[0;36m1\u001b[0m\u001b[0;34m]\u001b[0m\u001b[0;34m\u001b[0m\u001b[0;34m\u001b[0m\u001b[0m\n",
      "\u001b[0;31mKeyboardInterrupt\u001b[0m: "
     ]
    }
   ],
   "source": [
    "import socket\n",
    "\n",
    "msg= \"Hello Client\"\n",
    "bytes_tx=str.encode(msg)\n",
    "\n",
    "socket= socket.socket(family=socket.AF_INET, type=socket.SOCK_DGRAM)\n",
    "socket.bind((\"127.0.0.1\",6780))\n",
    "\n",
    "\n",
    "while True:\n",
    "    bytes_rx=socket.recvfrom(1024)\n",
    "    message=bytes_rx[0]\n",
    "    address=bytes_rx[1]\n",
    "    print(message.decode())\n",
    "    socket.sendto(bytes_tx,address)\n"
   ]
  },
  {
   "cell_type": "markdown",
   "metadata": {},
   "source": [
    "# Ejercicio 2"
   ]
  },
  {
   "cell_type": "code",
   "execution_count": 5,
   "metadata": {},
   "outputs": [
    {
     "name": "stdout",
     "output_type": "stream",
     "text": [
      "Introduce port number: 6789\n",
      "UDP server up and listening (6789)\n",
      "Message from Client: Hello Server, I am Client 1\n",
      "Client IP address: ('127.0.0.1', 40413)\n",
      "Message from Client: Hello Server, I am Client 1\n",
      "Client IP address: ('127.0.0.1', 36730)\n",
      "Message from Client: Hello Server, I am Client 1\n",
      "Client IP address: ('127.0.0.1', 52165)\n"
     ]
    },
    {
     "ename": "KeyboardInterrupt",
     "evalue": "",
     "output_type": "error",
     "traceback": [
      "\u001b[0;31m---------------------------------------------------------------------------\u001b[0m",
      "\u001b[0;31mKeyboardInterrupt\u001b[0m                         Traceback (most recent call last)",
      "\u001b[0;32m<ipython-input-5-f222f394649a>\u001b[0m in \u001b[0;36m<module>\u001b[0;34m\u001b[0m\n\u001b[1;32m     18\u001b[0m         \u001b[0;32mwhile\u001b[0m \u001b[0;32mTrue\u001b[0m\u001b[0;34m:\u001b[0m\u001b[0;34m\u001b[0m\u001b[0;34m\u001b[0m\u001b[0m\n\u001b[1;32m     19\u001b[0m \u001b[0;34m\u001b[0m\u001b[0m\n\u001b[0;32m---> 20\u001b[0;31m             \u001b[0mbytes_rx\u001b[0m\u001b[0;34m=\u001b[0m\u001b[0msocket\u001b[0m\u001b[0;34m.\u001b[0m\u001b[0mrecvfrom\u001b[0m\u001b[0;34m(\u001b[0m\u001b[0;36m1024\u001b[0m\u001b[0;34m)\u001b[0m\u001b[0;34m\u001b[0m\u001b[0;34m\u001b[0m\u001b[0m\n\u001b[0m\u001b[1;32m     21\u001b[0m             \u001b[0mmessage\u001b[0m\u001b[0;34m=\u001b[0m\u001b[0mbytes_rx\u001b[0m\u001b[0;34m[\u001b[0m\u001b[0;36m0\u001b[0m\u001b[0;34m]\u001b[0m\u001b[0;34m\u001b[0m\u001b[0;34m\u001b[0m\u001b[0m\n\u001b[1;32m     22\u001b[0m             \u001b[0maddress\u001b[0m\u001b[0;34m=\u001b[0m\u001b[0mbytes_rx\u001b[0m\u001b[0;34m[\u001b[0m\u001b[0;36m1\u001b[0m\u001b[0;34m]\u001b[0m\u001b[0;34m\u001b[0m\u001b[0;34m\u001b[0m\u001b[0m\n",
      "\u001b[0;31mKeyboardInterrupt\u001b[0m: "
     ]
    }
   ],
   "source": [
    "import socket\n",
    "\n",
    "error=1\n",
    "while error==1:\n",
    "    try: \n",
    "        port=input(\"Introduce port number: \")\n",
    "        port=int(port)\n",
    "        \n",
    "        msg= \"Hello Client\"\n",
    "        bytes_tx=str.encode(msg)\n",
    "        \n",
    "\n",
    "        socket= socket.socket(family=socket.AF_INET,type=socket.SOCK_DGRAM)\n",
    "        socket.bind((\"127.0.0.1\",port))\n",
    "        \n",
    "        error=0\n",
    "        print(\"UDP server up and listening ({})\".format(port))\n",
    "        while True:\n",
    "           \n",
    "            bytes_rx=socket.recvfrom(1024)\n",
    "            message=bytes_rx[0]\n",
    "            address=bytes_rx[1]\n",
    "            print(\"Message from Client: {}\".format(message.decode()))\n",
    "            print(\"Client IP address: {}\".format(address))\n",
    "            socket.sendto(bytes_tx,address)\n",
    "        \n",
    "    except ValueError:\n",
    "        print(\"The port introduced is not an integer\")\n"
   ]
  },
  {
   "cell_type": "markdown",
   "metadata": {},
   "source": [
    "# Ejercicio 3"
   ]
  },
  {
   "cell_type": "code",
   "execution_count": null,
   "metadata": {},
   "outputs": [
    {
     "name": "stdout",
     "output_type": "stream",
     "text": [
      "Introduce port number: 6789\n",
      "UDP server up and listening (6789)\n",
      "Recieved {} characters from client {} 4\n",
      "Message from Client 1: hola\n",
      "Client IP address: ('127.0.0.1', 36924)\n"
     ]
    }
   ],
   "source": [
    "import socket,pickle\n",
    "\n",
    "error=1\n",
    "while error==1:\n",
    "    try: \n",
    "        port=input(\"Introduce port number: \")\n",
    "        port=int(port)\n",
    "        \n",
    "        msg= \"Hello Client\"\n",
    "        bytes_tx=str.encode(msg)\n",
    "        \n",
    "\n",
    "        socket= socket.socket(family=socket.AF_INET,type=socket.SOCK_DGRAM)\n",
    "        socket.bind((\"127.0.0.1\",port))\n",
    "        \n",
    "        error=0\n",
    "        print(\"UDP server up and listening ({})\".format(port))\n",
    "        while True:\n",
    "           \n",
    "            bytes_rx=socket.recvfrom(1024)\n",
    "            message=pickle.loads(bytes_rx[0])\n",
    "            address=bytes_rx[1]\n",
    "            #print(message)\n",
    "            print(\"Recieved {} characters from client {}\".format(len(message[0]), message[1]))\n",
    "            print(\"Message from Client {}: {}\".format(message[1],message[0]))\n",
    "            print(\"Client IP address: {}\".format(address))\n",
    "            socket.sendto(bytes_tx,address)\n",
    "        \n",
    "    except ValueError:\n",
    "        print(\"The port introduced is not an integer\")\n"
   ]
  },
  {
   "cell_type": "code",
   "execution_count": null,
   "metadata": {},
   "outputs": [],
   "source": []
  }
 ],
 "metadata": {
  "kernelspec": {
   "display_name": "Python 3",
   "language": "python",
   "name": "python3"
  },
  "language_info": {
   "codemirror_mode": {
    "name": "ipython",
    "version": 3
   },
   "file_extension": ".py",
   "mimetype": "text/x-python",
   "name": "python",
   "nbconvert_exporter": "python",
   "pygments_lexer": "ipython3",
   "version": "3.6.9"
  }
 },
 "nbformat": 4,
 "nbformat_minor": 4
}
