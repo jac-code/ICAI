{
 "cells": [
  {
   "cell_type": "markdown",
   "metadata": {},
   "source": [
    "# Copia del UDP1_Client1"
   ]
  },
  {
   "cell_type": "markdown",
   "metadata": {},
   "source": [
    "# Ejercicio 1"
   ]
  },
  {
   "cell_type": "code",
   "execution_count": null,
   "metadata": {},
   "outputs": [],
   "source": [
    "import socket\n",
    "\n",
    "msg= \"Hello Server, I am Client 2\"\n",
    "bytes_tx=str.encode(msg)\n",
    "\n",
    "server_address= (\"127.0.0.1\",6780)\n",
    "socket= socket.socket(family=socket.AF_INET, type=socket.SOCK_DGRAM)\n",
    "socket.sendto(bytes_tx,server_address)\n",
    "\n",
    "bytes_rx=socket.recvfrom(1024)\n",
    "print  bytes_rx\n",
    "socket.close()\n"
   ]
  },
  {
   "cell_type": "markdown",
   "metadata": {},
   "source": [
    "# Ejercicio 2"
   ]
  },
  {
   "cell_type": "code",
   "execution_count": null,
   "metadata": {},
   "outputs": [],
   "source": [
    "import socket\n",
    "\n",
    "\n",
    "while True:\n",
    "    try:\n",
    "        port=input(\"Introduce port number: \")\n",
    "        port=int(port)\n",
    "\n",
    "        msg= \"Hello Server, I am Client 2\"\n",
    "        bytes_tx=str.encode(msg)\n",
    "        server_address= (\"127.0.0.1\",port)\n",
    "\n",
    "        socket= socket.socket(family=socket.AF_INET, type=socket.SOCK_DGRAM)\n",
    "        socket.sendto(bytes_tx,server_address)\n",
    "        print(\"Message sent to {}\".format(server_address))\n",
    "        \n",
    "        bytes_rx=socket.recvfrom(1024)\n",
    "        print(\"Message recieved\")\n",
    "        print(bytes_rx)\n",
    "        socket.close()\n",
    "        break\n",
    "        \n",
    "    except ValueError:\n",
    "        print(\"The port introduced is not an integer\")\n"
   ]
  },
  {
   "cell_type": "markdown",
   "metadata": {},
   "source": [
    "# Ejercicio 3"
   ]
  },
  {
   "cell_type": "code",
   "execution_count": null,
   "metadata": {},
   "outputs": [],
   "source": [
    "import socket,pickle\n",
    "\n",
    "\n",
    "while True:\n",
    "    try:\n",
    "        port=input(\"Introduce port number: \")\n",
    "        port=int(port)\n",
    "        \n",
    "        msg=input(\"Introduce message to send: \")\n",
    "        \n",
    "        \n",
    "        server_address= (\"127.0.0.1\",port)\n",
    "        client_id=2\n",
    "        message=[msg,client_id]\n",
    "        #message=pickle.dumps(message)\n",
    "        #bytes_tx=str.encode(message)\n",
    "\n",
    "        socket= socket.socket(family=socket.AF_INET, type=socket.SOCK_DGRAM)\n",
    "        socket.sendto(pickle.dumps(message),server_address)\n",
    "        print(\"Message sent to {}\".format(server_address))\n",
    "        \n",
    "        bytes_rx=socket.recvfrom(1024)\n",
    "        print(\"Message \\\"{}\\\" recieved from server at {}\".format(bytes_rx[0].decode(),bytes_rx[1]))\n",
    "        #print(bytes_rx[0].decode())\n",
    "        socket.close()\n",
    "        break\n",
    "        \n",
    "    except ValueError:\n",
    "        print(\"The port introduced is not an integer\")\n"
   ]
  },
  {
   "cell_type": "markdown",
   "metadata": {},
   "source": [
    "# Ejercicio 4"
   ]
  },
  {
   "cell_type": "code",
   "execution_count": null,
   "metadata": {},
   "outputs": [],
   "source": []
  }
 ],
 "metadata": {
  "kernelspec": {
   "display_name": "Python 3",
   "language": "python",
   "name": "python3"
  },
  "language_info": {
   "codemirror_mode": {
    "name": "ipython",
    "version": 3
   },
   "file_extension": ".py",
   "mimetype": "text/x-python",
   "name": "python",
   "nbconvert_exporter": "python",
   "pygments_lexer": "ipython3",
   "version": "3.6.9"
  }
 },
 "nbformat": 4,
 "nbformat_minor": 4
}
