{
 "cells": [
  {
   "cell_type": "markdown",
   "metadata": {},
   "source": [
    "# Ejercicio 1"
   ]
  },
  {
   "cell_type": "markdown",
   "metadata": {},
   "source": [
    "Al igual que en UDP, creamos un socket en el servidor y nos conectamos. Cambia fundamentalmente la descripción del socket siendo socket.SOCK_STREAM y teniendo que aceptar el socket con sock.accept(). En este caso también cerramos la conexión si recibimos un mensaje de exit."
   ]
  },
  {
   "cell_type": "code",
   "execution_count": null,
   "metadata": {},
   "outputs": [],
   "source": [
    "import socket,sys\n",
    "\n",
    "sock=socket.socket(socket.AF_INET,socket.SOCK_STREAM)\n",
    "server_address=(\"localhost\",6780)\n",
    "sock.bind(server_address)\n",
    "sock.listen(1)\n",
    "\n",
    "while True:\n",
    "    connection, client_address= sock.accept()\n",
    "    data=connection.recv(1024).decode()\n",
    "    \n",
    "    if data==\"exit\":\n",
    "        print(\"RX: \",data)\n",
    "        connection.sendall(\"Bye Client\".encode())\n",
    "        break\n",
    "    else:\n",
    "        print(\"RX: \",data)\n",
    "        connection.sendall(\"Hi TCP Client\".encode())\n",
    "\n",
    "connection.close()"
   ]
  },
  {
   "cell_type": "markdown",
   "metadata": {},
   "source": [
    "# Ejercicio 2\n",
    "\n",
    "### Usar Clientes de los ejercicios 1 y 2"
   ]
  },
  {
   "cell_type": "markdown",
   "metadata": {},
   "source": [
    "Simulamos una MTU del enlace estableciendo el tamaño máximo del buffer de recepción en 'connection.recv(MTU)"
   ]
  },
  {
   "cell_type": "code",
   "execution_count": null,
   "metadata": {
    "scrolled": true
   },
   "outputs": [],
   "source": [
    "import socket,sys\n",
    "\n",
    "sock=socket.socket(socket.AF_INET,socket.SOCK_STREAM)\n",
    "server_address=(\"localhost\",6782)\n",
    "sock.bind(server_address)\n",
    "sock.listen(1)\n",
    "MTU=20\n",
    "exit=0\n",
    "while exit==0:\n",
    "    print(\"Waiting for connections\")\n",
    "    connection, client_address= sock.accept()\n",
    "    while True:\n",
    "        data=connection.recv(MTU).decode()\n",
    "        if data==\"exit\":\n",
    "                print(\"RX: \",data)\n",
    "                connection.sendall(\"Bye Client\".encode())\n",
    "                print(\"Bye\")\n",
    "                exit=1\n",
    "                break\n",
    "\n",
    "        #while True:\n",
    "        if len(data)==MTU:\n",
    "            print(\"RX: \",data)\n",
    "\n",
    "        else:\n",
    "            print(\"RX: \",data)\n",
    "            connection.sendall(\"Hello Client, this is a long message that you will recieve in chunks of 20 bytes...\".encode())\n",
    "            break\n",
    "\n",
    "connection.close()"
   ]
  },
  {
   "cell_type": "markdown",
   "metadata": {},
   "source": [
    "# Ejercicio 3"
   ]
  },
  {
   "cell_type": "markdown",
   "metadata": {},
   "source": [
    "El ejercicio es idéntico al de UDP con la sintaxis del socket TCP que se ha comentado anteriormente, obtenemos el tiempo y se lo enviamos al cliente."
   ]
  },
  {
   "cell_type": "code",
   "execution_count": 1,
   "metadata": {},
   "outputs": [
    {
     "name": "stdout",
     "output_type": "stream",
     "text": [
      "TCP server is up\n"
     ]
    },
    {
     "ename": "KeyboardInterrupt",
     "evalue": "",
     "output_type": "error",
     "traceback": [
      "\u001b[0;31m---------------------------------------------------------------------------\u001b[0m",
      "\u001b[0;31mKeyboardInterrupt\u001b[0m                         Traceback (most recent call last)",
      "\u001b[0;32m<ipython-input-1-5b0390acd478>\u001b[0m in \u001b[0;36m<module>\u001b[0;34m\u001b[0m\n\u001b[1;32m     11\u001b[0m \u001b[0;32mwhile\u001b[0m \u001b[0;32mTrue\u001b[0m\u001b[0;34m:\u001b[0m\u001b[0;34m\u001b[0m\u001b[0;34m\u001b[0m\u001b[0m\n\u001b[1;32m     12\u001b[0m \u001b[0;34m\u001b[0m\u001b[0m\n\u001b[0;32m---> 13\u001b[0;31m     \u001b[0mdata\u001b[0m\u001b[0;34m=\u001b[0m\u001b[0mconnection\u001b[0m\u001b[0;34m.\u001b[0m\u001b[0mrecv\u001b[0m\u001b[0;34m(\u001b[0m\u001b[0mMTU\u001b[0m\u001b[0;34m)\u001b[0m\u001b[0;34m.\u001b[0m\u001b[0mdecode\u001b[0m\u001b[0;34m(\u001b[0m\u001b[0;34m)\u001b[0m\u001b[0;34m\u001b[0m\u001b[0;34m\u001b[0m\u001b[0m\n\u001b[0m\u001b[1;32m     14\u001b[0m     \u001b[0mconnection\u001b[0m\u001b[0;34m.\u001b[0m\u001b[0msendall\u001b[0m\u001b[0;34m(\u001b[0m\u001b[0mpickle\u001b[0m\u001b[0;34m.\u001b[0m\u001b[0mdumps\u001b[0m\u001b[0;34m(\u001b[0m\u001b[0mdatetime\u001b[0m\u001b[0;34m.\u001b[0m\u001b[0mdatetime\u001b[0m\u001b[0;34m.\u001b[0m\u001b[0mnow\u001b[0m\u001b[0;34m(\u001b[0m\u001b[0;34m)\u001b[0m\u001b[0;34m)\u001b[0m\u001b[0;34m)\u001b[0m\u001b[0;34m\u001b[0m\u001b[0;34m\u001b[0m\u001b[0m\n\u001b[1;32m     15\u001b[0m \u001b[0;34m\u001b[0m\u001b[0m\n",
      "\u001b[0;31mKeyboardInterrupt\u001b[0m: "
     ]
    }
   ],
   "source": [
    "import socket,sys,datetime,pickle\n",
    "\n",
    "sock=socket.socket(socket.AF_INET,socket.SOCK_STREAM)\n",
    "server_address=(\"localhost\",6782)\n",
    "sock.bind(server_address)\n",
    "sock.listen(1)\n",
    "MTU=1024\n",
    "exit=0\n",
    "print(\"TCP server is up\")\n",
    "connection, client_address= sock.accept()\n",
    "while True:\n",
    "    \n",
    "    data=connection.recv(MTU).decode()\n",
    "    connection.sendall(pickle.dumps(datetime.datetime.now()))\n",
    "\n",
    "connection.close()"
   ]
  },
  {
   "cell_type": "code",
   "execution_count": null,
   "metadata": {},
   "outputs": [],
   "source": []
  },
  {
   "cell_type": "code",
   "execution_count": null,
   "metadata": {},
   "outputs": [],
   "source": []
  }
 ],
 "metadata": {
  "kernelspec": {
   "display_name": "Python 3",
   "language": "python",
   "name": "python3"
  },
  "language_info": {
   "codemirror_mode": {
    "name": "ipython",
    "version": 3
   },
   "file_extension": ".py",
   "mimetype": "text/x-python",
   "name": "python",
   "nbconvert_exporter": "python",
   "pygments_lexer": "ipython3",
   "version": "3.6.9"
  }
 },
 "nbformat": 4,
 "nbformat_minor": 4
}
