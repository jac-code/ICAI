{
 "cells": [
  {
   "cell_type": "markdown",
   "metadata": {},
   "source": [
    "# Ejercicio 1"
   ]
  },
  {
   "cell_type": "markdown",
   "metadata": {},
   "source": [
    "Tenemos un socket TCP definido por socket.SOCK_STREAM. El resto de la comunicación es idéntica a UDP como se comenta en el servidor"
   ]
  },
  {
   "cell_type": "code",
   "execution_count": null,
   "metadata": {},
   "outputs": [],
   "source": [
    "import socket,sys\n",
    "\n",
    "sock=socket.socket(socket.AF_INET, socket.SOCK_STREAM)\n",
    "server_address=(\"localhost\",6782)\n",
    "sock.connect(server_address)\n",
    "msg=input(\"Introduce message to send: \")\n",
    "sock.sendall(msg.encode())\n",
    "data=sock.recv(1024).decode()\n",
    "print(\"RX: \",data)\n",
    "sock.close()"
   ]
  },
  {
   "cell_type": "markdown",
   "metadata": {},
   "source": [
    "# Ejercicio 2"
   ]
  },
  {
   "cell_type": "markdown",
   "metadata": {},
   "source": [
    "Ejecicio de simular una MTU de la conexión en la recepción, limitando el buffer de recepción a la MTU"
   ]
  },
  {
   "cell_type": "code",
   "execution_count": null,
   "metadata": {},
   "outputs": [],
   "source": [
    "import socket,sys\n",
    "\n",
    "sock=socket.socket(socket.AF_INET, socket.SOCK_STREAM)\n",
    "server_address=(\"localhost\",6782)\n",
    "sock.connect(server_address)\n",
    "#msg=input(\"Introduce message to send: \")\n",
    "msg=\"Hello Server, this is a long message that you will recieve in chunks of 20 bytes ...\"\n",
    "sock.sendall(msg.encode())\n",
    "\n",
    "MTU=20\n",
    "while True:\n",
    "    print(\"Connecting to server {}\".format(server_address))\n",
    "    data=sock.recv(MTU).decode()\n",
    "    if len(data)==MTU:\n",
    "            print(\"RX: \",data)\n",
    "\n",
    "    else:\n",
    "        print(\"RX: \",data)\n",
    "        sock.close()\n",
    "        print(\"Closing socket\")\n",
    "        break"
   ]
  },
  {
   "cell_type": "markdown",
   "metadata": {},
   "source": [
    "# Ejercicio 3"
   ]
  },
  {
   "cell_type": "markdown",
   "metadata": {},
   "source": [
    "Al igual que en UDP, tenemos que calcular el tiempo medio y el tiempo total de las conexiones. Es ligeramente superior a UDP, pero no se ha podido probar en una IP externa, por lo que la eficiencia temporal de UDP con respecto a TCP no se ha podido demostrar."
   ]
  },
  {
   "cell_type": "code",
   "execution_count": 1,
   "metadata": {},
   "outputs": [
    {
     "name": "stdout",
     "output_type": "stream",
     "text": [
      "Start 100000 calls\n",
      "Elapsed time: 0:00:05.303876\n",
      "Average difference time: 0:00:00.000053\n"
     ]
    }
   ],
   "source": [
    "import socket,pickle,datetime,sys\n",
    "\n",
    "sock=socket.socket(socket.AF_INET, socket.SOCK_STREAM)\n",
    "ip=\"localhost\"\n",
    "port=6782\n",
    "server_address= (ip,port)\n",
    "sock.connect(server_address)\n",
    "print(\"Start 100000 calls\")\n",
    "times=list()\n",
    "MTU=1024\n",
    "for x in range(100000):\n",
    "    try:\n",
    "        sock.sendall(\"1\".encode())\n",
    "        \n",
    "        #sock.settimeout(5)\n",
    "        data=sock.recv(MTU)\n",
    "        t_server=pickle.loads(data)\n",
    "        times.append(datetime.datetime.now()-t_server)\n",
    "\n",
    "        #sock.settimeout(None)\n",
    "\n",
    "        \n",
    "    except OSError:\n",
    "        print(\"Error, el servidor no esta disponible\")\n",
    "\n",
    "print(\"Elapsed time: {}\".format(sum(times,datetime.timedelta())))\n",
    "print(\"Average difference time: {}\".format(sum(times,datetime.timedelta())/len(times)))"
   ]
  },
  {
   "cell_type": "code",
   "execution_count": null,
   "metadata": {},
   "outputs": [],
   "source": []
  },
  {
   "cell_type": "code",
   "execution_count": null,
   "metadata": {},
   "outputs": [],
   "source": []
  },
  {
   "cell_type": "code",
   "execution_count": null,
   "metadata": {},
   "outputs": [],
   "source": []
  }
 ],
 "metadata": {
  "kernelspec": {
   "display_name": "Python 3",
   "language": "python",
   "name": "python3"
  },
  "language_info": {
   "codemirror_mode": {
    "name": "ipython",
    "version": 3
   },
   "file_extension": ".py",
   "mimetype": "text/x-python",
   "name": "python",
   "nbconvert_exporter": "python",
   "pygments_lexer": "ipython3",
   "version": "3.6.9"
  }
 },
 "nbformat": 4,
 "nbformat_minor": 4
}
