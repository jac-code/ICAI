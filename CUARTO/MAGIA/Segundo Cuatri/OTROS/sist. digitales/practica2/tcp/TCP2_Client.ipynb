{
 "cells": [
  {
   "cell_type": "markdown",
   "metadata": {},
   "source": [
    "# Ejercicio 1"
   ]
  },
  {
   "cell_type": "markdown",
   "metadata": {},
   "source": [
    "En este ejercicio se envía una petición al servidor de ver un fichero concreto, en caso de que exista, le envía su contenido. Una vez se tiene el contenido, se abre o se crea un fichero en el lado del cliente y se escribe en él: \n",
    " \n",
    " file= open(\"../client_files/\" + name,\"bw\")\n",
    "        file.write(data)\n",
    "También se cerrará la conexión si se recibe un mensaje de bye"
   ]
  },
  {
   "cell_type": "code",
   "execution_count": null,
   "metadata": {},
   "outputs": [],
   "source": [
    "import socket,sys\n",
    "\n",
    "sock=socket.socket(socket.AF_INET, socket.SOCK_STREAM)\n",
    "server_address=(\"localhost\",6786)\n",
    "sock.connect(server_address)\n",
    "#msg=input(\"Introduce message to send: \")\n",
    "name=\"f1.txt\"\n",
    "msg=\"get \"+ name\n",
    "#msg=\"bye\"\n",
    "sock.sendall(msg.encode())\n",
    "\n",
    "while True:\n",
    "    print(\"Connecting to server {}\".format(server_address))\n",
    "    data=sock.recv(1024)\n",
    "    message=data.decode()\n",
    "    if \"Error\" in message or \"Bye\" in message:\n",
    "        print(data.decode())\n",
    "    else:\n",
    "        file= open(\"../client_files/\" + name,\"bw\")\n",
    "        print(\"Writing file\")\n",
    "        file.write(data)\n",
    "        file.close()\n",
    "        print(\"File successfully written\")\n",
    "        sock.close()\n",
    "    break"
   ]
  },
  {
   "cell_type": "markdown",
   "metadata": {},
   "source": [
    "# Ejercicio 2"
   ]
  },
  {
   "cell_type": "markdown",
   "metadata": {},
   "source": [
    "En este ejericio hay una serie de comandos a utilizar que se han implementado mediante una serie de if elsif. Para bloquear la accesibilidad del fichero, utilizamos un lock como se haría en una hebra, pero eso se verá en el lado del servidor. El proceso de lectura/escritura es idéntico al ejercicio anterior"
   ]
  },
  {
   "cell_type": "code",
   "execution_count": 6,
   "metadata": {},
   "outputs": [
    {
     "name": "stdout",
     "output_type": "stream",
     "text": [
      "Connecting to server ('localhost', 6734)\n",
      "Introduzca el comando a utilizar: put\n",
      "Error, introduce the commands in order: lock,get,put,unlock or exit sending 'bye'\n",
      "Error, introduce the commands in order: lock,get,put,unlock or exit sending 'bye'\n",
      "Introduzca el comando a utilizar: lock\n",
      "Lock OK\n",
      "Introduzca el comando a utilizar: get\n",
      "Hola que talGeneral Kenobi!por fin va a funcionarterminando finalfinaaaaalhola\n",
      "Writing file\n",
      "File successfully written\n",
      "Introduzca el comando a utilizar: put\n",
      "Put OK\n",
      "Introduce text to append: muestra\n",
      "Modifying file\n",
      "Introduzca el comando a utilizar: unlock\n",
      "Done unlocking\n",
      "Introduzca el comando a utilizar: bye\n",
      "Bye Client\n",
      "Connection terminated\n"
     ]
    }
   ],
   "source": [
    "import socket,sys\n",
    "\n",
    "sock=socket.socket(socket.AF_INET, socket.SOCK_STREAM)\n",
    "server_address=(\"localhost\",6734)\n",
    "sock.connect(server_address)\n",
    "#msg=input(\"Introduce message to send: \")\n",
    "name=\"f1.txt\"\n",
    "#msg=\"bye\"\n",
    "\n",
    "print(\"Connecting to server {}\".format(server_address))\n",
    "cmd=\"lock\"\n",
    "\n",
    "while cmd!=\"bye\":\n",
    "    cmd=input(\"Introduzca el comando a utilizar: \")\n",
    "    msg=cmd+\" \"+name\n",
    "   \n",
    "    if cmd==\"lock\":\n",
    "        sock.sendall(msg.encode())\n",
    "        data=sock.recv(1024)\n",
    "        message=data.decode()\n",
    "        print(message)\n",
    "        \n",
    "    elif cmd==\"unlock\":\n",
    "        sock.sendall(msg.encode())\n",
    "        data=sock.recv(1024)\n",
    "        message=data.decode()\n",
    "        print(message)\n",
    "   \n",
    "    elif cmd==\"get\":\n",
    "        sock.sendall(msg.encode())\n",
    "        data=sock.recv(1024)\n",
    "        message=data.decode()\n",
    "        print(message)\n",
    "        \n",
    "        if \"Error\" in message:\n",
    "            print(message)\n",
    "        else:\n",
    "            file= open(\"../client_files/\" + name,\"bw\")\n",
    "            print(\"Writing file\")\n",
    "            file.write(data)\n",
    "            file.close()\n",
    "            print(\"File successfully written\")\n",
    "\n",
    "\n",
    "    elif cmd==\"put\":\n",
    "        sock.sendall(msg.encode())\n",
    "        data=sock.recv(1024)\n",
    "        print(data.decode())\n",
    "        message=data.decode()\n",
    "        if \"Error\" in message:\n",
    "            print(message)\n",
    "        \n",
    "        else:\n",
    "            file= open(\"../client_files/\" + name,\"ba\")\n",
    "            add=input(\"Introduce text to append: \")\n",
    "            print(\"Modifying file\")\n",
    "            file.write(add.encode())\n",
    "            file.close()\n",
    "            file=open(\"../client_files/\" + name,\"br\")\n",
    "            sock.sendall(file.read())\n",
    "        \n",
    "    elif cmd==\"bye\":\n",
    "        msg=\"bye\"\n",
    "        sock.sendall(msg.encode())\n",
    "        data=sock.recv(1024)\n",
    "        message=data.decode()\n",
    "        print(message)\n",
    "        sock.close()\n",
    "        #break\n",
    "print(\"Connection terminated\")"
   ]
  },
  {
   "cell_type": "code",
   "execution_count": null,
   "metadata": {},
   "outputs": [],
   "source": []
  },
  {
   "cell_type": "code",
   "execution_count": null,
   "metadata": {},
   "outputs": [],
   "source": []
  }
 ],
 "metadata": {
  "kernelspec": {
   "display_name": "Python 3",
   "language": "python",
   "name": "python3"
  },
  "language_info": {
   "codemirror_mode": {
    "name": "ipython",
    "version": 3
   },
   "file_extension": ".py",
   "mimetype": "text/x-python",
   "name": "python",
   "nbconvert_exporter": "python",
   "pygments_lexer": "ipython3",
   "version": "3.6.9"
  }
 },
 "nbformat": 4,
 "nbformat_minor": 4
}
