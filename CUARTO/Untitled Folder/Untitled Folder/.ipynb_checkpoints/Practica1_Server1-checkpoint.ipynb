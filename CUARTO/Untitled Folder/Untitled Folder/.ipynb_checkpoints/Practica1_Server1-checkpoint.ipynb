{
 "cells": [
  {
   "cell_type": "markdown",
   "id": "6b0baacb",
   "metadata": {},
   "source": [
    "# PRÁCTICA 1 - UDP"
   ]
  },
  {
   "cell_type": "markdown",
   "id": "2108e37f",
   "metadata": {},
   "source": [
    "SERVIDOR PRUEBA"
   ]
  },
  {
   "cell_type": "code",
   "execution_count": 8,
   "id": "3bdcf799",
   "metadata": {},
   "outputs": [
    {
     "name": "stdout",
     "output_type": "stream",
     "text": [
      "b'Hello, world'\n"
     ]
    },
    {
     "data": {
      "text/plain": [
       "12"
      ]
     },
     "execution_count": 8,
     "metadata": {},
     "output_type": "execute_result"
    }
   ],
   "source": [
    "import socket\n",
    "\n",
    "msg = \"Hello Client\"\n",
    "bytes_tx = str.encode(msg)\n",
    "\n",
    "socket = socket.socket(family=socket.AF_INET, type=socket.SOCK_DGRAM)\n",
    "socket.bind((\"127.0.0.1\",6780))\n",
    "\n",
    "bytes_rx = socket.recvfrom(1024)\n",
    "message = bytes_rx[0]\n",
    "address = bytes_rx[1]\n",
    "print(message)\n",
    "socket.sendto(bytes_tx, address)"
   ]
  },
  {
   "cell_type": "markdown",
   "id": "e77f5a05",
   "metadata": {},
   "source": [
    "# SERVIDOR 1.1"
   ]
  },
  {
   "cell_type": "code",
   "execution_count": null,
   "id": "22fa4bd0",
   "metadata": {},
   "outputs": [
    {
     "name": "stdout",
     "output_type": "stream",
     "text": [
      "b'Hello Server, I am Client 1'\n",
      "b'Hello Server, I am Client 1'\n",
      "b'Hello Server, I am Client 3'\n",
      "b'Hello Server, I am Client 3'\n",
      "b'Hello Server, I am Client 3'\n",
      "b'Hello Server, I am Client 3'\n",
      "b'Hello Server, I am Client 3'\n",
      "b'Hello Server, I am Client 3'\n",
      "b'Hello Server, I am Client 3'\n"
     ]
    }
   ],
   "source": [
    "from socket import *\n",
    "\n",
    "msg = \"Hello Client\"\n",
    "bytes_tx = str.encode(msg)\n",
    "\n",
    "s = socket(AF_INET, SOCK_STREAM)\n",
    "print(\"Serer waiting\")\n",
    "s.bind((\"127.0.0.1\",6780))\n",
    "\n",
    "s.listen(1)\n",
    "\n",
    "while True:\n",
    "    (conn, addr) = s.accept()\n",
    "    data = conn.recv(1024)\n",
    "    conn.send(bytes_tx)\n",
    "    print(data)\n",
    "    conn.close()"
   ]
  },
  {
   "cell_type": "markdown",
   "id": "5cea5884",
   "metadata": {},
   "source": [
    "APARTADO 1.2"
   ]
  },
  {
   "cell_type": "code",
   "execution_count": null,
   "id": "fce4fe59",
   "metadata": {},
   "outputs": [
    {
     "name": "stdout",
     "output_type": "stream",
     "text": [
      "Introduzca el número del puerto (6780 en clientes): \n",
      "6780\n",
      "6780\n",
      "Mensaje del cliente 1 recibido: \n",
      "Hola mundo\n",
      "Longitud del mensaje: \n",
      "10\n",
      "Mensaje del cliente 1 recibido: \n",
      "Hola\n",
      "Longitud del mensaje: \n",
      "4\n",
      "Mensaje del cliente 1 recibido: \n",
      "Hola mundo\n",
      "Longitud del mensaje: \n",
      "10\n"
     ]
    }
   ],
   "source": [
    "import pickle\n",
    "from socket import *\n",
    "\n",
    "msg_servidor = \"Hello Client\"\n",
    "#bytes_tx = str.encode(msg)\n",
    "\n",
    "s = socket(AF_INET, SOCK_STREAM)\n",
    "puerto = 0\n",
    "\n",
    "while(puerto == 0):\n",
    "    try:\n",
    "        print(\"Introduzca el número del puerto (6780 en clientes): \")\n",
    "        puerto = int(input())\n",
    "        print(puerto)\n",
    "    except:\n",
    "        print('El puerto debe ser un numero')\n",
    "\n",
    "s.bind((\"127.0.0.1\", puerto))\n",
    "s.listen(1)\n",
    "while True:\n",
    "    (conn, addr) = s.accept()\n",
    "    data = conn.recv(1024)\n",
    "    msg = pickle.loads(data)\n",
    "    print('Mensaje del cliente ' + str(msg[1]) + ' recibido: ')\n",
    "    print(msg[0])\n",
    "    print('Longitud del mensaje: ')\n",
    "    print(len(msg[0]))\n",
    "    \n",
    "    bytes_tx = pickle.dumps([msg_servidor, len(msg[0])])\n",
    "    conn.send(bytes_tx)\n",
    "    conn.close()"
   ]
  },
  {
   "cell_type": "code",
   "execution_count": null,
   "id": "03c9e199",
   "metadata": {},
   "outputs": [],
   "source": []
  }
 ],
 "metadata": {
  "kernelspec": {
   "display_name": "Python 3 (ipykernel)",
   "language": "python",
   "name": "python3"
  },
  "language_info": {
   "codemirror_mode": {
    "name": "ipython",
    "version": 3
   },
   "file_extension": ".py",
   "mimetype": "text/x-python",
   "name": "python",
   "nbconvert_exporter": "python",
   "pygments_lexer": "ipython3",
   "version": "3.9.7"
  }
 },
 "nbformat": 4,
 "nbformat_minor": 5
}
